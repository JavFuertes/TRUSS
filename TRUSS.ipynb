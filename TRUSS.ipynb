{
 "cells": [
  {
   "cell_type": "markdown",
   "metadata": {},
   "source": [
    "<img \n",
    "    style=\"position: absolute; \n",
    "           left: 60%; \n",
    "           top: 0; /* Added to ensure proper positioning */\n",
    "           height: 900px; \n",
    "           width: 40%; /* Maintain the original width */\n",
    "           object-fit: cover; /* Adjust if necessary */\n",
    "           clip-path: inset(0px 50px 0px 50px round 10px);\" \n",
    "    src=\"https://www.mathworks.com/help/examples/stats/win64/ParellelBayeianOptimizationExample_01.png\" \n",
    "/>\n",
    "</figure>\n",
    "\n",
    "\n",
    "<h1 style=\"width: 60%; color: #EC6842; font-size: 55pt;\">\n",
    "    <Strong>\n",
    "        Bayesian optimization in Truss structures optimisation\n",
    "    </Strong>\n",
    "</h1>\n",
    "\n",
    "<h2 id=\"Background\"><B>\n",
    "    Rationale for the project<a class=\"anchor-link\" href=\"#Background\">&#182;</a>\n",
    "    </B>\n",
    "</h2>\n",
    "<p style=\"text-align: justify; width: 60%; font-weight: normal;\">\n",
    "     Structures that make optimal use of the material they are made of reduces the cost and environmental impact of their construction as the amount of material required. Optimization of structural design is a challenging task because of the high number of design parameters and the relatively expensive evaluation of the suitability of any given design. Standard optimization techniques in high-dimensional design space require a very large number of possible designs that need to be evaluated. In structural analysis, where evaluating the objective function and checking the constraints involves the solution of a structural mechanics problem, e.g. with finite elements, this quickly becomes very expensive, even if the model is relatively simple from structural point of view. Bayesian optimization is a machine-learning-based optimization technique that aims to reduce the number of evaluations of the objective function through data-driven exploration of the design space with a probabilistic surrogate.\n",
    "</p>\n",
    "\n",
    "<h2 id=\"Background\">\n",
    "    <B>Objective & Description:</B><a class=\"anchor-link\" href=\"#Background\">&#182;</a>\n",
    "</h2>\n",
    "\n",
    "<div style=\"width: 60%; border-top: 4px solid #00B8C8; border-left: 4px solid #00B8C8; background-color: #FFFFFF; padding: 1em 1em 1em 1em; color: #24292E; margin: 10px 0 20px 0; box-sizing: border-box;\">\n",
    "    <div style=\"background-color: #00B8C8; color: white; padding: 0.2em 1em; margin: -1em -1em 0em -1em; font-size: 1.2em;\"><strong>Project Objective:</strong> To find the optimal truss design</div>\n",
    "    <p>\n",
    "    To achieve so this project requires to find the optimal set of nodal coordinates and cross-sectional properties. Achieving so will allow to minimize as much as possible the total weight of the structure, while satisfying a number of constraints relating to the structures natural frequencies. Achieving a low mass solutions that also satisfies the natural frequencies constraints established demonstrates a methodology to make structures more efficient and safe since we are achieving to use less material in a way that still ensures the structural integrity of the structure. Moreover, this project will also aim to explore the efficacy of current optimisation methods and potentially improvements to be achieved from implementing machine learning methods.\n",
    "    </p>\n",
    "</div>"
   ]
  },
  {
   "cell_type": "markdown",
   "metadata": {},
   "source": [
    "## <strong> X | Imports</strong>"
   ]
  },
  {
   "cell_type": "code",
   "execution_count": 1,
   "metadata": {
    "tags": [
     "hide"
    ]
   },
   "outputs": [],
   "source": [
    "import sys\n",
    "import io\n",
    "import os\n",
    "import pickle\n",
    "import numpy as np\n",
    "import pandas as pd\n",
    "import torch"
   ]
  },
  {
   "cell_type": "code",
   "execution_count": 3,
   "metadata": {},
   "outputs": [],
   "source": [
    "# ----------------------------------- BOPT ----------------------------------- #\n",
    "from botorch.utils.transforms import normalize\n",
    "from botorch.utils.transforms import unnormalize\n",
    "from botorch.models import SingleTaskGP\n",
    "from botorch.fit import fit_gpytorch_model\n",
    "from gpytorch.mlls import ExactMarginalLogLikelihood\n",
    "from botorch.acquisition import ExpectedImprovement\n",
    "from botorch.optim import optimize_acqf\n",
    "\n",
    "from tabulate import tabulate\n",
    "from contextlib import redirect_stdout\n",
    "from sklearn.preprocessing import MinMaxScaler\n",
    "import matplotlib.pyplot as plt\n",
    "import plotly.express as px\n",
    "import plotly.graph_objects as go"
   ]
  },
  {
   "cell_type": "code",
   "execution_count": 4,
   "metadata": {},
   "outputs": [],
   "source": [
    "# ------------------------------- LOCAL IMPORTS ------------------------------ #\n",
    "sys.path.append('../TRUSS1/truss_bridge')\n",
    "from dash import Dash, dcc, html, Input, Output\n",
    "from TRUSS_convergence import plot_truss_layout, get_truss_data_for_iteration, loss_function_figure\n",
    "\n",
    "sys.path.append('../TRUSS1/pyJive/')\n",
    "import main\n",
    "from utils import proputils as pu\n",
    "from names import GlobNames as gn"
   ]
  },
  {
   "cell_type": "markdown",
   "metadata": {},
   "source": [
    "## <strong> 0 | Classes & Dependencies</strong>\n",
    "\n",
    "This project initially had two main classes:\n",
    "\n",
    "1. **TRUSS**:\n",
    "<br>A class primarily concerned with stroing the TRUSSES characteristics and processing function allowing for the manipulation either for optimisation or data exploration.\n",
    "Most importantly this class also included the loss function from which the algorithm relies upon. The structure of this function is the following,"
   ]
  },
  {
   "cell_type": "code",
   "execution_count": 5,
   "metadata": {},
   "outputs": [],
   "source": [
    "class TRUSS():\n",
    "    def __init__(self, file_path, file_name, output_path, write_name, violation_penalty, scalers, bounds, lower_area=4e-3, freq_constraints=[20, 40, 60], mass_weight=1, freq_weight=1):\n",
    "        # Configuration Parameters\n",
    "        self.config = {\n",
    "            \"read_file_path\": file_path,\n",
    "            \"read_file_name\": file_name,\n",
    "            \"write_file_path\": output_path,\n",
    "            \"write_file_name\": write_name,\n",
    "            \"violation_penalty\": violation_penalty,\n",
    "            \"scalers\": {\"y\": scalers[0], \"a\": scalers[1]},\n",
    "            \"lower_area\": lower_area,\n",
    "            \"bounds\" : bounds,\n",
    "            \"freq_constraints\": freq_constraints,\n",
    "            \"mass_weight\": mass_weight,\n",
    "            \"freq_weight\": freq_weight,\n",
    "            \"density\": 7850,  # kg/m^3 As per Garnachos\n",
    "        }\n",
    "\n",
    "        self.state = {\n",
    "            \"nodes\": {},\n",
    "            \"connectivity\": None,\n",
    "            \"member_df\": None,\n",
    "            \"y_coordinates\": None,\n",
    "            \"x_coordinates\": None,\n",
    "            \"cross_sections\": None,\n",
    "            \"lengths\": None,\n",
    "            \"mass_norm\": 360,\n",
    "            \"monitor_df\": None\n",
    "        }\n",
    "\n",
    "        self.columns = [\"Metric\", \"Total Loss\", \"Natural Frequencies\", \"Mass of Truss\", \"Normalized Mass Loss\", \"Frequency Penalty\", \"Constraint Violation (Loss No W)\"]\n",
    "        self.state[\"monitor_df\"] = pd.DataFrame(columns=self.columns)\n",
    "    # -------------------------- Import & Writing Files -------------------------- #\n",
    "    def read_geom_file(self):\n",
    "        path = os.path.normpath(os.path.join(self.config[\"read_file_path\"], self.config[\"read_file_name\"]))\n",
    "        with open(path, 'r') as file:\n",
    "            lines = file.readlines()\n",
    "\n",
    "        nodes = {}\n",
    "        members = []\n",
    "        section = None\n",
    "\n",
    "        for line in lines:\n",
    "            line = line.strip()\n",
    "            if line.startswith('node:'):\n",
    "                section = 'node'\n",
    "            elif line.startswith('member:'):\n",
    "                section = 'member'\n",
    "            else:\n",
    "                if section == 'node' and line:\n",
    "                    parts = line.split()\n",
    "                    node_number = int(parts[0])\n",
    "                    node_data = tuple(map(float, parts[1:]))\n",
    "                    nodes[node_number] = node_data\n",
    "                elif section == 'member' and line:\n",
    "                    member_data = tuple(map(int, line.split()))\n",
    "                    members.append(member_data)\n",
    "\n",
    "        self.state[\"nodes\"] = nodes\n",
    "        self.state[\"member_df\"] = pd.DataFrame(members, columns=['Node #1', 'Node #2', 'Number of Elements', 'Cross-section Type'])\n",
    "\n",
    "        connectivity = self.state[\"member_df\"].to_numpy()\n",
    "        self.state[\"connectivity\"] = connectivity[:, :2]\n",
    "        self.state[\"y_coordinates\"] = np.array([value[1] for _, value in nodes.items()])\n",
    "        self.state[\"x_coordinates\"] = np.array([value[0] for _, value in nodes.items()])\n",
    "\n",
    "    def write_geom_file(self,path_,write_file): \n",
    "        path = os.path.normpath(os.path.join(path_,write_file))\n",
    "        file = open(path)\n",
    "\n",
    "        for i, (x, _) in self.state[\"nodes\"].items():\n",
    "            self.state[\"nodes\"][i] = (x, self.state[\"y_coordinates\"][i])\n",
    "\n",
    "        geom = 'node: node #, x-coordinate; y-coordinate\\n'\n",
    "        for node_num, coords in self.state[\"nodes\"].items():\n",
    "            geom += f\"{node_num} {' '.join(map(str, coords))}\\n\"\n",
    "        \n",
    "        connectivity = self.state[\"member_df\"].to_numpy()\n",
    "        geom += '\\nmember: Node #1; Node #2; number of elements; cross-section type\\n'\n",
    "        for row in connectivity:\n",
    "            geom += ' '.join(map(str, row)) + '\\n'\n",
    "\n",
    "        output_file_path = os.path.normpath(os.path.join(path_,'TRUSS.geom'))\n",
    "        with open(output_file_path, 'w') as file:\n",
    "            file.write(geom)\n",
    "            \n",
    "        return file.name\n",
    "    \n",
    "    def fit_scalers(self, initial_data):\n",
    "        y_data = initial_data[:5].reshape(1, -1).T\n",
    "        a_data = initial_data[5:].reshape(1, -1).T\n",
    "        self.config[\"scalers\"][\"y\"].fit(y_data)\n",
    "        self.config[\"scalers\"][\"a\"].fit(a_data)\n",
    "\n",
    "    def scaler(self, mode, x_values, scaler_type):\n",
    "        scaler = self.config[\"scalers\"][scaler_type]\n",
    "        x_values = x_values.reshape(1, -1).T\n",
    "        if mode == 'scale':\n",
    "            scaled_values = scaler.transform(x_values)\n",
    "        elif mode == 'descale':\n",
    "            scaled_values = scaler.inverse_transform(x_values)\n",
    "        return scaled_values.flatten()\n",
    "    \n",
    "    def areas_coordinates_write_split(self, x_list):        \n",
    "        y_coordinates = np.copy(self.state[\"y_coordinates\"])  # Use a copy to avoid modifying the original array directly\n",
    "        areas = x_list[5:]\n",
    "        y_coords = x_list[:5]\n",
    "        for i, y in enumerate(y_coords, start=1):\n",
    "            y_coordinates[2 * i] = y\n",
    "            y_coordinates[20 - 2 * i] = y\n",
    "\n",
    "        self.state[\"y_coordinates\"] = y_coordinates  # Update state\n",
    "\n",
    "        return areas, y_coords\n",
    "    # ---------------------------------------------------------------------------- #\n",
    "    #                                TARGET FUNCTION                               #\n",
    "    # ---------------------------------------------------------------------------- #\n",
    "    def loss_function(self, x_list):\n",
    "        \"\"\"\n",
    "        Calculate the loss for a given set of design parameters.\n",
    "        Parameters:\n",
    "        x_list (list): A list of design parameters.\n",
    "        Returns:\n",
    "        float: The calculated loss based on mass, frequency constraints, and imaginary penalties.\n",
    "        \"\"\"\n",
    "        if isinstance(x_list,torch.Tensor):\n",
    "            x_list = x_list.detach().cpu().numpy().flatten()\n",
    "            self.temporary = x_list\n",
    "        \n",
    "        A_list, y_list = self.areas_coordinates_write_split(x_list)\n",
    "        mass_truss = self.mass_truss(A_list, y_list)\n",
    "        freq1, freq2, freq3 = self.eigenfrequencies(A_list)\n",
    "        frequencies = np.array([freq1, freq2, freq3])\n",
    "\n",
    "        freq_penalty = 0\n",
    "        all_positive = True\n",
    "        for f, t in zip(frequencies, self.config[\"freq_constraints\"]):\n",
    "            diff = f - t\n",
    "            penalty_factor = 1 if diff >= 0 else self.config[\"violation_penalty\"]\n",
    "            freq_penalty += penalty_factor * (np.abs(diff) / t)\n",
    "            if diff < 0:\n",
    "                all_positive = False\n",
    "        \n",
    "        if all_positive:\n",
    "            self.state[\"mass_norm\"] = min(mass_truss, self.state[\"mass_norm\"])\n",
    "\n",
    "        normalized_mass_penalty = (mass_truss - self.state[\"mass_norm\"]) / self.state[\"mass_norm\"]\n",
    "        normalized_freq_penalty = freq_penalty / len(self.config[\"freq_constraints\"])\n",
    "        constraint_violation = normalized_freq_penalty + normalized_mass_penalty\n",
    "\n",
    "        LOSS = (self.config[\"mass_weight\"] * normalized_mass_penalty +\n",
    "                self.config[\"freq_weight\"] * normalized_freq_penalty)\n",
    "        # -------------------------- Optimisation monitoring ------------------------- #\n",
    "        optmonitor_data = [\n",
    "            [\"Metric\",\"Total Loss\", \"Natural Frequencies\", \"Mass of Truss\", \"Normalized Mass Loss\", \"Frequency Penalty\", \"Constraint Violation (Loss No W)\"],\n",
    "            [\"Value\",LOSS, frequencies, mass_truss, normalized_mass_penalty, normalized_freq_penalty, constraint_violation]\n",
    "        ]\n",
    "        print(f'{tabulate(optmonitor_data, headers=\"firstrow\", tablefmt=\"grid\")}\\n')\n",
    "        \n",
    "        row_data = optmonitor_data[1][0:]\n",
    "        new_data = pd.DataFrame([row_data], columns=self.columns)\n",
    "        self.state[\"monitor_df\"] = pd.concat([self.state[\"monitor_df\"], new_data], ignore_index=True)\n",
    "         \n",
    "        return LOSS\n",
    "\n",
    "    # ----------------------------- SUPPORT FUNCTIONS ---------------------------- #\n",
    "    def eigenfrequencies(self,A_list):\n",
    "        path = os.path.normpath(os.path.join(self.config[\"read_file_path\"], 'bridge_frequency.pro'))\n",
    "        \n",
    "        props = pu.parse_file(path)\n",
    "        props['model']['truss']['area'] = A_list\n",
    "        props['init']['mesh']['file'] = self.write_geom_file(self.config[\"write_file_path\"], self.config[\"write_file_name\"])\n",
    "        \n",
    "        trap = io.StringIO()\n",
    "        with redirect_stdout(trap):\n",
    "            globdat = main.jive(props)\n",
    "        \n",
    "        return (globdat[gn.EIGENFREQS][0:3] / 2 / np.pi)\n",
    "\n",
    "    def mass_truss(self,areas, y_list):\n",
    "        x_coordinates = self.state[\"x_coordinates\"]\n",
    "        y_coordinates = self.state[\"y_coordinates\"]\n",
    "        \n",
    "        for i, y in enumerate(y_list, start=1):\n",
    "            y_coordinates[2 * i] = y\n",
    "            y_coordinates[20 - 2 * i] = y\n",
    "\n",
    "        coordinates = list(zip(x_coordinates, y_coordinates))\n",
    "        lengths = np.zeros(len(self.state[\"connectivity\"]))\n",
    "        for i, (node1, node2) in enumerate(self.state[\"connectivity\"]):\n",
    "            x1, y1 = coordinates[node1]  # Adjusting index to start from 0\n",
    "            x2, y2 = coordinates[node2]\n",
    "            lengths[i] = np.sqrt((x2 - x1) ** 2 + (y2 - y1) ** 2)\n",
    "\n",
    "        n_elements = self.state[\"member_df\"].iloc[:,2].sum()\n",
    "        areas_i = np.zeros(n_elements)\n",
    "        cross_section_number = self.state[\"member_df\"].iloc[:,-1] \n",
    "        \n",
    "        for i,item in enumerate(cross_section_number):\n",
    "                areas_i[i] = areas[item]\n",
    "        self.temporary = areas_i\n",
    "        self.state[\"cross_sections\"] = areas[:15]\n",
    "        self.state[\"lengths\"] = lengths\n",
    "\n",
    "        volumes = lengths * areas_i\n",
    "        total_volume = np.sum(volumes)\n",
    "        dens = 7800\n",
    "        mass = total_volume * dens\n",
    "\n",
    "        return mass\n",
    "    # ----------------------------------- OTHER ---------------------------------- #\n",
    "    def Write_call_state(self, x, final= True):\n",
    "        if final:\n",
    "            mask = self.state[\"monitor_df\"][\"Natural Frequencies\"][:].apply(lambda x: (x >= self.config[\"freq_constraints\"]).all())\n",
    "            ind = self.state[\"monitor_df\"][mask][\"Mass of Truss\"].idxmin()\n",
    "            min_mass_iter = self.state[\"monitor_df\"].iloc[ind]\n",
    "            x_update = unnormalize(x[ind], bounds= self.config[\"bounds\"].T)\n",
    "        else:\n",
    "            x_update = unnormalize(x, bounds= self.config[\"bounds\"].T)\n",
    "        # ------------------------------- Update state ------------------------------- #\n",
    "        areas ,y_coords = self.areas_coordinates_write_split(x_update) # Serves to update coordinates\n",
    "        _ = self.mass_truss(areas, y_coords) # Serves to update cross_sections and lengths\n",
    "        path_wr = self.write_geom_file(self.config[\"write_file_path\"], 'TRUSS.geom') # Serves to update GEOM\n",
    "        # --------------------------------- Call geom -------------------------------- #\n",
    "        path = os.path.normpath(os.path.join(self.config[\"write_file_path\"],'bridge_frequency_truss.pro'))\n",
    "        props = pu.parse_file(path)\n",
    "        props['model']['truss']['area'] = self.state[\"cross_sections\"]\n",
    "        props['init']['mesh']['file'] = path_wr\n",
    "        trap = io.StringIO()\n",
    "        with redirect_stdout(trap):\n",
    "            globdat = main.jive(props)\n",
    "        if final:\n",
    "            print(f'TRUSS NFs:{(globdat[gn.EIGENFREQS][0:3] / 2 / np.pi)} and Mass:{min_mass_iter}')\n",
    "\n",
    "    def Initial_guess(self, optim_dims):\n",
    "        sampled_points = np.zeros(len(optim_dims))\n",
    "        for i, dim_index in enumerate(optim_dims):\n",
    "            lower_bound, upper_bound = self.config[\"bounds\"][i]\n",
    "            sampled_points[i] = np.random.uniform(lower_bound, upper_bound)\n",
    "        return sampled_points\n",
    "    \n",
    "    def objective_function(self, x):\n",
    "        \"\"\"\n",
    "        Evaluates the objective function using another object's method.\n",
    "        \"\"\"\n",
    "        return self.loss_function(x)\n",
    "    "
   ]
  },
  {
   "cell_type": "markdown",
   "metadata": {},
   "source": [
    "2. **Bayesian optimiser**: \n",
    "<br>A class which was the self-developed optimiser originally intended to use. Due to project time constraints this was left aside since the convergence time of this solution was not so good and more resembled and informed random walk. Furhter exploration of the behaviour of the optimiser seemed to show difficulties in the gaussian process in capturing the uncertainty in the multi-dimensional solution space which did not allow for efficient exploration.\n",
    "\n",
    "    The code for the TRUSS´s project bayesian optimiser class can be found in [TRUSS BOPT](truss_bridge/TRUSS_Bopt.py)"
   ]
  },
  {
   "cell_type": "markdown",
   "metadata": {},
   "source": [
    "## <strong> 1 | Inititation of objects and attributes</strong>"
   ]
  },
  {
   "cell_type": "code",
   "execution_count": 5,
   "metadata": {},
   "outputs": [],
   "source": [
    "# -------------------------------- Definitions ------------------------------- #\n",
    "read_file_path = '../TRUSS1/truss_bridge/data'\n",
    "read_file = 'bridge.geom'\n",
    "write_file_path =  '../TRUSS1/truss_bridge/data/@TRUSS'\n",
    "write_file = 'TRUSS.geom'\n",
    "optim_dims = [i for i in range(20)]  \n",
    "lower_area = 40e-4\n",
    "violation_factor = 6\n",
    "freq_constraints = [20,40,60]\n",
    "mass_weight = 2.5\n",
    "freq_weight = 6.0\n",
    "A_bound = (0.0001, 0.01)\n",
    "y_bound = (0.5, 2)\n",
    "scalers = [MinMaxScaler(),MinMaxScaler()] \n",
    "bounds = np.array([y_bound if index <= 4 else A_bound for index in optim_dims])\n",
    "bounds[5] = (lower_area - A_bound[0], lower_area + A_bound[0])\n",
    "\n",
    "TRUSS1= TRUSS(read_file_path,\n",
    "               read_file,\n",
    "                write_file_path,\n",
    "                write_file,\n",
    "                violation_factor,\n",
    "                scalers,\n",
    "                bounds,\n",
    "                freq_constraints= freq_constraints, \n",
    "                mass_weight= mass_weight, \n",
    "                freq_weight= freq_weight)\n",
    "TRUSS1.read_geom_file()"
   ]
  },
  {
   "cell_type": "code",
   "execution_count": 6,
   "metadata": {},
   "outputs": [],
   "source": [
    "# -------------------------------- Initiation -------------------------------- #\n",
    "n_samples =  10\n",
    "x_list = []\n",
    "y_list = []\n",
    "x_list_sc = []\n",
    "x_0 = np.empty(len(optim_dims))\n",
    "\n",
    "for _ in range(n_samples):\n",
    "    x_c = np.copy(x_0) # Reset seed\n",
    "    x_random = TRUSS1.Initial_guess(optim_dims)\n",
    "    x_c[optim_dims] = x_random\n",
    "    x_list.append(x_c)\n",
    "# \n",
    "trap = io.StringIO()\n",
    "with redirect_stdout(trap):\n",
    "    for x in x_list:\n",
    "        LOSS = TRUSS1.loss_function(x)\n",
    "        y_list.append(LOSS)\n",
    "# \n",
    "# ---------------------------- INITIATE OPTIMISER ---------------------------- #\n",
    "bounds = torch.tensor(bounds.T)  \n",
    "y_init_t = torch.tensor(y_list).reshape(-1,1)"
   ]
  },
  {
   "cell_type": "markdown",
   "metadata": {},
   "source": [
    "## <strong> 2 | Optimisation </strong>"
   ]
  },
  {
   "cell_type": "markdown",
   "metadata": {},
   "source": [
    "### <strong> 2.1 | Single task Optimisation </strong>\n",
    "\n",
    "After some experimentation the best performing algorithm despite not having or relying on as strong probabilistic interpretation as the SAAS model. This has been true for this dimension space since the computational complexity of the probabilistic model dowgrades its convergence time, in other words the searched solution space can be solved through a simpler bayesian optimisation approach. Other findings included how the algorithm coverges faster to a solution with smaller batch sizes this is potentially since the bounds and constraints introduced are already quite small and also potentially indicating there isnt that many locations with local minima and therefore a smoother overall solution space."
   ]
  },
  {
   "cell_type": "code",
   "execution_count": 7,
   "metadata": {},
   "outputs": [],
   "source": [
    "def SingleBOPT(Y_init_single, X_init_single, n_iter, batch_size, Nrestats, objective_function):\n",
    "    gp_model = SingleTaskGP(X_init_single, Y_init_single)\n",
    "    mll = ExactMarginalLogLikelihood(gp_model.likelihood, gp_model)\n",
    "    fit_gpytorch_model(mll)\n",
    "    gp_model.set_train_data(inputs=X_init_single, targets=Y_init_single.flatten(), strict=False)\n",
    "    \n",
    "    for iteration in range(n_iter):\n",
    "        print(f'Iteration: {iteration} Best loss = {Y_init_single.min().item():.2f}\\n')\n",
    "        acq_func = ExpectedImprovement(model=gp_model, best_f=Y_init_single.min(), maximize=False)\n",
    "        new_x, _ = optimize_acqf(\n",
    "            acq_function=acq_func,\n",
    "            bounds=bounds,\n",
    "            q=1,\n",
    "            num_restarts= Nrestats,\n",
    "            raw_samples= batch_size,\n",
    "        )\n",
    "        new_x_unnorm = unnormalize(new_x, bounds=bounds)\n",
    "        new_y = objective_function(new_x_unnorm)\n",
    "        new_y = torch.tensor(new_y, dtype=torch.float32).reshape(1,-1)\n",
    "        X_init_single = torch.cat([X_init_single, new_x])\n",
    "        Y_init_single = torch.cat([Y_init_single, new_y])\n",
    "        \n",
    "        gp_model.set_train_data(inputs=X_init_single, targets=Y_init_single.flatten(), strict=False)\n",
    "        fit_gpytorch_model(mll)\n",
    "    return X_init_single, Y_init_single"
   ]
  },
  {
   "cell_type": "markdown",
   "metadata": {},
   "source": [
    "Through the following cell we run the BOPT,"
   ]
  },
  {
   "cell_type": "code",
   "execution_count": null,
   "metadata": {},
   "outputs": [],
   "source": [
    "objective_function = TRUSS1.loss_function\n",
    "n_iter = 50\n",
    "batch_size = 15\n",
    "Nrestats = 10\n",
    "\n",
    "X_init_single , Y_init_single = SingleBOPT(Y_init_single, X_init_single, n_iter, batch_size, Nrestats, objective_function)"
   ]
  },
  {
   "cell_type": "markdown",
   "metadata": {},
   "source": [
    "### <strong> 2.2 | Read and Write Data </strong>"
   ]
  },
  {
   "cell_type": "code",
   "execution_count": 5,
   "metadata": {
    "tags": [
     "hide"
    ]
   },
   "outputs": [],
   "source": [
    "# -------------------------- SAVE DATA !!DO NOT RUN -------------------------- #\n",
    "# file_name = \"TRUSS1_bopt_data.pkl\"\n",
    "# path_s = os.path.normpath(os.path.join(write_file_path, file_name))\n",
    "\n",
    "# data_single = {\n",
    "#     \"Y_init_single\": Y_init_single,\n",
    "#     \"X_init_single\": X_init_single,\n",
    "#     \"n_iter\": n_iter,\n",
    "#     \"batch_size\": batch_size,\n",
    "#     \"Nrestats\": Nrestats,\n",
    "#     \"X_single\": X_init_single,\n",
    "#     \"Y_single\": Y_init_single,\n",
    "#     \"TRUSS\": TRUSS1\n",
    "# }\n",
    "# data_to_save = [data_single]\n",
    "\n",
    "# with open(path_s, 'wb') as file:\n",
    "#     pickle.dump(data_to_save, file)"
   ]
  },
  {
   "cell_type": "code",
   "execution_count": 13,
   "metadata": {
    "tags": []
   },
   "outputs": [
    {
     "name": "stderr",
     "output_type": "stream",
     "text": [
      "c:\\Program Files\\Python310\\@Environments\\TUD-JF\\lib\\site-packages\\sklearn\\base.py:318: UserWarning: Trying to unpickle estimator MinMaxScaler from version 1.4.0 when using version 1.2.2. This might lead to breaking code or invalid results. Use at your own risk. For more info please refer to:\n",
      "https://scikit-learn.org/stable/model_persistence.html#security-maintainability-limitations\n",
      "  warnings.warn(\n"
     ]
    }
   ],
   "source": [
    "read_file_path = write_file_path =  '../TRUSS1/truss_bridge/data/@TRUSS/visualisation'\n",
    "read_file = write_file = 'TRUSS.geom'\n",
    "\n",
    "TRUSSDummy = TRUSS(read_file_path,\n",
    "               read_file,\n",
    "                write_file_path,\n",
    "                write_file,\n",
    "                violation_factor,\n",
    "                scalers,\n",
    "                bounds,\n",
    "                freq_constraints= freq_constraints, \n",
    "                mass_weight= mass_weight, \n",
    "                freq_weight= freq_weight)\n",
    "TRUSSDummy.read_geom_file()\n",
    "\n",
    "file_name = \"TRUSS1_bopt_data.pkl\"\n",
    "write_file_path =  '../TRUSS1/truss_bridge/data/@TRUSS/.pkl'\n",
    "path_s = os.path.normpath(os.path.join(write_file_path, file_name))\n",
    "with open(path_s, 'rb') as file:\n",
    "    loaded_data = pickle.load(file)\n",
    "# --------------------------------- variables -------------------------------- #\n",
    "data_single = loaded_data[0]\n",
    "Y_init_single = data_single[\"Y_init_single\"]\n",
    "X_init_single = data_single[\"X_init_single\"]\n",
    "n_iter = data_single[\"n_iter\"]\n",
    "batch_size = data_single[\"batch_size\"]\n",
    "Nrestats = data_single[\"Nrestats\"]\n",
    "X_init_single = data_single[\"X_single\"]\n",
    "Y_init_single = data_single[\"Y_single\"]\n",
    "TRUSSDummy = data_single[\"TRUSS\"]"
   ]
  },
  {
   "cell_type": "markdown",
   "metadata": {},
   "source": [
    "## <strong> 3 | Results </strong>"
   ]
  },
  {
   "cell_type": "markdown",
   "metadata": {},
   "source": [
    "### <strong> 3.1 | TRUSS Run </strong>\n",
    "\n",
    "The following figure illustrates the explored truss shapes  by the bayesian optimiser in its convergence path. As a note, it can be seen that the lowest mass and the deemed best solution in the following code cells is not neccessarily the solution with the lowest loss function. This illustrates how there can still be improvements made to the loss function. "
   ]
  },
  {
   "cell_type": "code",
   "execution_count": 14,
   "metadata": {
    "tags": [
     "hide"
    ]
   },
   "outputs": [],
   "source": [
    "total_loss = TRUSSDummy.state[\"monitor_df\"][\"Total Loss\"]\n",
    "TRUSSDummy.config[\"write_file_path\"] = '../TRUSS1/truss_bridge/data/@TRUSS/visualisation'\n",
    "fig = loss_function_figure(total_loss)\n",
    "\n",
    "layout={\n",
    "    'title': 'Hover over a point in the loss function to see the truss layout',\n",
    "    'height': 500,  \n",
    "    'width': 1000,  \n",
    "    'plot_bgcolor': 'white',  \n",
    "    'paper_bgcolor': 'white',  \n",
    "}\n",
    "\n",
    "app = Dash(__name__)\n",
    "app.layout = html.Div([\n",
    "    html.Div([\n",
    "        dcc.Graph(id='truss-layout', figure=go.Figure()),  \n",
    "    ], style={'display': 'inline-block', 'width': '55%'}),\n",
    "    \n",
    "    html.Div([\n",
    "        dcc.Graph(id='loss-function', figure=fig),\n",
    "    ], style={'display': 'inline-block', 'width': '40%'}),\n",
    "], style={'width': '1500px'})\n",
    "\n",
    "@app.callback(\n",
    "    Output('truss-layout', 'figure'),\n",
    "    [Input('loss-function', 'hoverData')]\n",
    ")\n",
    "\n",
    "def update_truss_layout(hoverData):\n",
    "    if hoverData is not None:\n",
    "        point_index = hoverData['points'][0]['pointIndex']\n",
    "        nodes, member_df = get_truss_data_for_iteration(TRUSSDummy, X_init_single, point_index)\n",
    "        return plot_truss_layout(nodes, member_df)\n",
    "    return go.Figure(layout= layout)"
   ]
  },
  {
   "cell_type": "code",
   "execution_count": 15,
   "metadata": {},
   "outputs": [
    {
     "data": {
      "text/html": [
       "\n",
       "        <iframe\n",
       "            width=\"100%\"\n",
       "            height=\"650\"\n",
       "            src=\"http://127.0.0.1:8050/\"\n",
       "            frameborder=\"0\"\n",
       "            allowfullscreen\n",
       "            \n",
       "        ></iframe>\n",
       "        "
      ],
      "text/plain": [
       "<IPython.lib.display.IFrame at 0x183ab562e00>"
      ]
     },
     "metadata": {},
     "output_type": "display_data"
    }
   ],
   "source": [
    "app.run_server(debug=True)"
   ]
  },
  {
   "cell_type": "markdown",
   "metadata": {},
   "source": [
    "### <strong> 3.2 | Investigating the variance in solution paths </strong>\n",
    "\n",
    "Investigating the solution path we can observe how there is a very big variance between specific runs although this is moreso uncommon it demonstrates how unlike Kanarachos perhaps our Bopt solver is not as resilient to changing solution spaces. This is particularly an issue in our case since our solution space will change depending on the hyperparameters of our loss function. It is therefore important to account well for such behaviour."
   ]
  },
  {
   "cell_type": "code",
   "execution_count": 10,
   "metadata": {},
   "outputs": [],
   "source": [
    "num_runs = 5\n",
    "n_iter_comparison = 50\n",
    "# ------------------------- IMPORT ENSEMBLE LOOP DATA ------------------------ #\n",
    "file_name = \"TRUSS1_ensemble_data.pkl\"\n",
    "path_s = os.path.normpath(os.path.join(write_file_path, file_name))\n",
    "with open(path_s, 'rb') as file:\n",
    "    loaded_data = pickle.load(file)\n",
    "    data = loaded_data[0]\n",
    "\n",
    "results_single = data[\"results_single\"]\n",
    "mean_single =  data[\"mean_single\"]\n",
    "std_single = data[\"std_single\"]\n",
    "\n",
    "# ----------------------------- RUN ENSEMBLE LOOP ---------------------------- #\n",
    "# results_single = np.zeros((num_runs, n_iter_comparison))\n",
    "# Y_init_bpt , X_init_bpt = y_init_t, X_init_norm\n",
    "\n",
    "# for i in range(num_runs):\n",
    "#     _, Y_init_p = SingleBOPT(Y_init_bpt, X_init_bpt, n_iter_comparison, batch_size, Nrestats)\n",
    "#     results_single[i, :] = Y_init_p[n_samples:].flatten()\n",
    "# mean_single = np.mean(results_single, axis=0)\n",
    "# std_single = np.std(results_single, axis=0)\n",
    "\n",
    "results_single = results_single.T  \n",
    "mean_single = results_single.mean(axis=1)\n",
    "std_single = results_single.std(axis=1)\n",
    "confidence_interval = 1.96 * (std_single / np.sqrt(num_runs))"
   ]
  },
  {
   "cell_type": "code",
   "execution_count": 17,
   "metadata": {
    "tags": [
     "hide-input"
    ]
   },
   "outputs": [
    {
     "data": {
      "application/vnd.plotly.v1+json": {
       "config": {
        "plotlyServerURL": "https://plot.ly"
       },
       "data": [
        {
         "line": {
          "color": "rgba(30, 136, 229, 0.2)"
         },
         "mode": "lines",
         "name": "Run 1",
         "type": "scatter",
         "x": [
          0,
          1,
          2,
          3,
          4,
          5,
          6,
          7,
          8,
          9,
          10,
          11,
          12,
          13,
          14,
          15,
          16,
          17,
          18,
          19,
          20,
          21,
          22,
          23,
          24,
          25,
          26,
          27,
          28,
          29,
          30,
          31,
          32,
          33,
          34,
          35,
          36,
          37,
          38,
          39,
          40,
          41,
          42,
          43,
          44,
          45,
          46,
          47,
          48,
          49
         ],
         "y": [
          23.685209274291992,
          34.29806900024414,
          5.268447399139404,
          5.057435989379883,
          4.9203267097473145,
          5.387904167175293,
          4.259349346160889,
          4.445407867431641,
          9.410887718200684,
          4.7175612449646,
          6.693123817443848,
          3.8237998485565186,
          5.802593231201172,
          5.743268013000488,
          4.139566898345947,
          4.06007194519043,
          3.5563125610351562,
          5.082597732543945,
          17.570411682128906,
          18.123838424682617,
          29.518678665161133,
          3.7523436546325684,
          16.69744110107422,
          19.760557174682617,
          6.025026321411133,
          16.947172164916992,
          37.34002685546875,
          13.716972351074219,
          25.62188148498535,
          3.358133316040039,
          3.762239694595337,
          20.556171417236328,
          25.720664978027344,
          3.0469577312469482,
          3.3809916973114014,
          2.653419256210327,
          2.0288944244384766,
          1.4776674509048462,
          2.0163025856018066,
          3.1090481281280518,
          1.9822956323623657,
          2.1618893146514893,
          2.4579977989196777,
          1.3185253143310547,
          1.3088377714157104,
          0.951837420463562,
          0.3767947256565094,
          0.29851996898651123,
          0.234829381108284,
          0.076338030397892
         ]
        },
        {
         "line": {
          "color": "rgba(30, 136, 229, 0.30000000000000004)"
         },
         "mode": "lines",
         "name": "Run 2",
         "type": "scatter",
         "x": [
          0,
          1,
          2,
          3,
          4,
          5,
          6,
          7,
          8,
          9,
          10,
          11,
          12,
          13,
          14,
          15,
          16,
          17,
          18,
          19,
          20,
          21,
          22,
          23,
          24,
          25,
          26,
          27,
          28,
          29,
          30,
          31,
          32,
          33,
          34,
          35,
          36,
          37,
          38,
          39,
          40,
          41,
          42,
          43,
          44,
          45,
          46,
          47,
          48,
          49
         ],
         "y": [
          10.226249694824219,
          9.545304298400879,
          11.166484832763672,
          7.216701507568359,
          6.610424518585205,
          12.60735034942627,
          6.213037014007568,
          8.993532180786133,
          5.365880966186523,
          8.372407913208008,
          6.165050029754639,
          7.089226245880127,
          6.0837721824646,
          5.782270908355713,
          7.351611614227295,
          6.65125846862793,
          6.114677906036377,
          6.865415096282959,
          5.962043285369873,
          8.834352493286133,
          5.44760274887085,
          6.398922443389893,
          9.689955711364746,
          6.026005268096924,
          5.467111110687256,
          4.843216896057129,
          6.44218635559082,
          3.3710310459136963,
          2.1891963481903076,
          2.6052701473236084,
          2.0218889713287354,
          1.371715784072876,
          1.8504958152770996,
          2.0141608715057373,
          1.4321668148040771,
          1.6850506067276,
          2.058624029159546,
          5.405184745788574,
          1.2423529624938965,
          3.7022879123687744,
          1.2698289155960083,
          1.3696403503417969,
          0.8767893314361572,
          0.8133008480072021,
          0.2802834212779999,
          0.2902548611164093,
          0.32109901309013367,
          1.5156861543655396,
          0.9890535473823547,
          0.7185472846031189
         ]
        },
        {
         "line": {
          "color": "rgba(30, 136, 229, 0.4)"
         },
         "mode": "lines",
         "name": "Run 3",
         "type": "scatter",
         "x": [
          0,
          1,
          2,
          3,
          4,
          5,
          6,
          7,
          8,
          9,
          10,
          11,
          12,
          13,
          14,
          15,
          16,
          17,
          18,
          19,
          20,
          21,
          22,
          23,
          24,
          25,
          26,
          27,
          28,
          29,
          30,
          31,
          32,
          33,
          34,
          35,
          36,
          37,
          38,
          39,
          40,
          41,
          42,
          43,
          44,
          45,
          46,
          47,
          48,
          49
         ],
         "y": [
          11.653827667236328,
          7.83168363571167,
          7.212130069732666,
          8.556949615478516,
          6.018243312835693,
          11.60754680633545,
          6.6522908210754395,
          4.967675685882568,
          4.882394313812256,
          3.8782379627227783,
          3.0979857444763184,
          2.667370319366455,
          6.750258445739746,
          1.6703219413757324,
          3.545609474182129,
          1.1676150560379028,
          7.080971717834473,
          2.373396396636963,
          2.2882630825042725,
          0.7219805121421814,
          0.5686437487602234,
          0.5116370320320129,
          0.17140401899814606,
          0.965623140335083,
          0.5806219577789307,
          8.592291831970215,
          7.509463310241699,
          0.34258580207824707,
          0.48335564136505127,
          0.3022889792919159,
          1.5091150999069214,
          1.1613160371780396,
          0.1759311407804489,
          2.0976686477661133,
          4.474005699157715,
          3.363495111465454,
          4.729283332824707,
          8.379998207092285,
          1.820367455482483,
          0.7648823261260986,
          1.4060577154159546,
          2.2796530723571777,
          1.88253915309906,
          1.8645062446594238,
          1.2660897970199585,
          0.9269704222679138,
          2.2930362224578857,
          0.158521831035614,
          9.205212593078613,
          2.6012017726898193
         ]
        },
        {
         "line": {
          "color": "rgba(30, 136, 229, 0.5)"
         },
         "mode": "lines",
         "name": "Run 4",
         "type": "scatter",
         "x": [
          0,
          1,
          2,
          3,
          4,
          5,
          6,
          7,
          8,
          9,
          10,
          11,
          12,
          13,
          14,
          15,
          16,
          17,
          18,
          19,
          20,
          21,
          22,
          23,
          24,
          25,
          26,
          27,
          28,
          29,
          30,
          31,
          32,
          33,
          34,
          35,
          36,
          37,
          38,
          39,
          40,
          41,
          42,
          43,
          44,
          45,
          46,
          47,
          48,
          49
         ],
         "y": [
          14.236281394958496,
          26.049409866333008,
          7.00412130355835,
          6.132131099700928,
          6.12885856628418,
          6.095153331756592,
          5.734968662261963,
          4.757657527923584,
          5.32692289352417,
          7.795281410217285,
          8.816327095031738,
          5.514400482177734,
          5.044210433959961,
          5.41316032409668,
          4.562282085418701,
          5.106294631958008,
          4.219750881195068,
          5.636407375335693,
          8.472766876220703,
          4.20622444152832,
          4.490803241729736,
          4.520761489868164,
          4.197645664215088,
          4.094345569610596,
          3.5471668243408203,
          2.9104270935058594,
          2.6700055599212646,
          2.552823543548584,
          2.870457887649536,
          2.353170156478882,
          2.147024631500244,
          2.025637626647949,
          1.5953675508499146,
          0.699797511100769,
          0.35648131370544434,
          0.6777638792991638,
          2.338230848312378,
          0.3394142985343933,
          0.38209789991378784,
          1.6248224973678589,
          0.39140772819519043,
          0.31398236751556396,
          0.33117082715034485,
          1.4286463260650635,
          0.39293408393859863,
          0.4098561108112335,
          4.0367631912231445,
          0.4993138015270233,
          1.1688910722732544,
          0.45898643136024475
         ]
        },
        {
         "line": {
          "color": "rgba(30, 136, 229, 0.6000000000000001)"
         },
         "mode": "lines",
         "name": "Run 5",
         "type": "scatter",
         "x": [
          0,
          1,
          2,
          3,
          4,
          5,
          6,
          7,
          8,
          9,
          10,
          11,
          12,
          13,
          14,
          15,
          16,
          17,
          18,
          19,
          20,
          21,
          22,
          23,
          24,
          25,
          26,
          27,
          28,
          29,
          30,
          31,
          32,
          33,
          34,
          35,
          36,
          37,
          38,
          39,
          40,
          41,
          42,
          43,
          44,
          45,
          46,
          47,
          48,
          49
         ],
         "y": [
          8.886783599853516,
          9.343405723571777,
          5.310904026031494,
          6.28819465637207,
          7.857669830322266,
          5.857572555541992,
          3.96999454498291,
          3.627612590789795,
          2.8887484073638916,
          0.7684518098831177,
          2.110610008239746,
          0.4394908845424652,
          3.1697843074798584,
          0.4470314681529999,
          0.256822794675827,
          1.9258856773376465,
          0.9287366271018982,
          0.3499627411365509,
          3.684959650039673,
          4.049886703491211,
          0.527455747127533,
          0.3716374635696411,
          0.455188512802124,
          0.5412635207176208,
          2.3488008975982666,
          0.856740415096283,
          0.8000525832176208,
          0.39418676495552063,
          0.4360828995704651,
          0.4054330587387085,
          0.7353453040122986,
          1.894386649131775,
          2.0691840648651123,
          0.2887560725212097,
          0.44540855288505554,
          1.6620508432388306,
          0.36919742822647095,
          0.38422900438308716,
          0.34939637780189514,
          1.0012388229370117,
          0.3503378629684448,
          0.19758062064647675,
          0.18794824182987213,
          0.2766974866390228,
          0.3807603716850281,
          1.868825912475586,
          0.24953140318393707,
          0.433420330286026,
          0.521261990070343,
          0.25967302918434143
         ]
        },
        {
         "line": {
          "color": "black",
          "dash": "dash"
         },
         "mode": "lines",
         "name": "Mean Loss",
         "type": "scatter",
         "x": [
          0,
          1,
          2,
          3,
          4,
          5,
          6,
          7,
          8,
          9,
          10,
          11,
          12,
          13,
          14,
          15,
          16,
          17,
          18,
          19,
          20,
          21,
          22,
          23,
          24,
          25,
          26,
          27,
          28,
          29,
          30,
          31,
          32,
          33,
          34,
          35,
          36,
          37,
          38,
          39,
          40,
          41,
          42,
          43,
          44,
          45,
          46,
          47,
          48,
          49
         ],
         "y": [
          13.73767032623291,
          17.413574504852296,
          7.1924175262451175,
          6.650282573699951,
          6.307104587554932,
          8.311105442047118,
          5.365928077697754,
          5.358377170562744,
          5.574966859817505,
          5.106388068199157,
          5.376619338989258,
          3.90685755610466,
          5.370123720169067,
          3.8112105309963225,
          3.97117857336998,
          3.782225155830383,
          4.3800899386405945,
          4.061555868387222,
          7.595688915252685,
          7.1872565150260925,
          8.110636830329895,
          3.111060416698456,
          6.242327001690865,
          6.277558934688568,
          3.5937454223632814,
          6.829969680309295,
          10.95234693288803,
          4.0755199015140535,
          6.3201948523521425,
          1.8048591315746307,
          2.035122740268707,
          5.401845502853393,
          6.282328709959984,
          1.6294681668281554,
          2.0178108155727386,
          2.008355939388275,
          2.3048460125923156,
          3.1972987413406373,
          1.1621034562587738,
          2.040455937385559,
          1.0799855709075927,
          1.2645491451025008,
          1.1472890704870224,
          1.1403352439403533,
          0.7257810890674591,
          0.889548945426941,
          1.455444911122322,
          0.5810924172401428,
          2.42384971678257,
          0.8229493096470832
         ]
        },
        {
         "fill": "toself",
         "fillcolor": "rgba(200, 200, 200, 0.3)",
         "line": {
          "color": "rgba(255,255,255,0)"
         },
         "name": "Confidence Interval",
         "showlegend": false,
         "type": "scatter",
         "x": [
          0,
          1,
          2,
          3,
          4,
          5,
          6,
          7,
          8,
          9,
          10,
          11,
          12,
          13,
          14,
          15,
          16,
          17,
          18,
          19,
          20,
          21,
          22,
          23,
          24,
          25,
          26,
          27,
          28,
          29,
          30,
          31,
          32,
          33,
          34,
          35,
          36,
          37,
          38,
          39,
          40,
          41,
          42,
          43,
          44,
          45,
          46,
          47,
          48,
          49,
          49,
          48,
          47,
          46,
          45,
          44,
          43,
          42,
          41,
          40,
          39,
          38,
          37,
          36,
          35,
          34,
          33,
          32,
          31,
          30,
          29,
          28,
          27,
          26,
          25,
          24,
          23,
          22,
          21,
          20,
          19,
          18,
          17,
          16,
          15,
          14,
          13,
          12,
          11,
          10,
          9,
          8,
          7,
          6,
          5,
          4,
          3,
          2,
          1,
          0
         ],
         "y": [
          18.366022165417977,
          26.84208102918548,
          9.075275144624628,
          7.679456791222505,
          7.1418548426043245,
          11.049489027502577,
          6.300308451681959,
          7.000895652845134,
          7.435004086392372,
          7.534709041363614,
          7.525315212315079,
          5.916312552129147,
          6.447147473774491,
          5.813301285160229,
          5.961621384735971,
          5.550309996716452,
          6.2567718846132925,
          6.136199574361582,
          12.338657766101349,
          12.487977635444755,
          17.655538969377545,
          5.16560336075661,
          11.726452591102465,
          12.447577772722298,
          5.3490825222188505,
          11.795435924724387,
          22.713463471953006,
          8.42759430449659,
          14.820472445922306,
          2.88339880629879,
          2.9083009198508645,
          12.049438285198978,
          14.821240007762853,
          2.5093552194570874,
          3.4563279181954094,
          2.8162409921746887,
          3.5296513050361065,
          5.990505213709403,
          1.7742148254409669,
          3.0614173740949937,
          1.6292127139576449,
          2.037564652577079,
          1.9232217540387708,
          1.619172557099718,
          1.1294046635246362,
          1.3781392006924724,
          2.771375394562656,
          1.0033572717026251,
          5.4100586279128065,
          1.6244200467221128,
          0.021478572572053656,
          -0.5623591943476667,
          0.15882756277766047,
          0.13951442768198818,
          0.40095869016140945,
          0.3221575146102821,
          0.6614979307809887,
          0.37135638693527406,
          0.4915336376279227,
          0.5307584278575405,
          1.0194945006761245,
          0.5499920870765806,
          0.4040922689718718,
          1.0800407201485247,
          1.2004708866018612,
          0.5792937129500675,
          0.7495811141992236,
          -2.2565825878428853,
          -1.2457472794921909,
          1.1619445606865495,
          0.7263194568504712,
          -2.1800827412180217,
          -0.2765545014684836,
          -0.8087696061769449,
          1.8645034358942043,
          1.8384083225077128,
          0.10754009665483988,
          0.7582014122792646,
          1.0565174726403015,
          -1.4342653087177535,
          1.8865353946074297,
          2.8527200644040205,
          1.9869121624128616,
          2.5034079926678965,
          2.014140314944315,
          1.9807357620039892,
          1.8091197768324156,
          4.293099966563643,
          1.8974025600801725,
          3.2279234656634364,
          2.678067095034701,
          3.714929633242638,
          3.7158586882803544,
          4.43154770371355,
          5.5727218565916585,
          5.472354332505539,
          5.621108356177397,
          5.309559907865607,
          7.98506798051911,
          9.109318487047844
         ]
        }
       ],
       "layout": {
        "height": 650,
        "legend": {
         "font": {
          "size": 12
         },
         "title": {
          "text": "Runs"
         }
        },
        "margin": {
         "b": 100,
         "l": 100,
         "r": 100,
         "t": 100
        },
        "plot_bgcolor": "white",
        "template": {
         "data": {
          "bar": [
           {
            "error_x": {
             "color": "#2a3f5f"
            },
            "error_y": {
             "color": "#2a3f5f"
            },
            "marker": {
             "line": {
              "color": "#E5ECF6",
              "width": 0.5
             },
             "pattern": {
              "fillmode": "overlay",
              "size": 10,
              "solidity": 0.2
             }
            },
            "type": "bar"
           }
          ],
          "barpolar": [
           {
            "marker": {
             "line": {
              "color": "#E5ECF6",
              "width": 0.5
             },
             "pattern": {
              "fillmode": "overlay",
              "size": 10,
              "solidity": 0.2
             }
            },
            "type": "barpolar"
           }
          ],
          "carpet": [
           {
            "aaxis": {
             "endlinecolor": "#2a3f5f",
             "gridcolor": "white",
             "linecolor": "white",
             "minorgridcolor": "white",
             "startlinecolor": "#2a3f5f"
            },
            "baxis": {
             "endlinecolor": "#2a3f5f",
             "gridcolor": "white",
             "linecolor": "white",
             "minorgridcolor": "white",
             "startlinecolor": "#2a3f5f"
            },
            "type": "carpet"
           }
          ],
          "choropleth": [
           {
            "colorbar": {
             "outlinewidth": 0,
             "ticks": ""
            },
            "type": "choropleth"
           }
          ],
          "contour": [
           {
            "colorbar": {
             "outlinewidth": 0,
             "ticks": ""
            },
            "colorscale": [
             [
              0,
              "#0d0887"
             ],
             [
              0.1111111111111111,
              "#46039f"
             ],
             [
              0.2222222222222222,
              "#7201a8"
             ],
             [
              0.3333333333333333,
              "#9c179e"
             ],
             [
              0.4444444444444444,
              "#bd3786"
             ],
             [
              0.5555555555555556,
              "#d8576b"
             ],
             [
              0.6666666666666666,
              "#ed7953"
             ],
             [
              0.7777777777777778,
              "#fb9f3a"
             ],
             [
              0.8888888888888888,
              "#fdca26"
             ],
             [
              1,
              "#f0f921"
             ]
            ],
            "type": "contour"
           }
          ],
          "contourcarpet": [
           {
            "colorbar": {
             "outlinewidth": 0,
             "ticks": ""
            },
            "type": "contourcarpet"
           }
          ],
          "heatmap": [
           {
            "colorbar": {
             "outlinewidth": 0,
             "ticks": ""
            },
            "colorscale": [
             [
              0,
              "#0d0887"
             ],
             [
              0.1111111111111111,
              "#46039f"
             ],
             [
              0.2222222222222222,
              "#7201a8"
             ],
             [
              0.3333333333333333,
              "#9c179e"
             ],
             [
              0.4444444444444444,
              "#bd3786"
             ],
             [
              0.5555555555555556,
              "#d8576b"
             ],
             [
              0.6666666666666666,
              "#ed7953"
             ],
             [
              0.7777777777777778,
              "#fb9f3a"
             ],
             [
              0.8888888888888888,
              "#fdca26"
             ],
             [
              1,
              "#f0f921"
             ]
            ],
            "type": "heatmap"
           }
          ],
          "heatmapgl": [
           {
            "colorbar": {
             "outlinewidth": 0,
             "ticks": ""
            },
            "colorscale": [
             [
              0,
              "#0d0887"
             ],
             [
              0.1111111111111111,
              "#46039f"
             ],
             [
              0.2222222222222222,
              "#7201a8"
             ],
             [
              0.3333333333333333,
              "#9c179e"
             ],
             [
              0.4444444444444444,
              "#bd3786"
             ],
             [
              0.5555555555555556,
              "#d8576b"
             ],
             [
              0.6666666666666666,
              "#ed7953"
             ],
             [
              0.7777777777777778,
              "#fb9f3a"
             ],
             [
              0.8888888888888888,
              "#fdca26"
             ],
             [
              1,
              "#f0f921"
             ]
            ],
            "type": "heatmapgl"
           }
          ],
          "histogram": [
           {
            "marker": {
             "pattern": {
              "fillmode": "overlay",
              "size": 10,
              "solidity": 0.2
             }
            },
            "type": "histogram"
           }
          ],
          "histogram2d": [
           {
            "colorbar": {
             "outlinewidth": 0,
             "ticks": ""
            },
            "colorscale": [
             [
              0,
              "#0d0887"
             ],
             [
              0.1111111111111111,
              "#46039f"
             ],
             [
              0.2222222222222222,
              "#7201a8"
             ],
             [
              0.3333333333333333,
              "#9c179e"
             ],
             [
              0.4444444444444444,
              "#bd3786"
             ],
             [
              0.5555555555555556,
              "#d8576b"
             ],
             [
              0.6666666666666666,
              "#ed7953"
             ],
             [
              0.7777777777777778,
              "#fb9f3a"
             ],
             [
              0.8888888888888888,
              "#fdca26"
             ],
             [
              1,
              "#f0f921"
             ]
            ],
            "type": "histogram2d"
           }
          ],
          "histogram2dcontour": [
           {
            "colorbar": {
             "outlinewidth": 0,
             "ticks": ""
            },
            "colorscale": [
             [
              0,
              "#0d0887"
             ],
             [
              0.1111111111111111,
              "#46039f"
             ],
             [
              0.2222222222222222,
              "#7201a8"
             ],
             [
              0.3333333333333333,
              "#9c179e"
             ],
             [
              0.4444444444444444,
              "#bd3786"
             ],
             [
              0.5555555555555556,
              "#d8576b"
             ],
             [
              0.6666666666666666,
              "#ed7953"
             ],
             [
              0.7777777777777778,
              "#fb9f3a"
             ],
             [
              0.8888888888888888,
              "#fdca26"
             ],
             [
              1,
              "#f0f921"
             ]
            ],
            "type": "histogram2dcontour"
           }
          ],
          "mesh3d": [
           {
            "colorbar": {
             "outlinewidth": 0,
             "ticks": ""
            },
            "type": "mesh3d"
           }
          ],
          "parcoords": [
           {
            "line": {
             "colorbar": {
              "outlinewidth": 0,
              "ticks": ""
             }
            },
            "type": "parcoords"
           }
          ],
          "pie": [
           {
            "automargin": true,
            "type": "pie"
           }
          ],
          "scatter": [
           {
            "fillpattern": {
             "fillmode": "overlay",
             "size": 10,
             "solidity": 0.2
            },
            "type": "scatter"
           }
          ],
          "scatter3d": [
           {
            "line": {
             "colorbar": {
              "outlinewidth": 0,
              "ticks": ""
             }
            },
            "marker": {
             "colorbar": {
              "outlinewidth": 0,
              "ticks": ""
             }
            },
            "type": "scatter3d"
           }
          ],
          "scattercarpet": [
           {
            "marker": {
             "colorbar": {
              "outlinewidth": 0,
              "ticks": ""
             }
            },
            "type": "scattercarpet"
           }
          ],
          "scattergeo": [
           {
            "marker": {
             "colorbar": {
              "outlinewidth": 0,
              "ticks": ""
             }
            },
            "type": "scattergeo"
           }
          ],
          "scattergl": [
           {
            "marker": {
             "colorbar": {
              "outlinewidth": 0,
              "ticks": ""
             }
            },
            "type": "scattergl"
           }
          ],
          "scattermapbox": [
           {
            "marker": {
             "colorbar": {
              "outlinewidth": 0,
              "ticks": ""
             }
            },
            "type": "scattermapbox"
           }
          ],
          "scatterpolar": [
           {
            "marker": {
             "colorbar": {
              "outlinewidth": 0,
              "ticks": ""
             }
            },
            "type": "scatterpolar"
           }
          ],
          "scatterpolargl": [
           {
            "marker": {
             "colorbar": {
              "outlinewidth": 0,
              "ticks": ""
             }
            },
            "type": "scatterpolargl"
           }
          ],
          "scatterternary": [
           {
            "marker": {
             "colorbar": {
              "outlinewidth": 0,
              "ticks": ""
             }
            },
            "type": "scatterternary"
           }
          ],
          "surface": [
           {
            "colorbar": {
             "outlinewidth": 0,
             "ticks": ""
            },
            "colorscale": [
             [
              0,
              "#0d0887"
             ],
             [
              0.1111111111111111,
              "#46039f"
             ],
             [
              0.2222222222222222,
              "#7201a8"
             ],
             [
              0.3333333333333333,
              "#9c179e"
             ],
             [
              0.4444444444444444,
              "#bd3786"
             ],
             [
              0.5555555555555556,
              "#d8576b"
             ],
             [
              0.6666666666666666,
              "#ed7953"
             ],
             [
              0.7777777777777778,
              "#fb9f3a"
             ],
             [
              0.8888888888888888,
              "#fdca26"
             ],
             [
              1,
              "#f0f921"
             ]
            ],
            "type": "surface"
           }
          ],
          "table": [
           {
            "cells": {
             "fill": {
              "color": "#EBF0F8"
             },
             "line": {
              "color": "white"
             }
            },
            "header": {
             "fill": {
              "color": "#C8D4E3"
             },
             "line": {
              "color": "white"
             }
            },
            "type": "table"
           }
          ]
         },
         "layout": {
          "annotationdefaults": {
           "arrowcolor": "#2a3f5f",
           "arrowhead": 0,
           "arrowwidth": 1
          },
          "autotypenumbers": "strict",
          "coloraxis": {
           "colorbar": {
            "outlinewidth": 0,
            "ticks": ""
           }
          },
          "colorscale": {
           "diverging": [
            [
             0,
             "#8e0152"
            ],
            [
             0.1,
             "#c51b7d"
            ],
            [
             0.2,
             "#de77ae"
            ],
            [
             0.3,
             "#f1b6da"
            ],
            [
             0.4,
             "#fde0ef"
            ],
            [
             0.5,
             "#f7f7f7"
            ],
            [
             0.6,
             "#e6f5d0"
            ],
            [
             0.7,
             "#b8e186"
            ],
            [
             0.8,
             "#7fbc41"
            ],
            [
             0.9,
             "#4d9221"
            ],
            [
             1,
             "#276419"
            ]
           ],
           "sequential": [
            [
             0,
             "#0d0887"
            ],
            [
             0.1111111111111111,
             "#46039f"
            ],
            [
             0.2222222222222222,
             "#7201a8"
            ],
            [
             0.3333333333333333,
             "#9c179e"
            ],
            [
             0.4444444444444444,
             "#bd3786"
            ],
            [
             0.5555555555555556,
             "#d8576b"
            ],
            [
             0.6666666666666666,
             "#ed7953"
            ],
            [
             0.7777777777777778,
             "#fb9f3a"
            ],
            [
             0.8888888888888888,
             "#fdca26"
            ],
            [
             1,
             "#f0f921"
            ]
           ],
           "sequentialminus": [
            [
             0,
             "#0d0887"
            ],
            [
             0.1111111111111111,
             "#46039f"
            ],
            [
             0.2222222222222222,
             "#7201a8"
            ],
            [
             0.3333333333333333,
             "#9c179e"
            ],
            [
             0.4444444444444444,
             "#bd3786"
            ],
            [
             0.5555555555555556,
             "#d8576b"
            ],
            [
             0.6666666666666666,
             "#ed7953"
            ],
            [
             0.7777777777777778,
             "#fb9f3a"
            ],
            [
             0.8888888888888888,
             "#fdca26"
            ],
            [
             1,
             "#f0f921"
            ]
           ]
          },
          "colorway": [
           "#636efa",
           "#EF553B",
           "#00cc96",
           "#ab63fa",
           "#FFA15A",
           "#19d3f3",
           "#FF6692",
           "#B6E880",
           "#FF97FF",
           "#FECB52"
          ],
          "font": {
           "color": "#2a3f5f"
          },
          "geo": {
           "bgcolor": "white",
           "lakecolor": "white",
           "landcolor": "#E5ECF6",
           "showlakes": true,
           "showland": true,
           "subunitcolor": "white"
          },
          "hoverlabel": {
           "align": "left"
          },
          "hovermode": "closest",
          "mapbox": {
           "style": "light"
          },
          "paper_bgcolor": "white",
          "plot_bgcolor": "#E5ECF6",
          "polar": {
           "angularaxis": {
            "gridcolor": "white",
            "linecolor": "white",
            "ticks": ""
           },
           "bgcolor": "#E5ECF6",
           "radialaxis": {
            "gridcolor": "white",
            "linecolor": "white",
            "ticks": ""
           }
          },
          "scene": {
           "xaxis": {
            "backgroundcolor": "#E5ECF6",
            "gridcolor": "white",
            "gridwidth": 2,
            "linecolor": "white",
            "showbackground": true,
            "ticks": "",
            "zerolinecolor": "white"
           },
           "yaxis": {
            "backgroundcolor": "#E5ECF6",
            "gridcolor": "white",
            "gridwidth": 2,
            "linecolor": "white",
            "showbackground": true,
            "ticks": "",
            "zerolinecolor": "white"
           },
           "zaxis": {
            "backgroundcolor": "#E5ECF6",
            "gridcolor": "white",
            "gridwidth": 2,
            "linecolor": "white",
            "showbackground": true,
            "ticks": "",
            "zerolinecolor": "white"
           }
          },
          "shapedefaults": {
           "line": {
            "color": "#2a3f5f"
           }
          },
          "ternary": {
           "aaxis": {
            "gridcolor": "white",
            "linecolor": "white",
            "ticks": ""
           },
           "baxis": {
            "gridcolor": "white",
            "linecolor": "white",
            "ticks": ""
           },
           "bgcolor": "#E5ECF6",
           "caxis": {
            "gridcolor": "white",
            "linecolor": "white",
            "ticks": ""
           }
          },
          "title": {
           "x": 0.05
          },
          "xaxis": {
           "automargin": true,
           "gridcolor": "white",
           "linecolor": "white",
           "ticks": "",
           "title": {
            "standoff": 15
           },
           "zerolinecolor": "white",
           "zerolinewidth": 2
          },
          "yaxis": {
           "automargin": true,
           "gridcolor": "white",
           "linecolor": "white",
           "ticks": "",
           "title": {
            "standoff": 15
           },
           "zerolinecolor": "white",
           "zerolinewidth": 2
          }
         }
        },
        "title": {
         "text": "Optimization Runs with Mean and Confidence Intervals"
        },
        "width": 1500,
        "xaxis": {
         "gridcolor": "rgba(211, 211, 211, 0.8)",
         "gridwidth": 1,
         "linecolor": "rgba(150, 150, 150, 0.8)",
         "linewidth": 1,
         "showgrid": true,
         "showline": true,
         "tickfont": {
          "color": "black",
          "size": 12
         },
         "ticks": "outside",
         "title": {
          "text": "Iteration"
         }
        },
        "yaxis": {
         "gridcolor": "rgba(211, 211, 211, 0.8)",
         "gridwidth": 1,
         "linecolor": "rgba(150, 150, 150, 0.8)",
         "linewidth": 1,
         "showgrid": true,
         "showline": true,
         "tickfont": {
          "color": "black",
          "size": 12
         },
         "ticks": "outside",
         "title": {
          "text": "Loss"
         }
        }
       }
      }
     },
     "metadata": {},
     "output_type": "display_data"
    }
   ],
   "source": [
    "base_color = 'rgba(30, 136, 229,'  # RGB for blue, with variable opacity\n",
    "\n",
    "fig = go.Figure()\n",
    "for i in range(num_runs):\n",
    "    fig.add_trace(go.Scatter(\n",
    "        x=np.arange(n_iter_comparison),\n",
    "        y=results_single[:, i],\n",
    "        mode='lines',\n",
    "        name=f'Run {i+1}',\n",
    "        line=dict(color=f'{base_color} {0.2 + (i / num_runs) * 0.5})')  # varying opacity\n",
    "    ))\n",
    "\n",
    "fig.add_trace(go.Scatter(\n",
    "    x=np.arange(n_iter_comparison),\n",
    "    y=mean_single,\n",
    "    mode='lines',\n",
    "    name='Mean Loss',\n",
    "    line=dict(color='black', dash='dash')\n",
    "))\n",
    "\n",
    "fig.add_trace(go.Scatter(\n",
    "    x=np.concatenate((np.arange(n_iter_comparison), np.arange(n_iter_comparison)[::-1])),\n",
    "    y=np.concatenate((mean_single + confidence_interval, (mean_single - confidence_interval)[::-1])),\n",
    "    fill='toself',\n",
    "    fillcolor='rgba(200, 200, 200, 0.3)',\n",
    "    line=dict(color='rgba(255,255,255,0)'),\n",
    "    showlegend=False,\n",
    "    name='Confidence Interval'\n",
    "))\n",
    "\n",
    "fig.update_layout(\n",
    "    title=\"Optimization Runs with Mean and Confidence Intervals\",\n",
    "    xaxis=dict(\n",
    "        title=\"Iteration\",\n",
    "        showline=True,\n",
    "        showgrid=True,\n",
    "        gridcolor='rgba(211, 211, 211, 0.8)',  \n",
    "        linecolor='rgba(150, 150, 150, 0.8)',  \n",
    "        linewidth=1,\n",
    "        ticks='outside',\n",
    "        tickfont=dict(\n",
    "            size=12,\n",
    "            color='black'\n",
    "        ),\n",
    "        gridwidth=1,\n",
    "    ),\n",
    "    yaxis=dict(\n",
    "        title=\"Loss\",\n",
    "        showline=True,\n",
    "        showgrid=True,\n",
    "        gridcolor='rgba(211, 211, 211, 0.8)',  \n",
    "        linecolor='rgba(150, 150, 150, 0.8)',  \n",
    "        linewidth=1,\n",
    "        ticks='outside',\n",
    "        tickfont=dict(\n",
    "            size=12,\n",
    "            color='black'\n",
    "        ),\n",
    "        gridwidth=1,\n",
    "    ),\n",
    "    plot_bgcolor='white',\n",
    "    width=1500,\n",
    "    height=650,\n",
    "    legend_title_text='Runs',\n",
    "    legend_font_size=12,\n",
    "    margin=dict(l=100, r=100, t=100, b=100),  \n",
    ")\n",
    "fig.show()"
   ]
  },
  {
   "cell_type": "markdown",
   "metadata": {},
   "source": [
    "\n",
    "\n",
    "\n",
    "\n",
    "\n",
    "\n",
    "\n",
    "\n",
    "\n",
    "\n",
    "\n",
    "\n",
    "\n",
    "\n",
    "\n",
    "\n",
    "\n",
    "\n",
    "\n",
    "\n",
    "\n",
    "\n",
    "\n",
    "\n",
    "\n",
    "\n",
    "\n",
    "\n",
    "\n",
    "\n",
    "\n",
    "\n",
    "\n",
    "\n",
    "\n",
    "\n",
    "\n",
    "\n",
    "\n",
    "\n",
    "\n",
    "\n",
    "\n",
    "\n",
    "\n",
    "\n",
    "\n",
    "\n",
    "\n",
    "\n",
    "\n",
    "\n",
    "\n",
    "\n",
    "\n",
    "\n",
    "\n",
    "\n",
    "\n",
    "\n",
    "\n",
    "\n",
    "\n",
    "\n",
    "\n",
    "\n",
    "\n",
    "\n",
    "\n",
    "\n",
    "\n",
    "\n",
    "\n",
    "\n",
    "\n",
    "\n",
    "\n",
    "\n",
    "\n",
    "\n",
    "\n",
    "\n",
    "\n",
    "\n",
    "\n",
    "\n",
    "\n",
    "\n",
    "\n",
    "\n",
    "\n",
    "\n",
    "\n",
    "\n",
    "\n",
    "\n",
    "\n",
    "\n",
    "\n",
    "\n",
    "\n",
    "\n",
    "\n",
    "\n",
    "\n",
    "\n",
    "\n",
    "\n",
    "\n",
    "\n",
    "## <strong> 4 | Benchmarking against Karnachos </strong>"
   ]
  },
  {
   "cell_type": "markdown",
   "metadata": {},
   "source": [
    "### <strong> 4.0 | Initial Truss layout </strong>"
   ]
  },
  {
   "cell_type": "code",
   "execution_count": 25,
   "metadata": {},
   "outputs": [
    {
     "data": {
      "text/plain": [
       "29.503239674440035"
      ]
     },
     "execution_count": 25,
     "metadata": {},
     "output_type": "execute_result"
    }
   ],
   "source": [
    "\n",
    "np.mean(globdat[gn.EIGENFREQS][0:3] / 2 / np.pi)"
   ]
  },
  {
   "cell_type": "code",
   "execution_count": 21,
   "metadata": {},
   "outputs": [
    {
     "data": {
      "application/vnd.jupyter.widget-view+json": {
       "model_id": "33cfe718344a42e7ad559aca74722c72",
       "version_major": 2,
       "version_minor": 0
      },
      "image/png": "[encoded data removed]",
      "text/html": [
       "\n",
       "            <div style=\"display: inline-block;\">\n",
       "                <div class=\"jupyter-widgets widget-label\" style=\"text-align: center;\">\n",
       "                    Figure\n",
       "                </div>\n",
       "                <img src='data:image/png;base64,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' width=640.0/>\n",
       "            </div>\n",
       "        "
      ],
      "text/plain": [
       "Canvas(toolbar=Toolbar(toolitems=[('Home', 'Reset original view', 'home', 'home'), ('Back', 'Back to previous …"
      ]
     },
     "metadata": {},
     "output_type": "display_data"
    },
    {
     "name": "stdout",
     "output_type": "stream",
     "text": [
      "MASS: 336.2908657865102 kg  Natural Frequencies:[ 8.90649126 29.59101061 50.01221715] Hz\n"
     ]
    }
   ],
   "source": [
    "# ----------------------------- KANARACHOS TRUSS ---------------------------- #\n",
    "%matplotlib widget\n",
    "read_file_path = write_file_path =  '../TRUSS1/truss_bridge/data'\n",
    "\n",
    "path_pro = os.path.normpath(os.path.join(read_file_path, 'bridge_frequency.pro'))\n",
    "props = pu.parse_file(path_pro)\n",
    "\n",
    "path_geom = os.path.normpath(os.path.join(read_file_path, 'bridge.geom'))\n",
    "props['model']['truss']['area'] = props['model']['truss']['area'] = [4e-3,1e-4,1e-4,1e-4,1e-4,1e-4,1e-4,1e-4,1e-4,1e-4,1e-4,1e-4,1e-4,1e-4,1e-4]\n",
    "props['init']['mesh']['file'] = path_geom\n",
    "\n",
    "trap = io.StringIO()\n",
    "with redirect_stdout(trap):\n",
    "    globdat = main.jive(props)\n",
    "\n",
    "# -------------------------- Initiate Initial truss -------------------------- #\n",
    "read_file = 'bridge.geom'\n",
    "write_file_path =  None\n",
    "write_file = None\n",
    "violation_factor = None\n",
    "freq_constraints = None\n",
    "mass_weight = None\n",
    "freq_weight = None\n",
    "scalers = [None,None]\n",
    "bounds = None\n",
    "\n",
    "TRUSS_initial = TRUSS(read_file_path,\n",
    "               read_file,\n",
    "                write_file_path,\n",
    "                write_file,\n",
    "                violation_factor,\n",
    "                scalers,\n",
    "                bounds,\n",
    "                freq_constraints= freq_constraints, \n",
    "                mass_weight= mass_weight, \n",
    "                freq_weight= freq_weight)\n",
    "TRUSS_initial.read_geom_file()\n",
    "\n",
    "y_coord = TRUSS_initial.state[\"y_coordinates\"][::2][1:6]\n",
    "areas_initial = np.array(props['model']['truss']['area'])\n",
    "print(f'MASS: {TRUSS_initial.mass_truss(areas_initial, y_coord)} kg  Natural Frequencies:{(globdat[gn.EIGENFREQS][0:3] / 2 / np.pi)} Hz')"
   ]
  },
  {
   "cell_type": "markdown",
   "metadata": {},
   "source": [
    "### <strong> 4.1 | Final Trusses & Basic statistics </strong>\n",
    "\n",
    "The following are the displays of both solutions from Kanarachos et al., 2017 and TRUSS we can see that the overall shape is similar and as expected forms an incresingly round shape. By contrast the locations of members mass differ between trusses. Why this is the case is not entirely clear but for now it is understood that this is dominated by the converged solution iteration. "
   ]
  },
  {
   "cell_type": "code",
   "execution_count": 16,
   "metadata": {
    "tags": [
     "hide-input"
    ]
   },
   "outputs": [
    {
     "data": {
      "application/vnd.jupyter.widget-view+json": {
       "model_id": "30d069eb13eb4084992b164e7725d6ca",
       "version_major": 2,
       "version_minor": 0
      },
      "image/png": "[encoded data removed]",
      "text/html": [
       "\n",
       "            <div style=\"display: inline-block;\">\n",
       "                <div class=\"jupyter-widgets widget-label\" style=\"text-align: center;\">\n",
       "                    Figure\n",
       "                </div>\n",
       "                <img src='data:image/png;base64,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' width=640.0/>\n",
       "            </div>\n",
       "        "
      ],
      "text/plain": [
       "Canvas(toolbar=Toolbar(toolitems=[('Home', 'Reset original view', 'home', 'home'), ('Back', 'Back to previous …"
      ]
     },
     "metadata": {},
     "output_type": "display_data"
    },
    {
     "name": "stdout",
     "output_type": "stream",
     "text": [
      "MASS: 360.07710670521664 kg  Natural Frequencies:[20.06682059 40.53905183 61.8225322 ] Hz\n"
     ]
    }
   ],
   "source": [
    "# ----------------------------- KANARACHOS TRUSS ---------------------------- #\n",
    "%matplotlib widget\n",
    "read_file_path = write_file_path =  '../TRUSS1/truss_bridge/data'\n",
    "\n",
    "path_pro = os.path.normpath(os.path.join(read_file_path, 'bridge_frequency_kr.pro'))\n",
    "props = pu.parse_file(path_pro)\n",
    "\n",
    "path_geom = os.path.normpath(os.path.join(read_file_path, 'bridge_kanarachos.geom'))\n",
    "props['model']['truss']['area'] = [ 40e-4, 3.1997e-4, 1.0025e-4, 1.0000e-4, 2.5875e-4, 1.0895e-4, 1.1261e-4, 2.5624e-4, 1.4121e-4, 1.5758e-4, 2.2461e-4, 1.0694e-4, 1.3193e-4, 2.3846e-4, 1.0001e-4 ]\n",
    "props['init']['mesh']['file'] = path_geom\n",
    "\n",
    "trap = io.StringIO()\n",
    "with redirect_stdout(trap):\n",
    "    globdat = main.jive(props)\n",
    "# ------------------------ Initiate a Karnachos obect ------------------------ #\n",
    "read_file_path = '../TRUSS1/truss_bridge/data'\n",
    "read_file = 'bridge_kanarachos.geom'\n",
    "write_file_path =  None\n",
    "write_file = None\n",
    "violation_factor = None\n",
    "freq_constraints = None\n",
    "mass_weight = None\n",
    "freq_weight = None\n",
    "scalers = [None,None]\n",
    "bounds = None\n",
    "\n",
    "TRUSSKN = TRUSS(read_file_path,\n",
    "               read_file,\n",
    "                write_file_path,\n",
    "                write_file,\n",
    "                violation_factor,\n",
    "                scalers,\n",
    "                bounds,\n",
    "                freq_constraints= freq_constraints, \n",
    "                mass_weight= mass_weight, \n",
    "                freq_weight= freq_weight)\n",
    "TRUSSKN.read_geom_file()\n",
    "\n",
    "y_coord = TRUSSKN.state[\"y_coordinates\"][::2][1:6]\n",
    "areas_kn = np.array(props['model']['truss']['area'])\n",
    "print(f'MASS: {TRUSSKN.mass_truss(areas_kn, y_coord)} kg  Natural Frequencies:{(globdat[gn.EIGENFREQS][0:3] / 2 / np.pi)} Hz')"
   ]
  },
  {
   "cell_type": "code",
   "execution_count": 17,
   "metadata": {
    "tags": [
     "hide-input"
    ]
   },
   "outputs": [
    {
     "data": {
      "application/vnd.jupyter.widget-view+json": {
       "model_id": "94a5a59cc0b2421a8c5dcd2ee7d7840e",
       "version_major": 2,
       "version_minor": 0
      },
      "image/png": "[encoded data removed]",
      "text/html": [
       "\n",
       "            <div style=\"display: inline-block;\">\n",
       "                <div class=\"jupyter-widgets widget-label\" style=\"text-align: center;\">\n",
       "                    Figure\n",
       "                </div>\n",
       "                <img src='data:image/png;base64,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' width=640.0/>\n",
       "            </div>\n",
       "        "
      ],
      "text/plain": [
       "Canvas(toolbar=Toolbar(toolitems=[('Home', 'Reset original view', 'home', 'home'), ('Back', 'Back to previous …"
      ]
     },
     "metadata": {},
     "output_type": "display_data"
    },
    {
     "name": "stdout",
     "output_type": "stream",
     "text": [
      "TRUSS NFs:[20.22004588 42.671595   61.82564151] and Mass:Metric                                                                          Value\n",
      "Total Loss                                                                   0.249948\n",
      "Natural Frequencies                 [20.22004587841629, 42.67159500288755, 61.8256...\n",
      "Mass of Truss                                                              364.825316\n",
      "Normalized Mass Loss                                                         0.013404\n",
      "Frequency Penalty                                                            0.036073\n",
      "Constraint Violation (Loss No W)                                             0.049477\n",
      "Name: 37, dtype: object\n"
     ]
    }
   ],
   "source": [
    "# ---------------------------------- TRUSS1 ---------------------------------- #\n",
    "TRUSSDummy.config[\"write_file_path\"] = '../TRUSS1/truss_bridge/data/@TRUSS'\n",
    "TRUSSDummy.Write_call_state(X_init_single)"
   ]
  },
  {
   "cell_type": "markdown",
   "metadata": {},
   "source": [
    "### <strong> 4.2 | Comparing benchmarks </strong>\n",
    "\n",
    "From the following benchmarks we can show how the converged solutions are quite similar the TRUSS solution performs better in meeting the NF constraints but not as well in optimising for the mass which is the preferred optimisation variable.This is in part because the TRUSS solution loss function has been hyperparametrised giving a higher weight to the natural frequencies. This is in the experience from multiple runs and hyperparameter optimisation led to a much gaster convergence but may also restrict the final ability of the model to find an even better solution. Additionally, we have been able to see in the loss function figure how the setup of the loss function could be improved since the loss function minima does not correspond with the best found solution. Therefore further refining in the loss function may even yield better results. "
   ]
  },
  {
   "cell_type": "code",
   "execution_count": 17,
   "metadata": {
    "tags": [
     "hide-input"
    ]
   },
   "outputs": [
    {
     "data": {
      "text/html": [
       "<div>\n",
       "<style scoped>\n",
       "    .dataframe tbody tr th:only-of-type {\n",
       "        vertical-align: middle;\n",
       "    }\n",
       "\n",
       "    .dataframe tbody tr th {\n",
       "        vertical-align: top;\n",
       "    }\n",
       "\n",
       "    .dataframe thead th {\n",
       "        text-align: right;\n",
       "    }\n",
       "</style>\n",
       "<table border=\"1\" class=\"dataframe\">\n",
       "  <thead>\n",
       "    <tr style=\"text-align: right;\">\n",
       "      <th></th>\n",
       "      <th>Cross Section Average [m^2]</th>\n",
       "      <th>Natural Frequency Average [rad/s]</th>\n",
       "      <th>Mass [kg]</th>\n",
       "      <th>Convergence time [s]</th>\n",
       "    </tr>\n",
       "  </thead>\n",
       "  <tbody>\n",
       "    <tr>\n",
       "      <th>Kanarachos model</th>\n",
       "      <td>0.000424</td>\n",
       "      <td>41.572427</td>\n",
       "      <td>360.077107</td>\n",
       "      <td>473</td>\n",
       "    </tr>\n",
       "    <tr>\n",
       "      <th>TRUSS model</th>\n",
       "      <td>0.000433</td>\n",
       "      <td>40.809468</td>\n",
       "      <td>364.825316</td>\n",
       "      <td>315</td>\n",
       "    </tr>\n",
       "  </tbody>\n",
       "</table>\n",
       "</div>"
      ],
      "text/plain": [
       "                  Cross Section Average [m^2]  \\\n",
       "Kanarachos model                     0.000424   \n",
       "TRUSS model                          0.000433   \n",
       "\n",
       "                  Natural Frequency Average [rad/s]   Mass [kg]  \\\n",
       "Kanarachos model                          41.572427  360.077107   \n",
       "TRUSS model                               40.809468  364.825316   \n",
       "\n",
       "                 Convergence time [s]  \n",
       "Kanarachos model                  473  \n",
       "TRUSS model                       315  "
      ]
     },
     "execution_count": 17,
     "metadata": {},
     "output_type": "execute_result"
    }
   ],
   "source": [
    "mask = TRUSSDummy.state[\"monitor_df\"][\"Natural Frequencies\"][:].apply(lambda x: (x >= TRUSS1.config[\"freq_constraints\"]).all())\n",
    "ind = TRUSSDummy.state[\"monitor_df\"][mask][\"Mass of Truss\"].idxmin()\n",
    "# ----------------------------------- Data ----------------------------------- #\n",
    "TR_cs = TRUSSDummy.state[\"cross_sections\"].numpy() #To Numpy on first run (Tensor format)\n",
    "KN_cs = TRUSSKN.state[\"cross_sections\"]\n",
    "\n",
    "TR_m = TRUSSDummy.mass_truss(TR_cs, TRUSSDummy.state[\"y_coordinates\"][::2][1:6])\n",
    "KN_m = TRUSSKN.mass_truss(KN_cs, TRUSSKN.state[\"y_coordinates\"][::2][1:6])\n",
    "\n",
    "NFK = globdat[gn.EIGENFREQS][0:3]/2/np.pi\n",
    "NFTR = TRUSSDummy.state[\"monitor_df\"][\"Natural Frequencies\"][ind]\n",
    "\n",
    "data = {\n",
    "    'Model': ['Kanarachos model', 'TRUSS model'],\n",
    "    'Cross Section Average [m^2]': [KN_cs.mean(), TR_cs.mean()],\n",
    "    'Natural Frequency Average [rad/s]': [np.mean(NFTR), np.mean(NFK)],\n",
    "    'Mass [kg]': [KN_m, TR_m],\n",
    "    'Convergence time [s]': ['473', '315'],\n",
    "}\n",
    "basic_comp = pd.DataFrame(data)\n",
    "basic_comp.set_index('Model', inplace=True)\n",
    "basic_comp.index.name = None\n",
    "basic_comp"
   ]
  },
  {
   "cell_type": "code",
   "execution_count": 15,
   "metadata": {
    "tags": [
     "hide"
    ]
   },
   "outputs": [],
   "source": [
    "max_cross_sections = max(np.max(TR_cs), np.max(KN_cs))\n",
    "normalized_cross_sections_model1 = TR_cs / max_cross_sections\n",
    "normalized_cross_sections_model2 = KN_cs / max_cross_sections\n",
    "\n",
    "max_mass = max(TR_m, KN_m)\n",
    "normalized_mass_model1 = TR_m / max_mass\n",
    "normalized_mass_model2 = KN_m / max_mass\n",
    "\n",
    "max_nat_freq = max(np.max(NFTR), np.max(NFK))\n",
    "normalized_nat_freq_model1 = np.array(NFTR) / max_nat_freq\n",
    "normalized_nat_freq_model2 = np.array(NFK) / max_nat_freq\n",
    "# ------------------------------------ VIS ----------------------------------- #\n",
    "# Data for plotting\n",
    "data = {\n",
    "    \"Metric\": [\"Cross Sections (Mean)\", \"Mass\", \"Nat. Freq. 1\", \"Nat. Freq. 2\", \"Nat. Freq. 3\"],\n",
    "    \"Model 1 (TRUSS1)\": [np.mean(normalized_cross_sections_model1), normalized_mass_model1] + normalized_nat_freq_model1.tolist(),\n",
    "    \"Model 2 (KANARACHOS)\": [np.mean(normalized_cross_sections_model2), normalized_mass_model2] + normalized_nat_freq_model2.tolist()\n",
    "}\n",
    "dfbenchmark = pd.DataFrame(data)"
   ]
  },
  {
   "cell_type": "code",
   "execution_count": 16,
   "metadata": {
    "tags": [
     "hide-input"
    ]
   },
   "outputs": [
    {
     "data": {
      "application/vnd.plotly.v1+json": {
       "config": {
        "plotlyServerURL": "https://plot.ly"
       },
       "data": [
        {
         "marker": {
          "color": "#00B8C8"
         },
         "name": "Model 1 (TRUSS1)",
         "type": "bar",
         "x": [
          "Cross Sections (Mean)",
          "Mass",
          "Nat. Freq. 1",
          "Nat. Freq. 2",
          "Nat. Freq. 3"
         ],
         "y": [
          0.10817933333333334,
          1,
          0.32704951190387554,
          0.6901925149809449,
          1
         ]
        },
        {
         "marker": {
          "color": "#EC6842"
         },
         "name": "Model 2 (KANARACHOS)",
         "type": "bar",
         "x": [
          "Cross Sections (Mean)",
          "Mass",
          "Nat. Freq. 1",
          "Nat. Freq. 2",
          "Nat. Freq. 3"
         ],
         "y": [
          0.1059585,
          0.9869849779149856,
          0.32457116661034685,
          0.6556996554008477,
          0.9999497084989484
         ]
        }
       ],
       "layout": {
        "barmode": "group",
        "legend": {
         "font": {
          "size": 12
         },
         "title": {
          "text": "Model"
         }
        },
        "margin": {
         "b": 100,
         "l": 100,
         "r": 100,
         "t": 100
        },
        "plot_bgcolor": "white",
        "template": {
         "data": {
          "bar": [
           {
            "error_x": {
             "color": "rgb(36,36,36)"
            },
            "error_y": {
             "color": "rgb(36,36,36)"
            },
            "marker": {
             "line": {
              "color": "white",
              "width": 0.5
             },
             "pattern": {
              "fillmode": "overlay",
              "size": 10,
              "solidity": 0.2
             }
            },
            "type": "bar"
           }
          ],
          "barpolar": [
           {
            "marker": {
             "line": {
              "color": "white",
              "width": 0.5
             },
             "pattern": {
              "fillmode": "overlay",
              "size": 10,
              "solidity": 0.2
             }
            },
            "type": "barpolar"
           }
          ],
          "carpet": [
           {
            "aaxis": {
             "endlinecolor": "rgb(36,36,36)",
             "gridcolor": "white",
             "linecolor": "white",
             "minorgridcolor": "white",
             "startlinecolor": "rgb(36,36,36)"
            },
            "baxis": {
             "endlinecolor": "rgb(36,36,36)",
             "gridcolor": "white",
             "linecolor": "white",
             "minorgridcolor": "white",
             "startlinecolor": "rgb(36,36,36)"
            },
            "type": "carpet"
           }
          ],
          "choropleth": [
           {
            "colorbar": {
             "outlinewidth": 1,
             "tickcolor": "rgb(36,36,36)",
             "ticks": "outside"
            },
            "type": "choropleth"
           }
          ],
          "contour": [
           {
            "colorbar": {
             "outlinewidth": 1,
             "tickcolor": "rgb(36,36,36)",
             "ticks": "outside"
            },
            "colorscale": [
             [
              0,
              "#440154"
             ],
             [
              0.1111111111111111,
              "#482878"
             ],
             [
              0.2222222222222222,
              "#3e4989"
             ],
             [
              0.3333333333333333,
              "#31688e"
             ],
             [
              0.4444444444444444,
              "#26828e"
             ],
             [
              0.5555555555555556,
              "#1f9e89"
             ],
             [
              0.6666666666666666,
              "#35b779"
             ],
             [
              0.7777777777777778,
              "#6ece58"
             ],
             [
              0.8888888888888888,
              "#b5de2b"
             ],
             [
              1,
              "#fde725"
             ]
            ],
            "type": "contour"
           }
          ],
          "contourcarpet": [
           {
            "colorbar": {
             "outlinewidth": 1,
             "tickcolor": "rgb(36,36,36)",
             "ticks": "outside"
            },
            "type": "contourcarpet"
           }
          ],
          "heatmap": [
           {
            "colorbar": {
             "outlinewidth": 1,
             "tickcolor": "rgb(36,36,36)",
             "ticks": "outside"
            },
            "colorscale": [
             [
              0,
              "#440154"
             ],
             [
              0.1111111111111111,
              "#482878"
             ],
             [
              0.2222222222222222,
              "#3e4989"
             ],
             [
              0.3333333333333333,
              "#31688e"
             ],
             [
              0.4444444444444444,
              "#26828e"
             ],
             [
              0.5555555555555556,
              "#1f9e89"
             ],
             [
              0.6666666666666666,
              "#35b779"
             ],
             [
              0.7777777777777778,
              "#6ece58"
             ],
             [
              0.8888888888888888,
              "#b5de2b"
             ],
             [
              1,
              "#fde725"
             ]
            ],
            "type": "heatmap"
           }
          ],
          "heatmapgl": [
           {
            "colorbar": {
             "outlinewidth": 1,
             "tickcolor": "rgb(36,36,36)",
             "ticks": "outside"
            },
            "colorscale": [
             [
              0,
              "#440154"
             ],
             [
              0.1111111111111111,
              "#482878"
             ],
             [
              0.2222222222222222,
              "#3e4989"
             ],
             [
              0.3333333333333333,
              "#31688e"
             ],
             [
              0.4444444444444444,
              "#26828e"
             ],
             [
              0.5555555555555556,
              "#1f9e89"
             ],
             [
              0.6666666666666666,
              "#35b779"
             ],
             [
              0.7777777777777778,
              "#6ece58"
             ],
             [
              0.8888888888888888,
              "#b5de2b"
             ],
             [
              1,
              "#fde725"
             ]
            ],
            "type": "heatmapgl"
           }
          ],
          "histogram": [
           {
            "marker": {
             "line": {
              "color": "white",
              "width": 0.6
             }
            },
            "type": "histogram"
           }
          ],
          "histogram2d": [
           {
            "colorbar": {
             "outlinewidth": 1,
             "tickcolor": "rgb(36,36,36)",
             "ticks": "outside"
            },
            "colorscale": [
             [
              0,
              "#440154"
             ],
             [
              0.1111111111111111,
              "#482878"
             ],
             [
              0.2222222222222222,
              "#3e4989"
             ],
             [
              0.3333333333333333,
              "#31688e"
             ],
             [
              0.4444444444444444,
              "#26828e"
             ],
             [
              0.5555555555555556,
              "#1f9e89"
             ],
             [
              0.6666666666666666,
              "#35b779"
             ],
             [
              0.7777777777777778,
              "#6ece58"
             ],
             [
              0.8888888888888888,
              "#b5de2b"
             ],
             [
              1,
              "#fde725"
             ]
            ],
            "type": "histogram2d"
           }
          ],
          "histogram2dcontour": [
           {
            "colorbar": {
             "outlinewidth": 1,
             "tickcolor": "rgb(36,36,36)",
             "ticks": "outside"
            },
            "colorscale": [
             [
              0,
              "#440154"
             ],
             [
              0.1111111111111111,
              "#482878"
             ],
             [
              0.2222222222222222,
              "#3e4989"
             ],
             [
              0.3333333333333333,
              "#31688e"
             ],
             [
              0.4444444444444444,
              "#26828e"
             ],
             [
              0.5555555555555556,
              "#1f9e89"
             ],
             [
              0.6666666666666666,
              "#35b779"
             ],
             [
              0.7777777777777778,
              "#6ece58"
             ],
             [
              0.8888888888888888,
              "#b5de2b"
             ],
             [
              1,
              "#fde725"
             ]
            ],
            "type": "histogram2dcontour"
           }
          ],
          "mesh3d": [
           {
            "colorbar": {
             "outlinewidth": 1,
             "tickcolor": "rgb(36,36,36)",
             "ticks": "outside"
            },
            "type": "mesh3d"
           }
          ],
          "parcoords": [
           {
            "line": {
             "colorbar": {
              "outlinewidth": 1,
              "tickcolor": "rgb(36,36,36)",
              "ticks": "outside"
             }
            },
            "type": "parcoords"
           }
          ],
          "pie": [
           {
            "automargin": true,
            "type": "pie"
           }
          ],
          "scatter": [
           {
            "fillpattern": {
             "fillmode": "overlay",
             "size": 10,
             "solidity": 0.2
            },
            "type": "scatter"
           }
          ],
          "scatter3d": [
           {
            "line": {
             "colorbar": {
              "outlinewidth": 1,
              "tickcolor": "rgb(36,36,36)",
              "ticks": "outside"
             }
            },
            "marker": {
             "colorbar": {
              "outlinewidth": 1,
              "tickcolor": "rgb(36,36,36)",
              "ticks": "outside"
             }
            },
            "type": "scatter3d"
           }
          ],
          "scattercarpet": [
           {
            "marker": {
             "colorbar": {
              "outlinewidth": 1,
              "tickcolor": "rgb(36,36,36)",
              "ticks": "outside"
             }
            },
            "type": "scattercarpet"
           }
          ],
          "scattergeo": [
           {
            "marker": {
             "colorbar": {
              "outlinewidth": 1,
              "tickcolor": "rgb(36,36,36)",
              "ticks": "outside"
             }
            },
            "type": "scattergeo"
           }
          ],
          "scattergl": [
           {
            "marker": {
             "colorbar": {
              "outlinewidth": 1,
              "tickcolor": "rgb(36,36,36)",
              "ticks": "outside"
             }
            },
            "type": "scattergl"
           }
          ],
          "scattermapbox": [
           {
            "marker": {
             "colorbar": {
              "outlinewidth": 1,
              "tickcolor": "rgb(36,36,36)",
              "ticks": "outside"
             }
            },
            "type": "scattermapbox"
           }
          ],
          "scatterpolar": [
           {
            "marker": {
             "colorbar": {
              "outlinewidth": 1,
              "tickcolor": "rgb(36,36,36)",
              "ticks": "outside"
             }
            },
            "type": "scatterpolar"
           }
          ],
          "scatterpolargl": [
           {
            "marker": {
             "colorbar": {
              "outlinewidth": 1,
              "tickcolor": "rgb(36,36,36)",
              "ticks": "outside"
             }
            },
            "type": "scatterpolargl"
           }
          ],
          "scatterternary": [
           {
            "marker": {
             "colorbar": {
              "outlinewidth": 1,
              "tickcolor": "rgb(36,36,36)",
              "ticks": "outside"
             }
            },
            "type": "scatterternary"
           }
          ],
          "surface": [
           {
            "colorbar": {
             "outlinewidth": 1,
             "tickcolor": "rgb(36,36,36)",
             "ticks": "outside"
            },
            "colorscale": [
             [
              0,
              "#440154"
             ],
             [
              0.1111111111111111,
              "#482878"
             ],
             [
              0.2222222222222222,
              "#3e4989"
             ],
             [
              0.3333333333333333,
              "#31688e"
             ],
             [
              0.4444444444444444,
              "#26828e"
             ],
             [
              0.5555555555555556,
              "#1f9e89"
             ],
             [
              0.6666666666666666,
              "#35b779"
             ],
             [
              0.7777777777777778,
              "#6ece58"
             ],
             [
              0.8888888888888888,
              "#b5de2b"
             ],
             [
              1,
              "#fde725"
             ]
            ],
            "type": "surface"
           }
          ],
          "table": [
           {
            "cells": {
             "fill": {
              "color": "rgb(237,237,237)"
             },
             "line": {
              "color": "white"
             }
            },
            "header": {
             "fill": {
              "color": "rgb(217,217,217)"
             },
             "line": {
              "color": "white"
             }
            },
            "type": "table"
           }
          ]
         },
         "layout": {
          "annotationdefaults": {
           "arrowhead": 0,
           "arrowwidth": 1
          },
          "autotypenumbers": "strict",
          "coloraxis": {
           "colorbar": {
            "outlinewidth": 1,
            "tickcolor": "rgb(36,36,36)",
            "ticks": "outside"
           }
          },
          "colorscale": {
           "diverging": [
            [
             0,
             "rgb(103,0,31)"
            ],
            [
             0.1,
             "rgb(178,24,43)"
            ],
            [
             0.2,
             "rgb(214,96,77)"
            ],
            [
             0.3,
             "rgb(244,165,130)"
            ],
            [
             0.4,
             "rgb(253,219,199)"
            ],
            [
             0.5,
             "rgb(247,247,247)"
            ],
            [
             0.6,
             "rgb(209,229,240)"
            ],
            [
             0.7,
             "rgb(146,197,222)"
            ],
            [
             0.8,
             "rgb(67,147,195)"
            ],
            [
             0.9,
             "rgb(33,102,172)"
            ],
            [
             1,
             "rgb(5,48,97)"
            ]
           ],
           "sequential": [
            [
             0,
             "#440154"
            ],
            [
             0.1111111111111111,
             "#482878"
            ],
            [
             0.2222222222222222,
             "#3e4989"
            ],
            [
             0.3333333333333333,
             "#31688e"
            ],
            [
             0.4444444444444444,
             "#26828e"
            ],
            [
             0.5555555555555556,
             "#1f9e89"
            ],
            [
             0.6666666666666666,
             "#35b779"
            ],
            [
             0.7777777777777778,
             "#6ece58"
            ],
            [
             0.8888888888888888,
             "#b5de2b"
            ],
            [
             1,
             "#fde725"
            ]
           ],
           "sequentialminus": [
            [
             0,
             "#440154"
            ],
            [
             0.1111111111111111,
             "#482878"
            ],
            [
             0.2222222222222222,
             "#3e4989"
            ],
            [
             0.3333333333333333,
             "#31688e"
            ],
            [
             0.4444444444444444,
             "#26828e"
            ],
            [
             0.5555555555555556,
             "#1f9e89"
            ],
            [
             0.6666666666666666,
             "#35b779"
            ],
            [
             0.7777777777777778,
             "#6ece58"
            ],
            [
             0.8888888888888888,
             "#b5de2b"
            ],
            [
             1,
             "#fde725"
            ]
           ]
          },
          "colorway": [
           "#1F77B4",
           "#FF7F0E",
           "#2CA02C",
           "#D62728",
           "#9467BD",
           "#8C564B",
           "#E377C2",
           "#7F7F7F",
           "#BCBD22",
           "#17BECF"
          ],
          "font": {
           "color": "rgb(36,36,36)"
          },
          "geo": {
           "bgcolor": "white",
           "lakecolor": "white",
           "landcolor": "white",
           "showlakes": true,
           "showland": true,
           "subunitcolor": "white"
          },
          "hoverlabel": {
           "align": "left"
          },
          "hovermode": "closest",
          "mapbox": {
           "style": "light"
          },
          "paper_bgcolor": "white",
          "plot_bgcolor": "white",
          "polar": {
           "angularaxis": {
            "gridcolor": "rgb(232,232,232)",
            "linecolor": "rgb(36,36,36)",
            "showgrid": false,
            "showline": true,
            "ticks": "outside"
           },
           "bgcolor": "white",
           "radialaxis": {
            "gridcolor": "rgb(232,232,232)",
            "linecolor": "rgb(36,36,36)",
            "showgrid": false,
            "showline": true,
            "ticks": "outside"
           }
          },
          "scene": {
           "xaxis": {
            "backgroundcolor": "white",
            "gridcolor": "rgb(232,232,232)",
            "gridwidth": 2,
            "linecolor": "rgb(36,36,36)",
            "showbackground": true,
            "showgrid": false,
            "showline": true,
            "ticks": "outside",
            "zeroline": false,
            "zerolinecolor": "rgb(36,36,36)"
           },
           "yaxis": {
            "backgroundcolor": "white",
            "gridcolor": "rgb(232,232,232)",
            "gridwidth": 2,
            "linecolor": "rgb(36,36,36)",
            "showbackground": true,
            "showgrid": false,
            "showline": true,
            "ticks": "outside",
            "zeroline": false,
            "zerolinecolor": "rgb(36,36,36)"
           },
           "zaxis": {
            "backgroundcolor": "white",
            "gridcolor": "rgb(232,232,232)",
            "gridwidth": 2,
            "linecolor": "rgb(36,36,36)",
            "showbackground": true,
            "showgrid": false,
            "showline": true,
            "ticks": "outside",
            "zeroline": false,
            "zerolinecolor": "rgb(36,36,36)"
           }
          },
          "shapedefaults": {
           "fillcolor": "black",
           "line": {
            "width": 0
           },
           "opacity": 0.3
          },
          "ternary": {
           "aaxis": {
            "gridcolor": "rgb(232,232,232)",
            "linecolor": "rgb(36,36,36)",
            "showgrid": false,
            "showline": true,
            "ticks": "outside"
           },
           "baxis": {
            "gridcolor": "rgb(232,232,232)",
            "linecolor": "rgb(36,36,36)",
            "showgrid": false,
            "showline": true,
            "ticks": "outside"
           },
           "bgcolor": "white",
           "caxis": {
            "gridcolor": "rgb(232,232,232)",
            "linecolor": "rgb(36,36,36)",
            "showgrid": false,
            "showline": true,
            "ticks": "outside"
           }
          },
          "title": {
           "x": 0.05
          },
          "xaxis": {
           "automargin": true,
           "gridcolor": "rgb(232,232,232)",
           "linecolor": "rgb(36,36,36)",
           "showgrid": false,
           "showline": true,
           "ticks": "outside",
           "title": {
            "standoff": 15
           },
           "zeroline": false,
           "zerolinecolor": "rgb(36,36,36)"
          },
          "yaxis": {
           "automargin": true,
           "gridcolor": "rgb(232,232,232)",
           "linecolor": "rgb(36,36,36)",
           "showgrid": false,
           "showline": true,
           "ticks": "outside",
           "title": {
            "standoff": 15
           },
           "zeroline": false,
           "zerolinecolor": "rgb(36,36,36)"
          }
         }
        },
        "title": {
         "text": "Comparison of Normalized Cross Sections, Mass, and Natural Frequencies"
        },
        "xaxis": {
         "showgrid": true,
         "title": {
          "text": "Metric"
         }
        },
        "yaxis": {
         "showgrid": true,
         "title": {
          "text": "Normalized Value"
         }
        }
       }
      }
     },
     "metadata": {},
     "output_type": "display_data"
    }
   ],
   "source": [
    "fig = go.Figure()\n",
    "colors = ['#00B8C8', '#EC6842']  \n",
    "\n",
    "for i, model in enumerate(dfbenchmark.columns[1:]):\n",
    "    fig.add_trace(go.Bar(\n",
    "        x=dfbenchmark['Metric'],\n",
    "        y=dfbenchmark[model],\n",
    "        name=model,\n",
    "        marker=dict(color=colors[i])\n",
    "    ))\n",
    "\n",
    "fig.update_layout(\n",
    "    title=\"Comparison of Normalized Cross Sections, Mass, and Natural Frequencies\",\n",
    "    xaxis=dict(\n",
    "        title=\"Metric\",\n",
    "        showgrid=True,  \n",
    "    ),\n",
    "    yaxis=dict(\n",
    "        title=\"Normalized Value\",\n",
    "        showgrid=True,  \n",
    "    ),\n",
    "    plot_bgcolor='white',\n",
    "    barmode='group',\n",
    "    legend_title_text='Model',\n",
    "    legend_font_size=12,\n",
    "    margin=dict(l=100, r=100, t=100, b=100),\n",
    "    template = \"simple_white\"  \n",
    ")\n",
    "\n",
    "fig.show()"
   ]
  }
 ],
 "metadata": {
  "kernelspec": {
   "display_name": "dsaie",
   "language": "python",
   "name": "python3"
  },
  "language_info": {
   "codemirror_mode": {
    "name": "ipython",
    "version": 3
   },
   "file_extension": ".py",
   "mimetype": "text/x-python",
   "name": "python",
   "nbconvert_exporter": "python",
   "pygments_lexer": "ipython3",
   "version": "3.10.8"
  }
 },
 "nbformat": 4,
 "nbformat_minor": 2
}

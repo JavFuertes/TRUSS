{
 "cells": [
  {
   "cell_type": "markdown",
   "metadata": {},
   "source": [
    "<img \n",
    "    style=\"position: absolute; \n",
    "           left: 60%; \n",
    "           top: 0; /* Added to ensure proper positioning */\n",
    "           height: 900px; \n",
    "           width: 40%; /* Maintain the original width */\n",
    "           object-fit: cover; /* Adjust if necessary */\n",
    "           clip-path: inset(0px 50px 0px 50px round 10px);\" \n",
    "    src=\"https://www.mathworks.com/help/examples/stats/win64/ParellelBayeianOptimizationExample_01.png\" \n",
    "/>\n",
    "\n",
    "</figure>\n",
    "\n",
    "\n",
    "<h1 style=\"width: 60%; color: #EC6842\t\t; font-size: 40pt;\">\n",
    "    <Strong>\n",
    "        CEGM2003 project: Bayesian optimization for truss structures\n",
    "    </Strong>\n",
    "</h1>\n",
    "\n",
    "<h2 id=\"Background\"><B>\n",
    "    Background<a class=\"anchor-link\" href=\"#Background\">&#182;</a>\n",
    "    </B>\n",
    "</h2>\n",
    "<p style=\"text-align: justify; width: 60%; font-weight: normal;\">\n",
    "     Structures that make optimal use of the material they are made of reduces the cost and environmental impact of their construction as the amount of material required. Optimization of structural design is a challenging task because of the high number of design parameters and the relatively expensive evaluation of the suitability of any given design. Standard optimization techniques in high-dimensional design space require a very large number of possible designs that need to be evaluated. In structural analysis, where evaluating the objective function and checking the constraints involves the solution of a structural mechanics problem, e.g. with finite elements, this quickly becomes very expensive, even if the model is relatively simple from structural point of view. Bayesian optimization is a machine-learning-based optimization technique that aims to reduce the number of evaluations of the objective function through data-driven exploration of the design space with a probabilistic surrogate.\n",
    "</p>\n",
    "\n",
    "<h2 id=\"Background\"><B>\n",
    "    Objective & Description<a class=\"anchor-link\" href=\"#Background\">&#182;</a>\n",
    "    </B>\n",
    "</h2>\n",
    "\n",
    "<div style=\"width: 60%; border-top: 4px solid #00B8C8; border-left: 4px solid #00B8C8; background-color: #FFFFFF; padding: 1em 1em 1em 1em; color: #24292E; margin: 10px 0 20px 0; box-sizing: border-box;\">\n",
    "    <div style=\"background-color: #00B8C8; color: white; padding: 0.2em 1em; margin: -1em -1em 0em -1em; font-size: 1.2em;\"><strong>Project Objective</strong></div>\n",
    "    <p><strong>The aim of this project is to find the optimal truss design,</strong><br><br>\n",
    "    we will achieve this through finding the optimal set of nodal coordinates and cross-sectional properties. This project's primary objective is to minimize as much as possible the total weight of the structure, while satisfying some natural constraints of the structure. Moreover, this project will also aim to explore the efficiency of current methods and potentially develop a proprietary solver.</p>\n",
    "</div>"
   ]
  },
  {
   "cell_type": "markdown",
   "metadata": {},
   "source": [
    "## <strong> X | Imports</strong>"
   ]
  },
  {
   "cell_type": "code",
   "execution_count": 21,
   "metadata": {},
   "outputs": [],
   "source": [
    "import sys\n",
    "import io\n",
    "import os\n",
    "import pickle\n",
    "import numpy as np\n",
    "import pandas as pd\n",
    "import torch\n",
    "import matplotlib.pyplot as plt\n",
    "import plotly.express as px\n",
    "import plotly.graph_objs as go\n",
    "\n",
    "from botorch.utils.transforms import normalize\n",
    "from botorch.utils.transforms import unnormalize\n",
    "from tabulate import tabulate\n",
    "from contextlib import redirect_stdout\n",
    "from sklearn.preprocessing import MinMaxScaler\n",
    "\n",
    "from botorch.models import SingleTaskGP\n",
    "from botorch.models import SaasFullyBayesianSingleTaskGP\n",
    "from botorch.fit import fit_gpytorch_model\n",
    "from botorch.fit import fit_fully_bayesian_model_nuts\n",
    "from gpytorch.mlls import ExactMarginalLogLikelihood\n",
    "from gpytorch.likelihoods import GaussianLikelihood\n",
    "from botorch.acquisition import ExpectedImprovement\n",
    "from botorch.optim import optimize_acqf\n",
    "\n",
    "sys.path.append('../pyJive/')\n",
    "from utils import proputils as pu\n",
    "from names import GlobNames as gn\n",
    "import main"
   ]
  },
  {
   "cell_type": "code",
   "execution_count": 189,
   "metadata": {},
   "outputs": [
    {
     "name": "stdout",
     "output_type": "stream",
     "text": [
      "Using device: cpu\n"
     ]
    }
   ],
   "source": [
    "# Check if CUDA is available, otherwise use CPU\n",
    "device = torch.device('cuda' if torch.cuda.is_available() else 'cpu')\n",
    "print(f'Using device: {device}')"
   ]
  },
  {
   "cell_type": "markdown",
   "metadata": {},
   "source": [
    "## <strong> 0 | Classes & Dependencies</strong>"
   ]
  },
  {
   "cell_type": "code",
   "execution_count": 61,
   "metadata": {},
   "outputs": [],
   "source": [
    "class TRUSS():\n",
    "    def __init__(self, file_path, file_name, output_path, write_name, violation_penalty, scalers, bounds, lower_area=4e-3, freq_constraints=[20, 40, 60], mass_weight=1, freq_weight=1):\n",
    "        # Configuration Parameters\n",
    "        self.config = {\n",
    "            \"read_file_path\": file_path,\n",
    "            \"read_file_name\": file_name,\n",
    "            \"write_file_path\": output_path,\n",
    "            \"write_file_name\": write_name,\n",
    "            \"violation_penalty\": violation_penalty,\n",
    "            \"scalers\": {\"y\": scalers[0], \"a\": scalers[1]},\n",
    "            \"lower_area\": lower_area,\n",
    "            \"bounds\" : bounds,\n",
    "            \"freq_constraints\": freq_constraints,\n",
    "            \"mass_weight\": mass_weight,\n",
    "            \"freq_weight\": freq_weight,\n",
    "            \"density\": 7850,  # kg/m^3 As per Garnachos\n",
    "        }\n",
    "\n",
    "        self.state = {\n",
    "            \"nodes\": {},\n",
    "            \"connectivity\": None,\n",
    "            \"member_df\": None,\n",
    "            \"y_coordinates\": None,\n",
    "            \"x_coordinates\": None,\n",
    "            \"cross_sections\": None,\n",
    "            \"lengths\": None,\n",
    "            \"mass_norm\": 360,\n",
    "            \"monitor_df\": None\n",
    "        }\n",
    "\n",
    "        self.columns = [\"Metric\", \"Total Loss\", \"Natural Frequencies\", \"Mass of Truss\", \"Normalized Mass Loss\", \"Frequency Penalty\", \"Constraint Violation (Loss No W)\"]\n",
    "        self.state[\"monitor_df\"] = pd.DataFrame(columns=self.columns)\n",
    "    # -------------------------- Import & Writing Files -------------------------- #\n",
    "    def read_geom_file(self):\n",
    "        path = os.path.normpath(os.path.join(self.config[\"read_file_path\"], self.config[\"read_file_name\"]))\n",
    "        with open(path, 'r') as file:\n",
    "            lines = file.readlines()\n",
    "\n",
    "        nodes = {}\n",
    "        members = []\n",
    "        section = None\n",
    "\n",
    "        for line in lines:\n",
    "            line = line.strip()\n",
    "            if line.startswith('node:'):\n",
    "                section = 'node'\n",
    "            elif line.startswith('member:'):\n",
    "                section = 'member'\n",
    "            else:\n",
    "                if section == 'node' and line:\n",
    "                    parts = line.split()\n",
    "                    node_number = int(parts[0])\n",
    "                    node_data = tuple(map(float, parts[1:]))\n",
    "                    nodes[node_number] = node_data\n",
    "                elif section == 'member' and line:\n",
    "                    member_data = tuple(map(int, line.split()))\n",
    "                    members.append(member_data)\n",
    "\n",
    "        self.state[\"nodes\"] = nodes\n",
    "        self.state[\"member_df\"] = pd.DataFrame(members, columns=['Node #1', 'Node #2', 'Number of Elements', 'Cross-section Type'])\n",
    "\n",
    "        connectivity = self.state[\"member_df\"].to_numpy()\n",
    "        self.state[\"connectivity\"] = connectivity[:, :2]\n",
    "        self.state[\"y_coordinates\"] = np.array([value[1] for _, value in nodes.items()])\n",
    "        self.state[\"x_coordinates\"] = np.array([value[0] for _, value in nodes.items()])\n",
    "\n",
    "    def write_geom_file(self,path_,write_file): \n",
    "        path = os.path.normpath(os.path.join(path_,write_file))\n",
    "        file = open(path)\n",
    "\n",
    "        for i, (x, _) in self.state[\"nodes\"].items():\n",
    "            self.state[\"nodes\"][i] = (x, self.state[\"y_coordinates\"][i])\n",
    "\n",
    "        geom = 'node: node #, x-coordinate; y-coordinate\\n'\n",
    "        for node_num, coords in self.state[\"nodes\"].items():\n",
    "            geom += f\"{node_num} {' '.join(map(str, coords))}\\n\"\n",
    "        \n",
    "        connectivity = self.state[\"member_df\"].to_numpy()\n",
    "        geom += '\\nmember: Node #1; Node #2; number of elements; cross-section type\\n'\n",
    "        for row in connectivity:\n",
    "            geom += ' '.join(map(str, row)) + '\\n'\n",
    "\n",
    "        output_file_path = os.path.normpath(os.path.join(path_,'TRUSS.geom'))\n",
    "        with open(output_file_path, 'w') as file:\n",
    "            file.write(geom)\n",
    "            \n",
    "        return file.name\n",
    "    \n",
    "    def fit_scalers(self, initial_data):\n",
    "        y_data = initial_data[:5].reshape(1, -1).T\n",
    "        a_data = initial_data[5:].reshape(1, -1).T\n",
    "        self.config[\"scalers\"][\"y\"].fit(y_data)\n",
    "        self.config[\"scalers\"][\"a\"].fit(a_data)\n",
    "\n",
    "    def scaler(self, mode, x_values, scaler_type):\n",
    "        scaler = self.config[\"scalers\"][scaler_type]\n",
    "        x_values = x_values.reshape(1, -1).T\n",
    "        if mode == 'scale':\n",
    "            scaled_values = scaler.transform(x_values)\n",
    "        elif mode == 'descale':\n",
    "            scaled_values = scaler.inverse_transform(x_values)\n",
    "        return scaled_values.flatten()\n",
    "    \n",
    "    def areas_coordinates_write_split(self, x_list):        \n",
    "        y_coordinates = np.copy(self.state[\"y_coordinates\"])  # Use a copy to avoid modifying the original array directly\n",
    "        areas = x_list[5:]\n",
    "        y_coords = x_list[:5]\n",
    "        for i, y in enumerate(y_coords, start=1):\n",
    "            y_coordinates[2 * i] = y\n",
    "            y_coordinates[20 - 2 * i] = y\n",
    "\n",
    "        self.state[\"y_coordinates\"] = y_coordinates  # Update state\n",
    "\n",
    "        return areas, y_coords\n",
    "    # ---------------------------------------------------------------------------- #\n",
    "    #                                TARGET FUNCTION                               #\n",
    "    # ---------------------------------------------------------------------------- #\n",
    "    def loss_function(self, x_list):\n",
    "        \"\"\"\n",
    "        Calculate the loss for a given set of design parameters.\n",
    "        Parameters:\n",
    "        x_list (list): A list of design parameters.\n",
    "        Returns:\n",
    "        float: The calculated loss based on mass, frequency constraints, and imaginary penalties.\n",
    "        \"\"\"\n",
    "        if isinstance(x_list,torch.Tensor):\n",
    "            x_list = x_list.detach().cpu().numpy().flatten()\n",
    "            self.temporary = x_list\n",
    "        \n",
    "        A_list, y_list = self.areas_coordinates_write_split(x_list)\n",
    "        mass_truss = self.mass_truss(A_list, y_list)\n",
    "        freq1, freq2, freq3 = self.eigenfrequencies(A_list)\n",
    "        frequencies = np.array([freq1, freq2, freq3])\n",
    "\n",
    "        freq_penalty = 0\n",
    "        all_positive = True\n",
    "        for f, t in zip(frequencies, self.config[\"freq_constraints\"]):\n",
    "            diff = f - t\n",
    "            penalty_factor = 1 if diff >= 0 else self.config[\"violation_penalty\"]\n",
    "            freq_penalty += penalty_factor * (np.abs(diff) / t)\n",
    "            if diff < 0:\n",
    "                all_positive = False\n",
    "        \n",
    "        if all_positive:\n",
    "            self.state[\"mass_norm\"] = min(mass_truss, self.state[\"mass_norm\"])\n",
    "\n",
    "        normalized_mass_penalty = (mass_truss - self.state[\"mass_norm\"]) / self.state[\"mass_norm\"]\n",
    "        normalized_freq_penalty = freq_penalty / len(self.config[\"freq_constraints\"])\n",
    "        constraint_violation = normalized_freq_penalty + normalized_mass_penalty\n",
    "\n",
    "        LOSS = (self.config[\"mass_weight\"] * normalized_mass_penalty +\n",
    "                self.config[\"freq_weight\"] * normalized_freq_penalty)\n",
    "        # -------------------------- Optimisation monitoring ------------------------- #\n",
    "        optmonitor_data = [\n",
    "            [\"Metric\",\"Total Loss\", \"Natural Frequencies\", \"Mass of Truss\", \"Normalized Mass Loss\", \"Frequency Penalty\", \"Constraint Violation (Loss No W)\"],\n",
    "            [\"Value\",LOSS, frequencies, mass_truss, normalized_mass_penalty, normalized_freq_penalty, constraint_violation]\n",
    "        ]\n",
    "        print(f'{tabulate(optmonitor_data, headers=\"firstrow\", tablefmt=\"grid\")}\\n')\n",
    "        \n",
    "        row_data = optmonitor_data[1][0:]\n",
    "        new_data = pd.DataFrame([row_data], columns=self.columns)\n",
    "        self.state[\"monitor_df\"] = pd.concat([self.state[\"monitor_df\"], new_data], ignore_index=True)\n",
    "         \n",
    "        return LOSS\n",
    "\n",
    "    # ----------------------------- SUPPORT FUNCTIONS ---------------------------- #\n",
    "    def eigenfrequencies(self,A_list):\n",
    "        path = os.path.normpath(os.path.join(self.config[\"read_file_path\"], 'bridge_frequency.pro'))\n",
    "        \n",
    "        props = pu.parse_file(path)\n",
    "        props['model']['truss']['area'] = A_list\n",
    "        props['init']['mesh']['file'] = self.write_geom_file(self.config[\"write_file_path\"], self.config[\"write_file_name\"])\n",
    "        \n",
    "        trap = io.StringIO()\n",
    "        with redirect_stdout(trap):\n",
    "            globdat = main.jive(props)\n",
    "        \n",
    "        return (globdat[gn.EIGENFREQS][0:3] / 2 / np.pi)\n",
    "\n",
    "    def mass_truss(self,areas, y_list):\n",
    "        x_coordinates = self.state[\"x_coordinates\"]\n",
    "        y_coordinates = self.state[\"y_coordinates\"]\n",
    "        \n",
    "        for i, y in enumerate(y_list, start=1):\n",
    "            y_coordinates[2 * i] = y\n",
    "            y_coordinates[20 - 2 * i] = y\n",
    "\n",
    "        coordinates = list(zip(x_coordinates, y_coordinates))\n",
    "        lengths = np.zeros(len(self.state[\"connectivity\"]))\n",
    "        for i, (node1, node2) in enumerate(self.state[\"connectivity\"]):\n",
    "            x1, y1 = coordinates[node1]  # Adjusting index to start from 0\n",
    "            x2, y2 = coordinates[node2]\n",
    "            lengths[i] = np.sqrt((x2 - x1) ** 2 + (y2 - y1) ** 2)\n",
    "\n",
    "        n_elements = self.state[\"member_df\"].iloc[:,2].sum()\n",
    "        areas_i = np.zeros(n_elements)\n",
    "        cross_section_number = self.state[\"member_df\"].iloc[:,-1] \n",
    "        \n",
    "        for i,item in enumerate(cross_section_number):\n",
    "                areas_i[i] = areas[item]\n",
    "        self.temporary = areas_i\n",
    "        self.state[\"cross_sections\"] = areas[:15]\n",
    "        self.state[\"lengths\"] = lengths\n",
    "\n",
    "        volumes = lengths * areas_i\n",
    "        total_volume = np.sum(volumes)\n",
    "        dens = 7800\n",
    "        mass = total_volume * dens\n",
    "\n",
    "        return mass\n",
    "    # ----------------------------------- OTHER ---------------------------------- #\n",
    "    def wrpr_final_results(self):\n",
    "        \n",
    "        mask = self.state[\"monitor_df\"][\"Natural Frequencies\"][:].apply(lambda x: (x >= self.config[\"freq_constraints\"]).all())\n",
    "        ind = self.state[\"monitor_df\"][mask][\"Mass of Truss\"].idxmin()\n",
    "        min_mass_iter = self.state[\"monitor_df\"].iloc[ind]\n",
    "        best_x = unnormalize(X_init_single[ind], bounds= self.config[\"bounds\"].T)\n",
    "\n",
    "        areas ,y_coords = self.areas_coordinates_write_split(best_x)\n",
    "        _ = self.mass_truss(areas, y_coords) # Serves to update state\n",
    "        path_wr = self.write_geom_file(self.config[\"write_file_path\"], 'TRUSS.geom')\n",
    "\n",
    "        path = os.path.normpath(os.path.join(self.config[\"write_file_path\"],'bridge_frequency_truss.pro'))\n",
    "        props = pu.parse_file(path)\n",
    "        props['model']['truss']['area'] = self.state[\"cross_sections\"]\n",
    "        props['init']['mesh']['file'] = path_wr\n",
    "        trap = io.StringIO()\n",
    "        with redirect_stdout(trap):\n",
    "            globdat = main.jive(props)\n",
    "        print(f'TRUSS NFs:{(globdat[gn.EIGENFREQS][0:3] / 2 / np.pi)} and Mass:{min_mass_iter}')\n",
    "    \n",
    "    def Initial_guess(self, optim_dims):\n",
    "        sampled_points = np.zeros(len(optim_dims))\n",
    "        for i, dim_index in enumerate(optim_dims):\n",
    "            lower_bound, upper_bound = self.config[\"bounds\"][i]\n",
    "            sampled_points[i] = np.random.uniform(lower_bound, upper_bound)\n",
    "        return sampled_points\n",
    "    \n",
    "    def objective_function(self, x):\n",
    "        \"\"\"\n",
    "        Evaluates the objective function using another object's method.\n",
    "        \"\"\"\n",
    "        return self.loss_function(x)\n",
    "    "
   ]
  },
  {
   "cell_type": "code",
   "execution_count": 193,
   "metadata": {},
   "outputs": [],
   "source": [
    "class BayesianOptimizer(): \n",
    "    def __init__(self, target_func, x_init, y_init, n_iter, batch_size, bounds):\n",
    "        \n",
    "        self.config = {\n",
    "            'x_init': x_init,\n",
    "            'y_init': y_init,\n",
    "            'target_func': target_func,\n",
    "            'n_iter': n_iter,\n",
    "            'batch_size': batch_size,\n",
    "            'bounds': bounds,\n",
    "            'boundsmm': [(0,1), (0,1)], # Bounds consistent with Minmax scaling \n",
    "        }\n",
    "        self.config['x_bounds'] = [self.config['boundsmm'][0]] * 5 + [self.config['boundsmm'][1]] * 15\n",
    "        \n",
    "        self.best_samples_ = pd.DataFrame(columns=['x', 'y', 'ei'])\n",
    "        self.metrics = {\n",
    "            'distances': [],\n",
    "            'uncertainty': [],\n",
    "            'y_loss': [],\n",
    "        }\n",
    "        \n",
    "        gp_config = {\n",
    "            'matern_length_scale_bounds': (1e-3, 1e5),\n",
    "            'initial_length_scale': np.ones(20),\n",
    "            'nu': 0.5,\n",
    "        }\n",
    "        kernel = Matern(length_scale=gp_config['initial_length_scale'], \n",
    "                        length_scale_bounds=gp_config['matern_length_scale_bounds'], \n",
    "                        nu=gp_config['nu'])\n",
    "        self.gauss_pr = GaussianProcessRegressor(kernel=kernel, n_restarts_optimizer=10)\n",
    "\n",
    "    def estimate_uncertainty(self, n=10):\n",
    "        sampled_points = []\n",
    "        uncertainties = []\n",
    "        for _ in range(100):  # Sample 100 times\n",
    "                x_start = self.next_guess()  # Random starting point for exploration \n",
    "                x_start_sc = self.scaler(x_start, 'scale')       \n",
    "\n",
    "                y, cov = self.gauss_pr.predict(np.array(x_start_sc).reshape(1, -1), return_std=True)\n",
    "                sampled_points.append(x_start_sc)\n",
    "                uncertainties.append(cov[0])  # We use the standard deviation (uncertainty)\n",
    "\n",
    "        uncertainties = np.array(uncertainties)\n",
    "        sampled_points = np.array(sampled_points)\n",
    "        sorted_indices = np.argsort(-uncertainties)\n",
    "        top_n_points = sampled_points[sorted_indices[:n]]\n",
    "\n",
    "        return top_n_points\n",
    "        \n",
    "    def _acquisition_function(self, x_new):\n",
    "        '''\n",
    "        Calculates the expected improvement at a given point x_new\n",
    "        '''\n",
    "        mean_y_new, sigma_y_new = self.gauss_pr.predict(np.array(x_new).reshape(1, -1), return_std=True)\n",
    "        if sigma_y_new == 0.0:\n",
    "            return 0.0\n",
    "\n",
    "        min_mean_y = np.min(self.config['y_init'])\n",
    "        z = (min_mean_y - mean_y_new) / sigma_y_new\n",
    "        exp_imp = (min_mean_y - mean_y_new) * norm.cdf(z) + sigma_y_new * norm.pdf(z)\n",
    "        return -exp_imp\n",
    "  \n",
    "    def _get_next_probable_point(self):\n",
    "        '''\n",
    "        We only standardise the data after the minimisation so the LOSS FUNCTION operates with standard scales\n",
    "        ### FIX , Before We were only returning if better this does not allow the gaussian process to understand the data as well\n",
    "        '''\n",
    "        x_optimal = None\n",
    "        x_next_sc = None\n",
    "        max_acq_value = float('inf')\n",
    "\n",
    "        for _ in range(self.config['batch_size']):\n",
    "            x_start_sc = self.estimate_uncertainty(n=10)\n",
    "            res = minimize(fun=self._acquisition_function, x0=x_start_sc, bounds=self.config['x_bounds'], method='L-BFGS-B')\n",
    "            if res.fun < max_acq_value:\n",
    "                max_acq_value = res.fun\n",
    "                x_next_sc = res.x\n",
    "                x_optimal = self.scaler(x_next_sc, 'descale')\n",
    "\n",
    "        return x_optimal, x_next_sc, -max_acq_value\n",
    "    \n",
    "    def _extend_prior_with_posterior_data(self, x, y):\n",
    "        self.config['x_init'] = np.append(self.config['x_init'], np.array([x]), axis=0)\n",
    "        self.config['y_init'] = np.append(self.config['y_init'], np.array([y]), axis=0)\n",
    "\n",
    "  \n",
    "    def optimize(self):\n",
    "        \"\"\"\n",
    "        Performs optimization to minimize the target function using Gaussian Process Regression.\n",
    "\n",
    "        Iteratively selects and evaluates new points based on the Expected Improvement (EI) criterion,\n",
    "        updating the optimal point and minimum value found.\n",
    "\n",
    "        Returns:\n",
    "            optimal_x (np.ndarray): Optimal input values minimizing the target function.\n",
    "            y_min (float): Minimum value of the target function observed.\n",
    "        \"\"\"\n",
    "        y_min_ind = np.argmin(self.config['y_init'])\n",
    "        y_min = self.config['y_init'][y_min_ind]\n",
    "        optimal_x = self.config['x_init'][y_min_ind]\n",
    "        optimal_ei = None\n",
    "\n",
    "        for i in range(self.config['n_iter']):\n",
    "            print(f'Iteration: {i} Best loss = {y_min:.2f}\\n')\n",
    "            self.gauss_pr.fit(self.config['x_init'], self.config['y_init'])\n",
    "            x_next, x_next_sc, ei = self._get_next_probable_point()\n",
    "            y_next = self.config['target_func'](np.array(x_next))  # Call target function\n",
    "            self._extend_prior_with_posterior_data(x_next_sc, y_next)\n",
    "            if y_next < y_min:\n",
    "                y_min = y_next\n",
    "                optimal_x = x_next\n",
    "                optimal_ei = ei\n",
    "\n",
    "            self.metrics['best_samples_'] = pd.concat([self.metrics['best_samples_'], pd.DataFrame({\"x\": [optimal_x], \"y\": [y_min], \"ei\": [optimal_ei]})], ignore_index=True)\n",
    "        return optimal_x, y_min\n",
    "\n",
    "    @staticmethod\n",
    "    def next_guess(bounds):\n",
    "        \"\"\"\n",
    "        Generate a next guess based on the bounds provided.\n",
    "        \n",
    "        Parameters:\n",
    "        - bounds: A tuple containing two elements, each an (min, max) tuple representing bounds.\n",
    "        \n",
    "        Returns:\n",
    "        - A numpy array containing random values within the specified bounds.\n",
    "        \"\"\"\n",
    "        y_bound = bounds[0]\n",
    "        A_bound = bounds[1]\n",
    "        y = np.random.uniform(y_bound[0], y_bound[1], 5)\n",
    "        Areas = np.random.uniform(A_bound[0], A_bound[1], 15)\n",
    "        x_list = np.append(y, Areas)\n",
    "        return x_list\n",
    "\n",
    "    @staticmethod\n",
    "    def scaler(x, mode, OBJECT):\n",
    "        \"\"\"\n",
    "        Scales or descales the provided array x using another object's scaler method.\n",
    "        \n",
    "        Parameters:\n",
    "        - x: The input array to scale or descale.\n",
    "        - mode: A string indicating the scaling mode ('scale' or 'descale').\n",
    "        - OBJECT: An instance of another class with a 'scaler' method to perform the actual scaling.\n",
    "        \n",
    "        Returns:\n",
    "        - A numpy array that has been scaled or descaled by the OBJECT's scaler method.\n",
    "        \"\"\"\n",
    "        y_coords = x[:5]\n",
    "        y_coords_sc = OBJECT.scaler(mode, y_coords, 'y')\n",
    "        areas = x[5:]\n",
    "        areas_sc = OBJECT.scaler(mode, areas, 'a')\n",
    "        x_out = np.concatenate([y_coords_sc, areas_sc])\n",
    "        return x_out \n"
   ]
  },
  {
   "cell_type": "markdown",
   "metadata": {},
   "source": [
    "## <strong> 1 | Initialisation</strong>"
   ]
  },
  {
   "cell_type": "code",
   "execution_count": 62,
   "metadata": {},
   "outputs": [],
   "source": [
    "# -------------------------------- Definitions ------------------------------- #\n",
    "read_file_path = '../truss_bridge/data'\n",
    "read_file = 'bridge.geom'\n",
    "write_file_path =  '../truss_bridge/data/@TRUSS'\n",
    "write_file = 'TRUSS.geom'\n",
    "optim_dims = [i for i in range(20)]  \n",
    "lower_area = 40e-4\n",
    "violation_factor = 6\n",
    "freq_constraints = [20,40,60]\n",
    "mass_weight = 2.5\n",
    "freq_weight = 6.0\n",
    "A_bound = (0.0001, 0.01)\n",
    "y_bound = (0.5, 2)\n",
    "scalers = [MinMaxScaler(),MinMaxScaler()] \n",
    "bounds = np.array([y_bound if index <= 4 else A_bound for index in optim_dims])\n",
    "bounds[5] = (lower_area - A_bound[0], lower_area + A_bound[0])\n",
    "\n",
    "TRUSS1= TRUSS(read_file_path,\n",
    "               read_file,\n",
    "                write_file_path,\n",
    "                write_file,\n",
    "                violation_factor,\n",
    "                scalers,\n",
    "                bounds,\n",
    "                freq_constraints= freq_constraints, \n",
    "                mass_weight= mass_weight, \n",
    "                freq_weight= freq_weight)\n",
    "TRUSS1.read_geom_file()"
   ]
  },
  {
   "cell_type": "code",
   "execution_count": 388,
   "metadata": {},
   "outputs": [
    {
     "name": "stderr",
     "output_type": "stream",
     "text": [
      "C:\\Users\\javie\\AppData\\Local\\Temp\\ipykernel_24224\\664015927.py:162: FutureWarning: The behavior of DataFrame concatenation with empty or all-NA entries is deprecated. In a future version, this will no longer exclude empty or all-NA columns when determining the result dtypes. To retain the old behavior, exclude the relevant entries before the concat operation.\n",
      "  self.state[\"monitor_df\"] = pd.concat([self.state[\"monitor_df\"], new_data], ignore_index=True)\n"
     ]
    }
   ],
   "source": [
    "# -------------------------------- Initiation -------------------------------- #\n",
    "n_samples =  10\n",
    "x_list = []\n",
    "y_list = []\n",
    "x_list_sc = []\n",
    "x_0 = np.empty(len(optim_dims))\n",
    "\n",
    "for _ in range(n_samples):\n",
    "    x_c = np.copy(x_0) # Reset seed\n",
    "    x_random = TRUSS1.Initial_guess(optim_dims)\n",
    "    x_c[optim_dims] = x_random\n",
    "    x_list.append(x_c)\n",
    "# \n",
    "trap = io.StringIO()\n",
    "with redirect_stdout(trap):\n",
    "    for x in x_list:\n",
    "        LOSS = TRUSS1.loss_function(x)\n",
    "        y_list.append(LOSS)\n",
    "# \n",
    "# ---------------------------- INITIATE OPTIMISER ---------------------------- #\n",
    "bounds = torch.tensor(bounds.T)\n",
    "X_init_norm = normalize(X_SAAS, bounds=bounds)  \n",
    "y_init_t = torch.tensor(y_list).reshape(-1,1)"
   ]
  },
  {
   "cell_type": "markdown",
   "metadata": {},
   "source": [
    "## <strong> 2 | Optimisation </strong>"
   ]
  },
  {
   "cell_type": "markdown",
   "metadata": {},
   "source": [
    "### <strong> 2.1 | Single task Optimisation </strong>\n",
    "\n",
    "Best performing algorithm although it does not have a as strong probabilistic interpretation as the SAAS model for this dimension space it converges to a solution faster. The algorithm coverges faster to a solution with smaller batch sizes this is potentially since the bounds and constraints introduced are already quite small and the solution spaces in between and in these are relatively proportional."
   ]
  },
  {
   "cell_type": "code",
   "execution_count": 360,
   "metadata": {},
   "outputs": [],
   "source": [
    "def SingleBOPT(Y_init_single, X_init_single, n_iter, batch_size, Nrestats, objective_function):\n",
    "    gp_model = SingleTaskGP(X_init_single, Y_init_single)\n",
    "    mll = ExactMarginalLogLikelihood(gp_model.likelihood, gp_model)\n",
    "    fit_gpytorch_model(mll)\n",
    "    gp_model.set_train_data(inputs=X_init_single, targets=Y_init_single.flatten(), strict=False)\n",
    "    \n",
    "    for iteration in range(n_iter):\n",
    "        print(f'Iteration: {iteration} Best loss = {Y_init_single.min().item():.2f}\\n')\n",
    "        acq_func = ExpectedImprovement(model=gp_model, best_f=Y_init_single.min(), maximize=False)\n",
    "        new_x, _ = optimize_acqf(\n",
    "            acq_function=acq_func,\n",
    "            bounds=bounds,\n",
    "            q=1,\n",
    "            num_restarts= Nrestats,\n",
    "            raw_samples= batch_size,\n",
    "        )\n",
    "        new_x_unnorm = unnormalize(new_x, bounds=bounds)\n",
    "        new_y = objective_function(new_x_unnorm)\n",
    "        new_y = torch.tensor(new_y, dtype=torch.float32).reshape(1,-1)\n",
    "        X_init_single = torch.cat([X_init_single, new_x])\n",
    "        Y_init_single = torch.cat([Y_init_single, new_y])\n",
    "        \n",
    "        gp_model.set_train_data(inputs=X_init_single, targets=Y_init_single.flatten(), strict=False)\n",
    "        fit_gpytorch_model(mll)\n",
    "    return X_init_single, Y_init_single"
   ]
  },
  {
   "cell_type": "code",
   "execution_count": null,
   "metadata": {},
   "outputs": [],
   "source": [
    "Y_init_single , X_init_single = y_init_t, X_init_norm\n",
    "objective_function = TRUSS1.loss_function\n",
    "n_iter = 50\n",
    "batch_size = 15\n",
    "Nrestats = 10\n",
    "\n",
    "X_init_single , Y_init_single = SingleBOPT(Y_init_single, X_init_single, n_iter, batch_size, Nrestats, objective_function)"
   ]
  },
  {
   "cell_type": "markdown",
   "metadata": {},
   "source": [
    "### <strong> 2.2 | Read and Write Data </strong>"
   ]
  },
  {
   "cell_type": "code",
   "execution_count": 392,
   "metadata": {},
   "outputs": [],
   "source": [
    "# -------------------------- SAVE DATA !!DO NOT RUN -------------------------- #\n",
    "# file_name = \"TRUSS1_bopt_data.pkl\"\n",
    "# path_s = os.path.normpath(os.path.join(write_file_path, file_name))\n",
    "\n",
    "# data_single = {\n",
    "#     \"Y_init_single\": Y_init_single,\n",
    "#     \"X_init_single\": X_init_single,\n",
    "#     \"n_iter\": n_iter,\n",
    "#     \"batch_size\": batch_size,\n",
    "#     \"Nrestats\": Nrestats,\n",
    "#     \"X_single\": X_init_single,\n",
    "#     \"Y_single\": Y_init_single,\n",
    "#     \"TRUSS\": TRUSS1\n",
    "# }\n",
    "# data_to_save = [data_single]\n",
    "\n",
    "# with open(path_s, 'wb') as file:\n",
    "#     pickle.dump(data_to_save, file)"
   ]
  },
  {
   "cell_type": "code",
   "execution_count": 63,
   "metadata": {},
   "outputs": [],
   "source": [
    "file_name = \"TRUSS1_bopt_data.pkl\"\n",
    "path_s = os.path.normpath(os.path.join(write_file_path, file_name))\n",
    "with open(path_s, 'rb') as file:\n",
    "    loaded_data = pickle.load(file)\n",
    "\n",
    "data_single = loaded_data[0]\n",
    "\n",
    "Y_init_single = data_single[\"Y_init_single\"]\n",
    "X_init_single = data_single[\"X_init_single\"]\n",
    "n_iter = data_single[\"n_iter\"]\n",
    "batch_size = data_single[\"batch_size\"]\n",
    "Nrestats = data_single[\"Nrestats\"]\n",
    "X_init_single = data_single[\"X_single\"]\n",
    "Y_init_single = data_single[\"Y_single\"]\n",
    "TRUSS1 = data_single[\"TRUSS\"]"
   ]
  },
  {
   "cell_type": "markdown",
   "metadata": {},
   "source": [
    "## <strong> 3 | Results </strong>"
   ]
  },
  {
   "cell_type": "markdown",
   "metadata": {},
   "source": [
    "### <strong> 3.1 | TRUSS Run </strong>"
   ]
  },
  {
   "cell_type": "code",
   "execution_count": null,
   "metadata": {},
   "outputs": [],
   "source": []
  },
  {
   "cell_type": "markdown",
   "metadata": {},
   "source": [
    "### <strong> 3.2 | Investigating the variance in solution paths </strong>\n",
    "\n",
    "Investigating the solution path we can observe how there is a very big variance between specific runs although this is moreso uncommon it demonstrates how unlike Kanarachos perhaps our Bopt solver is not as resilient to changing solution spaces. This is particularly an issue in our case since our solution space will change depending on the hyperparameters of our loss function. It is therefore important to account well for such behaviour."
   ]
  },
  {
   "cell_type": "code",
   "execution_count": 17,
   "metadata": {},
   "outputs": [],
   "source": [
    "# ------------------------- IMPORT ENSEMBLE LOOP DATA ------------------------ #\n",
    "file_name = \"TRUSS1_ensemble_data.pkl\"\n",
    "path_s = os.path.normpath(os.path.join(write_file_path, file_name))\n",
    "with open(path_s, 'rb') as file:\n",
    "    loaded_data = pickle.load(file)\n",
    "    data = loaded_data[0]\n",
    "\n",
    "results_single = data[\"results_single\"]\n",
    "mean_single =  data[\"mean_single\"]\n",
    "std_single = data[\"std_single\"]\n",
    "\n",
    "# ----------------------------- RUN ENSEMBLE LOOP ---------------------------- #\n",
    "# num_runs = 5\n",
    "# n_iter_comparison = 50\n",
    "# results_single = np.zeros((num_runs, n_iter_comparison))\n",
    "# Y_init_bpt , X_init_bpt = y_init_t, X_init_norm\n",
    "\n",
    "# for i in range(num_runs):\n",
    "#     _, Y_init_p = SingleBOPT(Y_init_bpt, X_init_bpt, n_iter_comparison, batch_size, Nrestats)\n",
    "#     results_single[i, :] = Y_init_p[n_samples:].flatten()\n",
    "# mean_single = np.mean(results_single, axis=0)\n",
    "# std_single = np.std(results_single, axis=0)\n",
    "\n",
    "results_single = results_single.T  \n",
    "mean_single = results_single.mean(axis=1)\n",
    "std_single = results_single.std(axis=1)\n",
    "confidence_interval = 1.96 * (std_single / np.sqrt(num_runs))"
   ]
  },
  {
   "cell_type": "code",
   "execution_count": 25,
   "metadata": {},
   "outputs": [
    {
     "data": {
      "application/vnd.plotly.v1+json": {
       "config": {
        "plotlyServerURL": "https://plot.ly"
       },
       "data": [
        {
         "line": {
          "color": "rgba(30, 136, 229, 0.2)"
         },
         "mode": "lines",
         "name": "Run 1",
         "type": "scatter",
         "x": [
          0,
          1,
          2,
          3,
          4,
          5,
          6,
          7,
          8,
          9,
          10,
          11,
          12,
          13,
          14,
          15,
          16,
          17,
          18,
          19,
          20,
          21,
          22,
          23,
          24,
          25,
          26,
          27,
          28,
          29,
          30,
          31,
          32,
          33,
          34,
          35,
          36,
          37,
          38,
          39,
          40,
          41,
          42,
          43,
          44,
          45,
          46,
          47,
          48,
          49
         ],
         "y": [
          23.685209274291992,
          34.29806900024414,
          5.268447399139404,
          5.057435989379883,
          4.9203267097473145,
          5.387904167175293,
          4.259349346160889,
          4.445407867431641,
          9.410887718200684,
          4.7175612449646,
          6.693123817443848,
          3.8237998485565186,
          5.802593231201172,
          5.743268013000488,
          4.139566898345947,
          4.06007194519043,
          3.5563125610351562,
          5.082597732543945,
          17.570411682128906,
          18.123838424682617,
          29.518678665161133,
          3.7523436546325684,
          16.69744110107422,
          19.760557174682617,
          6.025026321411133,
          16.947172164916992,
          37.34002685546875,
          13.716972351074219,
          25.62188148498535,
          3.358133316040039,
          3.762239694595337,
          20.556171417236328,
          25.720664978027344,
          3.0469577312469482,
          3.3809916973114014,
          2.653419256210327,
          2.0288944244384766,
          1.4776674509048462,
          2.0163025856018066,
          3.1090481281280518,
          1.9822956323623657,
          2.1618893146514893,
          2.4579977989196777,
          1.3185253143310547,
          1.3088377714157104,
          0.951837420463562,
          0.3767947256565094,
          0.29851996898651123,
          0.234829381108284,
          0.076338030397892
         ]
        },
        {
         "line": {
          "color": "rgba(30, 136, 229, 0.30000000000000004)"
         },
         "mode": "lines",
         "name": "Run 2",
         "type": "scatter",
         "x": [
          0,
          1,
          2,
          3,
          4,
          5,
          6,
          7,
          8,
          9,
          10,
          11,
          12,
          13,
          14,
          15,
          16,
          17,
          18,
          19,
          20,
          21,
          22,
          23,
          24,
          25,
          26,
          27,
          28,
          29,
          30,
          31,
          32,
          33,
          34,
          35,
          36,
          37,
          38,
          39,
          40,
          41,
          42,
          43,
          44,
          45,
          46,
          47,
          48,
          49
         ],
         "y": [
          10.226249694824219,
          9.545304298400879,
          11.166484832763672,
          7.216701507568359,
          6.610424518585205,
          12.60735034942627,
          6.213037014007568,
          8.993532180786133,
          5.365880966186523,
          8.372407913208008,
          6.165050029754639,
          7.089226245880127,
          6.0837721824646,
          5.782270908355713,
          7.351611614227295,
          6.65125846862793,
          6.114677906036377,
          6.865415096282959,
          5.962043285369873,
          8.834352493286133,
          5.44760274887085,
          6.398922443389893,
          9.689955711364746,
          6.026005268096924,
          5.467111110687256,
          4.843216896057129,
          6.44218635559082,
          3.3710310459136963,
          2.1891963481903076,
          2.6052701473236084,
          2.0218889713287354,
          1.371715784072876,
          1.8504958152770996,
          2.0141608715057373,
          1.4321668148040771,
          1.6850506067276,
          2.058624029159546,
          5.405184745788574,
          1.2423529624938965,
          3.7022879123687744,
          1.2698289155960083,
          1.3696403503417969,
          0.8767893314361572,
          0.8133008480072021,
          0.2802834212779999,
          0.2902548611164093,
          0.32109901309013367,
          1.5156861543655396,
          0.9890535473823547,
          0.7185472846031189
         ]
        },
        {
         "line": {
          "color": "rgba(30, 136, 229, 0.4)"
         },
         "mode": "lines",
         "name": "Run 3",
         "type": "scatter",
         "x": [
          0,
          1,
          2,
          3,
          4,
          5,
          6,
          7,
          8,
          9,
          10,
          11,
          12,
          13,
          14,
          15,
          16,
          17,
          18,
          19,
          20,
          21,
          22,
          23,
          24,
          25,
          26,
          27,
          28,
          29,
          30,
          31,
          32,
          33,
          34,
          35,
          36,
          37,
          38,
          39,
          40,
          41,
          42,
          43,
          44,
          45,
          46,
          47,
          48,
          49
         ],
         "y": [
          11.653827667236328,
          7.83168363571167,
          7.212130069732666,
          8.556949615478516,
          6.018243312835693,
          11.60754680633545,
          6.6522908210754395,
          4.967675685882568,
          4.882394313812256,
          3.8782379627227783,
          3.0979857444763184,
          2.667370319366455,
          6.750258445739746,
          1.6703219413757324,
          3.545609474182129,
          1.1676150560379028,
          7.080971717834473,
          2.373396396636963,
          2.2882630825042725,
          0.7219805121421814,
          0.5686437487602234,
          0.5116370320320129,
          0.17140401899814606,
          0.965623140335083,
          0.5806219577789307,
          8.592291831970215,
          7.509463310241699,
          0.34258580207824707,
          0.48335564136505127,
          0.3022889792919159,
          1.5091150999069214,
          1.1613160371780396,
          0.1759311407804489,
          2.0976686477661133,
          4.474005699157715,
          3.363495111465454,
          4.729283332824707,
          8.379998207092285,
          1.820367455482483,
          0.7648823261260986,
          1.4060577154159546,
          2.2796530723571777,
          1.88253915309906,
          1.8645062446594238,
          1.2660897970199585,
          0.9269704222679138,
          2.2930362224578857,
          0.158521831035614,
          9.205212593078613,
          2.6012017726898193
         ]
        },
        {
         "line": {
          "color": "rgba(30, 136, 229, 0.5)"
         },
         "mode": "lines",
         "name": "Run 4",
         "type": "scatter",
         "x": [
          0,
          1,
          2,
          3,
          4,
          5,
          6,
          7,
          8,
          9,
          10,
          11,
          12,
          13,
          14,
          15,
          16,
          17,
          18,
          19,
          20,
          21,
          22,
          23,
          24,
          25,
          26,
          27,
          28,
          29,
          30,
          31,
          32,
          33,
          34,
          35,
          36,
          37,
          38,
          39,
          40,
          41,
          42,
          43,
          44,
          45,
          46,
          47,
          48,
          49
         ],
         "y": [
          14.236281394958496,
          26.049409866333008,
          7.00412130355835,
          6.132131099700928,
          6.12885856628418,
          6.095153331756592,
          5.734968662261963,
          4.757657527923584,
          5.32692289352417,
          7.795281410217285,
          8.816327095031738,
          5.514400482177734,
          5.044210433959961,
          5.41316032409668,
          4.562282085418701,
          5.106294631958008,
          4.219750881195068,
          5.636407375335693,
          8.472766876220703,
          4.20622444152832,
          4.490803241729736,
          4.520761489868164,
          4.197645664215088,
          4.094345569610596,
          3.5471668243408203,
          2.9104270935058594,
          2.6700055599212646,
          2.552823543548584,
          2.870457887649536,
          2.353170156478882,
          2.147024631500244,
          2.025637626647949,
          1.5953675508499146,
          0.699797511100769,
          0.35648131370544434,
          0.6777638792991638,
          2.338230848312378,
          0.3394142985343933,
          0.38209789991378784,
          1.6248224973678589,
          0.39140772819519043,
          0.31398236751556396,
          0.33117082715034485,
          1.4286463260650635,
          0.39293408393859863,
          0.4098561108112335,
          4.0367631912231445,
          0.4993138015270233,
          1.1688910722732544,
          0.45898643136024475
         ]
        },
        {
         "line": {
          "color": "rgba(30, 136, 229, 0.6000000000000001)"
         },
         "mode": "lines",
         "name": "Run 5",
         "type": "scatter",
         "x": [
          0,
          1,
          2,
          3,
          4,
          5,
          6,
          7,
          8,
          9,
          10,
          11,
          12,
          13,
          14,
          15,
          16,
          17,
          18,
          19,
          20,
          21,
          22,
          23,
          24,
          25,
          26,
          27,
          28,
          29,
          30,
          31,
          32,
          33,
          34,
          35,
          36,
          37,
          38,
          39,
          40,
          41,
          42,
          43,
          44,
          45,
          46,
          47,
          48,
          49
         ],
         "y": [
          8.886783599853516,
          9.343405723571777,
          5.310904026031494,
          6.28819465637207,
          7.857669830322266,
          5.857572555541992,
          3.96999454498291,
          3.627612590789795,
          2.8887484073638916,
          0.7684518098831177,
          2.110610008239746,
          0.4394908845424652,
          3.1697843074798584,
          0.4470314681529999,
          0.256822794675827,
          1.9258856773376465,
          0.9287366271018982,
          0.3499627411365509,
          3.684959650039673,
          4.049886703491211,
          0.527455747127533,
          0.3716374635696411,
          0.455188512802124,
          0.5412635207176208,
          2.3488008975982666,
          0.856740415096283,
          0.8000525832176208,
          0.39418676495552063,
          0.4360828995704651,
          0.4054330587387085,
          0.7353453040122986,
          1.894386649131775,
          2.0691840648651123,
          0.2887560725212097,
          0.44540855288505554,
          1.6620508432388306,
          0.36919742822647095,
          0.38422900438308716,
          0.34939637780189514,
          1.0012388229370117,
          0.3503378629684448,
          0.19758062064647675,
          0.18794824182987213,
          0.2766974866390228,
          0.3807603716850281,
          1.868825912475586,
          0.24953140318393707,
          0.433420330286026,
          0.521261990070343,
          0.25967302918434143
         ]
        },
        {
         "line": {
          "color": "black",
          "dash": "dash"
         },
         "mode": "lines",
         "name": "Mean Loss",
         "type": "scatter",
         "x": [
          0,
          1,
          2,
          3,
          4,
          5,
          6,
          7,
          8,
          9,
          10,
          11,
          12,
          13,
          14,
          15,
          16,
          17,
          18,
          19,
          20,
          21,
          22,
          23,
          24,
          25,
          26,
          27,
          28,
          29,
          30,
          31,
          32,
          33,
          34,
          35,
          36,
          37,
          38,
          39,
          40,
          41,
          42,
          43,
          44,
          45,
          46,
          47,
          48,
          49
         ],
         "y": [
          13.73767032623291,
          17.413574504852296,
          7.1924175262451175,
          6.650282573699951,
          6.307104587554932,
          8.311105442047118,
          5.365928077697754,
          5.358377170562744,
          5.574966859817505,
          5.106388068199157,
          5.376619338989258,
          3.90685755610466,
          5.370123720169067,
          3.8112105309963225,
          3.97117857336998,
          3.782225155830383,
          4.3800899386405945,
          4.061555868387222,
          7.595688915252685,
          7.1872565150260925,
          8.110636830329895,
          3.111060416698456,
          6.242327001690865,
          6.277558934688568,
          3.5937454223632814,
          6.829969680309295,
          10.95234693288803,
          4.0755199015140535,
          6.3201948523521425,
          1.8048591315746307,
          2.035122740268707,
          5.401845502853393,
          6.282328709959984,
          1.6294681668281554,
          2.0178108155727386,
          2.008355939388275,
          2.3048460125923156,
          3.1972987413406373,
          1.1621034562587738,
          2.040455937385559,
          1.0799855709075927,
          1.2645491451025008,
          1.1472890704870224,
          1.1403352439403533,
          0.7257810890674591,
          0.889548945426941,
          1.455444911122322,
          0.5810924172401428,
          2.42384971678257,
          0.8229493096470832
         ]
        },
        {
         "fill": "toself",
         "fillcolor": "rgba(200, 200, 200, 0.3)",
         "line": {
          "color": "rgba(255,255,255,0)"
         },
         "name": "Confidence Interval",
         "showlegend": false,
         "type": "scatter",
         "x": [
          0,
          1,
          2,
          3,
          4,
          5,
          6,
          7,
          8,
          9,
          10,
          11,
          12,
          13,
          14,
          15,
          16,
          17,
          18,
          19,
          20,
          21,
          22,
          23,
          24,
          25,
          26,
          27,
          28,
          29,
          30,
          31,
          32,
          33,
          34,
          35,
          36,
          37,
          38,
          39,
          40,
          41,
          42,
          43,
          44,
          45,
          46,
          47,
          48,
          49,
          49,
          48,
          47,
          46,
          45,
          44,
          43,
          42,
          41,
          40,
          39,
          38,
          37,
          36,
          35,
          34,
          33,
          32,
          31,
          30,
          29,
          28,
          27,
          26,
          25,
          24,
          23,
          22,
          21,
          20,
          19,
          18,
          17,
          16,
          15,
          14,
          13,
          12,
          11,
          10,
          9,
          8,
          7,
          6,
          5,
          4,
          3,
          2,
          1,
          0
         ],
         "y": [
          18.366022165417977,
          26.84208102918548,
          9.075275144624628,
          7.679456791222505,
          7.1418548426043245,
          11.049489027502577,
          6.300308451681959,
          7.000895652845134,
          7.435004086392372,
          7.534709041363614,
          7.525315212315079,
          5.916312552129147,
          6.447147473774491,
          5.813301285160229,
          5.961621384735971,
          5.550309996716452,
          6.2567718846132925,
          6.136199574361582,
          12.338657766101349,
          12.487977635444755,
          17.655538969377545,
          5.16560336075661,
          11.726452591102465,
          12.447577772722298,
          5.3490825222188505,
          11.795435924724387,
          22.713463471953006,
          8.42759430449659,
          14.820472445922306,
          2.88339880629879,
          2.9083009198508645,
          12.049438285198978,
          14.821240007762853,
          2.5093552194570874,
          3.4563279181954094,
          2.8162409921746887,
          3.5296513050361065,
          5.990505213709403,
          1.7742148254409669,
          3.0614173740949937,
          1.6292127139576449,
          2.037564652577079,
          1.9232217540387708,
          1.619172557099718,
          1.1294046635246362,
          1.3781392006924724,
          2.771375394562656,
          1.0033572717026251,
          5.4100586279128065,
          1.6244200467221128,
          0.021478572572053656,
          -0.5623591943476667,
          0.15882756277766047,
          0.13951442768198818,
          0.40095869016140945,
          0.3221575146102821,
          0.6614979307809887,
          0.37135638693527406,
          0.4915336376279227,
          0.5307584278575405,
          1.0194945006761245,
          0.5499920870765806,
          0.4040922689718718,
          1.0800407201485247,
          1.2004708866018612,
          0.5792937129500675,
          0.7495811141992236,
          -2.2565825878428853,
          -1.2457472794921909,
          1.1619445606865495,
          0.7263194568504712,
          -2.1800827412180217,
          -0.2765545014684836,
          -0.8087696061769449,
          1.8645034358942043,
          1.8384083225077128,
          0.10754009665483988,
          0.7582014122792646,
          1.0565174726403015,
          -1.4342653087177535,
          1.8865353946074297,
          2.8527200644040205,
          1.9869121624128616,
          2.5034079926678965,
          2.014140314944315,
          1.9807357620039892,
          1.8091197768324156,
          4.293099966563643,
          1.8974025600801725,
          3.2279234656634364,
          2.678067095034701,
          3.714929633242638,
          3.7158586882803544,
          4.43154770371355,
          5.5727218565916585,
          5.472354332505539,
          5.621108356177397,
          5.309559907865607,
          7.98506798051911,
          9.109318487047844
         ]
        }
       ],
       "layout": {
        "height": 650,
        "legend": {
         "font": {
          "size": 12
         },
         "title": {
          "text": "Runs"
         }
        },
        "margin": {
         "b": 100,
         "l": 100,
         "r": 100,
         "t": 100
        },
        "plot_bgcolor": "white",
        "template": {
         "data": {
          "bar": [
           {
            "error_x": {
             "color": "#2a3f5f"
            },
            "error_y": {
             "color": "#2a3f5f"
            },
            "marker": {
             "line": {
              "color": "#E5ECF6",
              "width": 0.5
             },
             "pattern": {
              "fillmode": "overlay",
              "size": 10,
              "solidity": 0.2
             }
            },
            "type": "bar"
           }
          ],
          "barpolar": [
           {
            "marker": {
             "line": {
              "color": "#E5ECF6",
              "width": 0.5
             },
             "pattern": {
              "fillmode": "overlay",
              "size": 10,
              "solidity": 0.2
             }
            },
            "type": "barpolar"
           }
          ],
          "carpet": [
           {
            "aaxis": {
             "endlinecolor": "#2a3f5f",
             "gridcolor": "white",
             "linecolor": "white",
             "minorgridcolor": "white",
             "startlinecolor": "#2a3f5f"
            },
            "baxis": {
             "endlinecolor": "#2a3f5f",
             "gridcolor": "white",
             "linecolor": "white",
             "minorgridcolor": "white",
             "startlinecolor": "#2a3f5f"
            },
            "type": "carpet"
           }
          ],
          "choropleth": [
           {
            "colorbar": {
             "outlinewidth": 0,
             "ticks": ""
            },
            "type": "choropleth"
           }
          ],
          "contour": [
           {
            "colorbar": {
             "outlinewidth": 0,
             "ticks": ""
            },
            "colorscale": [
             [
              0,
              "#0d0887"
             ],
             [
              0.1111111111111111,
              "#46039f"
             ],
             [
              0.2222222222222222,
              "#7201a8"
             ],
             [
              0.3333333333333333,
              "#9c179e"
             ],
             [
              0.4444444444444444,
              "#bd3786"
             ],
             [
              0.5555555555555556,
              "#d8576b"
             ],
             [
              0.6666666666666666,
              "#ed7953"
             ],
             [
              0.7777777777777778,
              "#fb9f3a"
             ],
             [
              0.8888888888888888,
              "#fdca26"
             ],
             [
              1,
              "#f0f921"
             ]
            ],
            "type": "contour"
           }
          ],
          "contourcarpet": [
           {
            "colorbar": {
             "outlinewidth": 0,
             "ticks": ""
            },
            "type": "contourcarpet"
           }
          ],
          "heatmap": [
           {
            "colorbar": {
             "outlinewidth": 0,
             "ticks": ""
            },
            "colorscale": [
             [
              0,
              "#0d0887"
             ],
             [
              0.1111111111111111,
              "#46039f"
             ],
             [
              0.2222222222222222,
              "#7201a8"
             ],
             [
              0.3333333333333333,
              "#9c179e"
             ],
             [
              0.4444444444444444,
              "#bd3786"
             ],
             [
              0.5555555555555556,
              "#d8576b"
             ],
             [
              0.6666666666666666,
              "#ed7953"
             ],
             [
              0.7777777777777778,
              "#fb9f3a"
             ],
             [
              0.8888888888888888,
              "#fdca26"
             ],
             [
              1,
              "#f0f921"
             ]
            ],
            "type": "heatmap"
           }
          ],
          "heatmapgl": [
           {
            "colorbar": {
             "outlinewidth": 0,
             "ticks": ""
            },
            "colorscale": [
             [
              0,
              "#0d0887"
             ],
             [
              0.1111111111111111,
              "#46039f"
             ],
             [
              0.2222222222222222,
              "#7201a8"
             ],
             [
              0.3333333333333333,
              "#9c179e"
             ],
             [
              0.4444444444444444,
              "#bd3786"
             ],
             [
              0.5555555555555556,
              "#d8576b"
             ],
             [
              0.6666666666666666,
              "#ed7953"
             ],
             [
              0.7777777777777778,
              "#fb9f3a"
             ],
             [
              0.8888888888888888,
              "#fdca26"
             ],
             [
              1,
              "#f0f921"
             ]
            ],
            "type": "heatmapgl"
           }
          ],
          "histogram": [
           {
            "marker": {
             "pattern": {
              "fillmode": "overlay",
              "size": 10,
              "solidity": 0.2
             }
            },
            "type": "histogram"
           }
          ],
          "histogram2d": [
           {
            "colorbar": {
             "outlinewidth": 0,
             "ticks": ""
            },
            "colorscale": [
             [
              0,
              "#0d0887"
             ],
             [
              0.1111111111111111,
              "#46039f"
             ],
             [
              0.2222222222222222,
              "#7201a8"
             ],
             [
              0.3333333333333333,
              "#9c179e"
             ],
             [
              0.4444444444444444,
              "#bd3786"
             ],
             [
              0.5555555555555556,
              "#d8576b"
             ],
             [
              0.6666666666666666,
              "#ed7953"
             ],
             [
              0.7777777777777778,
              "#fb9f3a"
             ],
             [
              0.8888888888888888,
              "#fdca26"
             ],
             [
              1,
              "#f0f921"
             ]
            ],
            "type": "histogram2d"
           }
          ],
          "histogram2dcontour": [
           {
            "colorbar": {
             "outlinewidth": 0,
             "ticks": ""
            },
            "colorscale": [
             [
              0,
              "#0d0887"
             ],
             [
              0.1111111111111111,
              "#46039f"
             ],
             [
              0.2222222222222222,
              "#7201a8"
             ],
             [
              0.3333333333333333,
              "#9c179e"
             ],
             [
              0.4444444444444444,
              "#bd3786"
             ],
             [
              0.5555555555555556,
              "#d8576b"
             ],
             [
              0.6666666666666666,
              "#ed7953"
             ],
             [
              0.7777777777777778,
              "#fb9f3a"
             ],
             [
              0.8888888888888888,
              "#fdca26"
             ],
             [
              1,
              "#f0f921"
             ]
            ],
            "type": "histogram2dcontour"
           }
          ],
          "mesh3d": [
           {
            "colorbar": {
             "outlinewidth": 0,
             "ticks": ""
            },
            "type": "mesh3d"
           }
          ],
          "parcoords": [
           {
            "line": {
             "colorbar": {
              "outlinewidth": 0,
              "ticks": ""
             }
            },
            "type": "parcoords"
           }
          ],
          "pie": [
           {
            "automargin": true,
            "type": "pie"
           }
          ],
          "scatter": [
           {
            "fillpattern": {
             "fillmode": "overlay",
             "size": 10,
             "solidity": 0.2
            },
            "type": "scatter"
           }
          ],
          "scatter3d": [
           {
            "line": {
             "colorbar": {
              "outlinewidth": 0,
              "ticks": ""
             }
            },
            "marker": {
             "colorbar": {
              "outlinewidth": 0,
              "ticks": ""
             }
            },
            "type": "scatter3d"
           }
          ],
          "scattercarpet": [
           {
            "marker": {
             "colorbar": {
              "outlinewidth": 0,
              "ticks": ""
             }
            },
            "type": "scattercarpet"
           }
          ],
          "scattergeo": [
           {
            "marker": {
             "colorbar": {
              "outlinewidth": 0,
              "ticks": ""
             }
            },
            "type": "scattergeo"
           }
          ],
          "scattergl": [
           {
            "marker": {
             "colorbar": {
              "outlinewidth": 0,
              "ticks": ""
             }
            },
            "type": "scattergl"
           }
          ],
          "scattermapbox": [
           {
            "marker": {
             "colorbar": {
              "outlinewidth": 0,
              "ticks": ""
             }
            },
            "type": "scattermapbox"
           }
          ],
          "scatterpolar": [
           {
            "marker": {
             "colorbar": {
              "outlinewidth": 0,
              "ticks": ""
             }
            },
            "type": "scatterpolar"
           }
          ],
          "scatterpolargl": [
           {
            "marker": {
             "colorbar": {
              "outlinewidth": 0,
              "ticks": ""
             }
            },
            "type": "scatterpolargl"
           }
          ],
          "scatterternary": [
           {
            "marker": {
             "colorbar": {
              "outlinewidth": 0,
              "ticks": ""
             }
            },
            "type": "scatterternary"
           }
          ],
          "surface": [
           {
            "colorbar": {
             "outlinewidth": 0,
             "ticks": ""
            },
            "colorscale": [
             [
              0,
              "#0d0887"
             ],
             [
              0.1111111111111111,
              "#46039f"
             ],
             [
              0.2222222222222222,
              "#7201a8"
             ],
             [
              0.3333333333333333,
              "#9c179e"
             ],
             [
              0.4444444444444444,
              "#bd3786"
             ],
             [
              0.5555555555555556,
              "#d8576b"
             ],
             [
              0.6666666666666666,
              "#ed7953"
             ],
             [
              0.7777777777777778,
              "#fb9f3a"
             ],
             [
              0.8888888888888888,
              "#fdca26"
             ],
             [
              1,
              "#f0f921"
             ]
            ],
            "type": "surface"
           }
          ],
          "table": [
           {
            "cells": {
             "fill": {
              "color": "#EBF0F8"
             },
             "line": {
              "color": "white"
             }
            },
            "header": {
             "fill": {
              "color": "#C8D4E3"
             },
             "line": {
              "color": "white"
             }
            },
            "type": "table"
           }
          ]
         },
         "layout": {
          "annotationdefaults": {
           "arrowcolor": "#2a3f5f",
           "arrowhead": 0,
           "arrowwidth": 1
          },
          "autotypenumbers": "strict",
          "coloraxis": {
           "colorbar": {
            "outlinewidth": 0,
            "ticks": ""
           }
          },
          "colorscale": {
           "diverging": [
            [
             0,
             "#8e0152"
            ],
            [
             0.1,
             "#c51b7d"
            ],
            [
             0.2,
             "#de77ae"
            ],
            [
             0.3,
             "#f1b6da"
            ],
            [
             0.4,
             "#fde0ef"
            ],
            [
             0.5,
             "#f7f7f7"
            ],
            [
             0.6,
             "#e6f5d0"
            ],
            [
             0.7,
             "#b8e186"
            ],
            [
             0.8,
             "#7fbc41"
            ],
            [
             0.9,
             "#4d9221"
            ],
            [
             1,
             "#276419"
            ]
           ],
           "sequential": [
            [
             0,
             "#0d0887"
            ],
            [
             0.1111111111111111,
             "#46039f"
            ],
            [
             0.2222222222222222,
             "#7201a8"
            ],
            [
             0.3333333333333333,
             "#9c179e"
            ],
            [
             0.4444444444444444,
             "#bd3786"
            ],
            [
             0.5555555555555556,
             "#d8576b"
            ],
            [
             0.6666666666666666,
             "#ed7953"
            ],
            [
             0.7777777777777778,
             "#fb9f3a"
            ],
            [
             0.8888888888888888,
             "#fdca26"
            ],
            [
             1,
             "#f0f921"
            ]
           ],
           "sequentialminus": [
            [
             0,
             "#0d0887"
            ],
            [
             0.1111111111111111,
             "#46039f"
            ],
            [
             0.2222222222222222,
             "#7201a8"
            ],
            [
             0.3333333333333333,
             "#9c179e"
            ],
            [
             0.4444444444444444,
             "#bd3786"
            ],
            [
             0.5555555555555556,
             "#d8576b"
            ],
            [
             0.6666666666666666,
             "#ed7953"
            ],
            [
             0.7777777777777778,
             "#fb9f3a"
            ],
            [
             0.8888888888888888,
             "#fdca26"
            ],
            [
             1,
             "#f0f921"
            ]
           ]
          },
          "colorway": [
           "#636efa",
           "#EF553B",
           "#00cc96",
           "#ab63fa",
           "#FFA15A",
           "#19d3f3",
           "#FF6692",
           "#B6E880",
           "#FF97FF",
           "#FECB52"
          ],
          "font": {
           "color": "#2a3f5f"
          },
          "geo": {
           "bgcolor": "white",
           "lakecolor": "white",
           "landcolor": "#E5ECF6",
           "showlakes": true,
           "showland": true,
           "subunitcolor": "white"
          },
          "hoverlabel": {
           "align": "left"
          },
          "hovermode": "closest",
          "mapbox": {
           "style": "light"
          },
          "paper_bgcolor": "white",
          "plot_bgcolor": "#E5ECF6",
          "polar": {
           "angularaxis": {
            "gridcolor": "white",
            "linecolor": "white",
            "ticks": ""
           },
           "bgcolor": "#E5ECF6",
           "radialaxis": {
            "gridcolor": "white",
            "linecolor": "white",
            "ticks": ""
           }
          },
          "scene": {
           "xaxis": {
            "backgroundcolor": "#E5ECF6",
            "gridcolor": "white",
            "gridwidth": 2,
            "linecolor": "white",
            "showbackground": true,
            "ticks": "",
            "zerolinecolor": "white"
           },
           "yaxis": {
            "backgroundcolor": "#E5ECF6",
            "gridcolor": "white",
            "gridwidth": 2,
            "linecolor": "white",
            "showbackground": true,
            "ticks": "",
            "zerolinecolor": "white"
           },
           "zaxis": {
            "backgroundcolor": "#E5ECF6",
            "gridcolor": "white",
            "gridwidth": 2,
            "linecolor": "white",
            "showbackground": true,
            "ticks": "",
            "zerolinecolor": "white"
           }
          },
          "shapedefaults": {
           "line": {
            "color": "#2a3f5f"
           }
          },
          "ternary": {
           "aaxis": {
            "gridcolor": "white",
            "linecolor": "white",
            "ticks": ""
           },
           "baxis": {
            "gridcolor": "white",
            "linecolor": "white",
            "ticks": ""
           },
           "bgcolor": "#E5ECF6",
           "caxis": {
            "gridcolor": "white",
            "linecolor": "white",
            "ticks": ""
           }
          },
          "title": {
           "x": 0.05
          },
          "xaxis": {
           "automargin": true,
           "gridcolor": "white",
           "linecolor": "white",
           "ticks": "",
           "title": {
            "standoff": 15
           },
           "zerolinecolor": "white",
           "zerolinewidth": 2
          },
          "yaxis": {
           "automargin": true,
           "gridcolor": "white",
           "linecolor": "white",
           "ticks": "",
           "title": {
            "standoff": 15
           },
           "zerolinecolor": "white",
           "zerolinewidth": 2
          }
         }
        },
        "title": {
         "text": "Optimization Runs with Mean and Confidence Intervals"
        },
        "width": 1500,
        "xaxis": {
         "gridcolor": "rgba(211, 211, 211, 0.8)",
         "gridwidth": 1,
         "linecolor": "rgba(150, 150, 150, 0.8)",
         "linewidth": 1,
         "showgrid": true,
         "showline": true,
         "tickfont": {
          "color": "black",
          "size": 12
         },
         "ticks": "outside",
         "title": {
          "text": "Iteration"
         }
        },
        "yaxis": {
         "gridcolor": "rgba(211, 211, 211, 0.8)",
         "gridwidth": 1,
         "linecolor": "rgba(150, 150, 150, 0.8)",
         "linewidth": 1,
         "scaleanchor": "x",
         "scaleratio": 1,
         "showgrid": true,
         "showline": true,
         "tickfont": {
          "color": "black",
          "size": 12
         },
         "ticks": "outside",
         "title": {
          "text": "Loss"
         }
        }
       }
      }
     },
     "metadata": {},
     "output_type": "display_data"
    }
   ],
   "source": [
    "base_color = 'rgba(30, 136, 229,'  # RGB for blue, with variable opacity\n",
    "\n",
    "fig = go.Figure()\n",
    "for i in range(num_runs):\n",
    "    fig.add_trace(go.Scatter(\n",
    "        x=np.arange(n_iter_comparison),\n",
    "        y=results_single[:, i],\n",
    "        mode='lines',\n",
    "        name=f'Run {i+1}',\n",
    "        line=dict(color=f'{base_color} {0.2 + (i / num_runs) * 0.5})')  # varying opacity\n",
    "    ))\n",
    "\n",
    "fig.add_trace(go.Scatter(\n",
    "    x=np.arange(n_iter_comparison),\n",
    "    y=mean_single,\n",
    "    mode='lines',\n",
    "    name='Mean Loss',\n",
    "    line=dict(color='black', dash='dash')\n",
    "))\n",
    "\n",
    "fig.add_trace(go.Scatter(\n",
    "    x=np.concatenate((np.arange(n_iter_comparison), np.arange(n_iter_comparison)[::-1])),\n",
    "    y=np.concatenate((mean_single + confidence_interval, (mean_single - confidence_interval)[::-1])),\n",
    "    fill='toself',\n",
    "    fillcolor='rgba(200, 200, 200, 0.3)',\n",
    "    line=dict(color='rgba(255,255,255,0)'),\n",
    "    showlegend=False,\n",
    "    name='Confidence Interval'\n",
    "))\n",
    "\n",
    "fig.update_layout(\n",
    "    title=\"Optimization Runs with Mean and Confidence Intervals\",\n",
    "    xaxis=dict(\n",
    "        title=\"Iteration\",\n",
    "        showline=True,\n",
    "        showgrid=True,\n",
    "        gridcolor='rgba(211, 211, 211, 0.8)',  \n",
    "        linecolor='rgba(150, 150, 150, 0.8)',  \n",
    "        linewidth=1,\n",
    "        ticks='outside',\n",
    "        tickfont=dict(\n",
    "            size=12,\n",
    "            color='black'\n",
    "        ),\n",
    "        gridwidth=1,\n",
    "    ),\n",
    "    yaxis=dict(\n",
    "        title=\"Loss\",\n",
    "        showline=True,\n",
    "        showgrid=True,\n",
    "        gridcolor='rgba(211, 211, 211, 0.8)',  \n",
    "        linecolor='rgba(150, 150, 150, 0.8)',  \n",
    "        linewidth=1,\n",
    "        ticks='outside',\n",
    "        tickfont=dict(\n",
    "            size=12,\n",
    "            color='black'\n",
    "        ),\n",
    "        gridwidth=1,\n",
    "    ),\n",
    "    plot_bgcolor='white',\n",
    "    width=1500,\n",
    "    height=650,\n",
    "    legend_title_text='Runs',\n",
    "    legend_font_size=12,\n",
    "    margin=dict(l=100, r=100, t=100, b=100),  \n",
    ")\n",
    "\n",
    "fig.update_yaxes(scaleanchor = \"x\", scaleratio = 1)\n",
    "fig.show()"
   ]
  },
  {
   "cell_type": "markdown",
   "metadata": {},
   "source": [
    "\n",
    "\n",
    "\n",
    "\n",
    "\n",
    "\n",
    "\n",
    "\n",
    "\n",
    "\n",
    "\n",
    "\n",
    "\n",
    "\n",
    "\n",
    "\n",
    "\n",
    "\n",
    "\n",
    "\n",
    "\n",
    "\n",
    "\n",
    "\n",
    "\n",
    "\n",
    "\n",
    "\n",
    "\n",
    "\n",
    "\n",
    "\n",
    "\n",
    "\n",
    "\n",
    "\n",
    "\n",
    "\n",
    "\n",
    "\n",
    "\n",
    "\n",
    "\n",
    "\n",
    "\n",
    "\n",
    "\n",
    "\n",
    "\n",
    "\n",
    "\n",
    "\n",
    "\n",
    "\n",
    "\n",
    "\n",
    "\n",
    "\n",
    "\n",
    "\n",
    "\n",
    "\n",
    "\n",
    "\n",
    "\n",
    "\n",
    "\n",
    "\n",
    "\n",
    "\n",
    "\n",
    "\n",
    "\n",
    "\n",
    "\n",
    "\n",
    "\n",
    "\n",
    "\n",
    "\n",
    "\n",
    "\n",
    "\n",
    "\n",
    "\n",
    "\n",
    "\n",
    "\n",
    "\n",
    "\n",
    "\n",
    "\n",
    "\n",
    "\n",
    "\n",
    "\n",
    "\n",
    "\n",
    "\n",
    "\n",
    "\n",
    "\n",
    "\n",
    "\n",
    "\n",
    "\n",
    "\n",
    "\n",
    "\n",
    "\n",
    "## <strong> 4 | Benchmarking against Karnachos </strong>"
   ]
  },
  {
   "cell_type": "markdown",
   "metadata": {},
   "source": [
    "### <strong> 4.1 | Final Trusses & Basic statistics </strong>"
   ]
  },
  {
   "cell_type": "code",
   "execution_count": 45,
   "metadata": {},
   "outputs": [
    {
     "data": {
      "image/png": "[encoded data removed]",
      "text/plain": [
       "<Figure size 640x480 with 2 Axes>"
      ]
     },
     "metadata": {},
     "output_type": "display_data"
    },
    {
     "name": "stdout",
     "output_type": "stream",
     "text": [
      "MASS: 360.07710670521664 kg  Natural Frequencies:[20.06682059 40.53905183 61.8225322 ] Hz\n"
     ]
    }
   ],
   "source": [
    "# ----------------------------- KANARACHOS TRUSS ---------------------------- #\n",
    "path_pro = os.path.normpath(os.path.join(read_file_path, 'bridge_frequency_kr.pro'))\n",
    "props = pu.parse_file(path_pro)\n",
    "\n",
    "path_geom = os.path.normpath(os.path.join(read_file_path, 'bridge_kanarachos.geom'))\n",
    "props['model']['truss']['area'] = [ 40e-4, 3.1997e-4, 1.0025e-4, 1.0000e-4, 2.5875e-4, 1.0895e-4, 1.1261e-4, 2.5624e-4, 1.4121e-4, 1.5758e-4, 2.2461e-4, 1.0694e-4, 1.3193e-4, 2.3846e-4, 1.0001e-4 ]\n",
    "props['init']['mesh']['file'] = path_geom\n",
    "\n",
    "trap = io.StringIO()\n",
    "with redirect_stdout(trap):\n",
    "    globdat = main.jive(props)\n",
    "# ------------------------ Initiate a Karnachos obect ------------------------ #\n",
    "read_file_path = '../truss_bridge/data'\n",
    "read_file = 'bridge_kanarachos.geom'\n",
    "write_file_path =  None\n",
    "write_file = None\n",
    "violation_factor = None\n",
    "freq_constraints = None\n",
    "mass_weight = None\n",
    "freq_weight = None\n",
    "scalers = [None,None]\n",
    "bounds = None\n",
    "\n",
    "TRUSSKN= TRUSS(read_file_path,\n",
    "               read_file,\n",
    "                write_file_path,\n",
    "                write_file,\n",
    "                violation_factor,\n",
    "                scalers,\n",
    "                bounds,\n",
    "                freq_constraints= freq_constraints, \n",
    "                mass_weight= mass_weight, \n",
    "                freq_weight= freq_weight)\n",
    "TRUSSKN.read_geom_file()\n",
    "\n",
    "y_coord = TRUSSKN.state[\"y_coordinates\"][::2][1:6]\n",
    "areas_kn = np.array(props['model']['truss']['area'])\n",
    "print(f'MASS: {TRUSSKN.mass_truss(areas_kn, y_coord)} kg  Natural Frequencies:{(globdat[gn.EIGENFREQS][0:3] / 2 / np.pi)} Hz')"
   ]
  },
  {
   "cell_type": "code",
   "execution_count": 64,
   "metadata": {},
   "outputs": [
    {
     "data": {
      "image/png": "[encoded data removed]",
      "text/plain": [
       "<Figure size 640x480 with 2 Axes>"
      ]
     },
     "metadata": {},
     "output_type": "display_data"
    },
    {
     "name": "stdout",
     "output_type": "stream",
     "text": [
      "TRUSS NFs:[20.22004588 42.671595   61.82564151] and Mass:Metric                                                                          Value\n",
      "Total Loss                                                                   0.249948\n",
      "Natural Frequencies                 [20.22004587841629, 42.67159500288755, 61.8256...\n",
      "Mass of Truss                                                              364.825316\n",
      "Normalized Mass Loss                                                         0.013404\n",
      "Frequency Penalty                                                            0.036073\n",
      "Constraint Violation (Loss No W)                                             0.049477\n",
      "Name: 37, dtype: object\n"
     ]
    }
   ],
   "source": [
    "# ---------------------------------- TRUSS1 ---------------------------------- #\n",
    "TRUSS1.wrpr_final_results()"
   ]
  },
  {
   "cell_type": "markdown",
   "metadata": {},
   "source": [
    "### <strong> 4.2 | Comparing benchmarks </strong>"
   ]
  },
  {
   "cell_type": "code",
   "execution_count": 69,
   "metadata": {},
   "outputs": [
    {
     "data": {
      "text/html": [
       "<div>\n",
       "<style scoped>\n",
       "    .dataframe tbody tr th:only-of-type {\n",
       "        vertical-align: middle;\n",
       "    }\n",
       "\n",
       "    .dataframe tbody tr th {\n",
       "        vertical-align: top;\n",
       "    }\n",
       "\n",
       "    .dataframe thead th {\n",
       "        text-align: right;\n",
       "    }\n",
       "</style>\n",
       "<table border=\"1\" class=\"dataframe\">\n",
       "  <thead>\n",
       "    <tr style=\"text-align: right;\">\n",
       "      <th></th>\n",
       "      <th>Cross Section Average</th>\n",
       "      <th>Natural Frequency Average</th>\n",
       "      <th>Mass</th>\n",
       "    </tr>\n",
       "  </thead>\n",
       "  <tbody>\n",
       "    <tr>\n",
       "      <th>Kanarachos model</th>\n",
       "      <td>0.000424</td>\n",
       "      <td>41.572427</td>\n",
       "      <td>360.077107</td>\n",
       "    </tr>\n",
       "    <tr>\n",
       "      <th>TRUSS model</th>\n",
       "      <td>0.000433</td>\n",
       "      <td>40.809468</td>\n",
       "      <td>364.825316</td>\n",
       "    </tr>\n",
       "  </tbody>\n",
       "</table>\n",
       "</div>"
      ],
      "text/plain": [
       "                  Cross Section Average  Natural Frequency Average        Mass\n",
       "Kanarachos model               0.000424                  41.572427  360.077107\n",
       "TRUSS model                    0.000433                  40.809468  364.825316"
      ]
     },
     "execution_count": 69,
     "metadata": {},
     "output_type": "execute_result"
    }
   ],
   "source": [
    "mask = TRUSS1.state[\"monitor_df\"][\"Natural Frequencies\"][:].apply(lambda x: (x >= TRUSS1.config[\"freq_constraints\"]).all())\n",
    "ind = TRUSS1.state[\"monitor_df\"][mask][\"Mass of Truss\"].idxmin()\n",
    "# ----------------------------------- Data ----------------------------------- #\n",
    "TR_cs = TRUSS1.state[\"cross_sections\"].numpy()\n",
    "KN_cs = TRUSSKN.state[\"cross_sections\"]\n",
    "\n",
    "TR_m = TRUSS1.mass_truss(TR_cs, TRUSS1.state[\"y_coordinates\"][::2][1:6])\n",
    "KN_m = TRUSSKN.mass_truss(KN_cs, TRUSSKN.state[\"y_coordinates\"][::2][1:6])\n",
    "\n",
    "NFK = globdat[gn.EIGENFREQS][0:3]/2/np.pi\n",
    "NFTR = TRUSS1.state[\"monitor_df\"][\"Natural Frequencies\"][ind]\n",
    "\n",
    "data = {\n",
    "    'Model': ['Kanarachos model', 'TRUSS model'],\n",
    "    'Cross Section Average': [KN_cs.mean(), TR_cs.mean()],\n",
    "    'Natural Frequency Average': [np.mean(NFTR), np.mean(NFK)],\n",
    "    'Mass': [KN_m, TR_m]\n",
    "}\n",
    "basic_comp = pd.DataFrame(data)\n",
    "basic_comp.set_index('Model', inplace=True)\n",
    "basic_comp.index.name = None\n",
    "basic_comp"
   ]
  },
  {
   "cell_type": "code",
   "execution_count": 75,
   "metadata": {},
   "outputs": [],
   "source": [
    "max_cross_sections = max(np.max(TR_cs), np.max(KN_cs))\n",
    "normalized_cross_sections_model1 = TR_cs / max_cross_sections\n",
    "normalized_cross_sections_model2 = KN_cs / max_cross_sections\n",
    "\n",
    "max_mass = max(TR_m, KN_m)\n",
    "normalized_mass_model1 = TR_m / max_mass\n",
    "normalized_mass_model2 = KN_m / max_mass\n",
    "\n",
    "max_nat_freq = max(np.max(NFTR), np.max(NFK))\n",
    "normalized_nat_freq_model1 = np.array(NFTR) / max_nat_freq\n",
    "normalized_nat_freq_model2 = np.array(NFK) / max_nat_freq\n",
    "# ------------------------------------ VIS ----------------------------------- #\n",
    "# Data for plotting\n",
    "data = {\n",
    "    \"Metric\": [\"Cross Sections (Mean)\", \"Mass\", \"Nat. Freq. 1\", \"Nat. Freq. 2\", \"Nat. Freq. 3\"],\n",
    "    \"Model 1 (TRUSS1)\": [np.mean(normalized_cross_sections_model1), normalized_mass_model1] + normalized_nat_freq_model1.tolist(),\n",
    "    \"Model 2 (KANARACHOS)\": [np.mean(normalized_cross_sections_model2), normalized_mass_model2] + normalized_nat_freq_model2.tolist()\n",
    "}\n",
    "df = pd.DataFrame(data)"
   ]
  },
  {
   "cell_type": "code",
   "execution_count": 76,
   "metadata": {},
   "outputs": [
    {
     "data": {
      "application/vnd.plotly.v1+json": {
       "config": {
        "plotlyServerURL": "https://plot.ly"
       },
       "data": [
        {
         "marker": {
          "color": "#00B8C8"
         },
         "name": "Model 1 (TRUSS1)",
         "type": "bar",
         "x": [
          "Cross Sections (Mean)",
          "Mass",
          "Nat. Freq. 1",
          "Nat. Freq. 2",
          "Nat. Freq. 3"
         ],
         "y": [
          0.10817933333333334,
          1,
          0.32704951190387554,
          0.6901925149809449,
          1
         ]
        },
        {
         "marker": {
          "color": "#009bc2"
         },
         "name": "Model 2 (KANARACHOS)",
         "type": "bar",
         "x": [
          "Cross Sections (Mean)",
          "Mass",
          "Nat. Freq. 1",
          "Nat. Freq. 2",
          "Nat. Freq. 3"
         ],
         "y": [
          0.1059585,
          0.9869849779149856,
          0.32457116661034857,
          0.6556996554008481,
          0.9999497084989477
         ]
        }
       ],
       "layout": {
        "barmode": "group",
        "legend": {
         "font": {
          "size": 12
         },
         "title": {
          "text": "Model"
         }
        },
        "margin": {
         "b": 100,
         "l": 100,
         "r": 100,
         "t": 100
        },
        "plot_bgcolor": "white",
        "template": {
         "data": {
          "bar": [
           {
            "error_x": {
             "color": "#2a3f5f"
            },
            "error_y": {
             "color": "#2a3f5f"
            },
            "marker": {
             "line": {
              "color": "#E5ECF6",
              "width": 0.5
             },
             "pattern": {
              "fillmode": "overlay",
              "size": 10,
              "solidity": 0.2
             }
            },
            "type": "bar"
           }
          ],
          "barpolar": [
           {
            "marker": {
             "line": {
              "color": "#E5ECF6",
              "width": 0.5
             },
             "pattern": {
              "fillmode": "overlay",
              "size": 10,
              "solidity": 0.2
             }
            },
            "type": "barpolar"
           }
          ],
          "carpet": [
           {
            "aaxis": {
             "endlinecolor": "#2a3f5f",
             "gridcolor": "white",
             "linecolor": "white",
             "minorgridcolor": "white",
             "startlinecolor": "#2a3f5f"
            },
            "baxis": {
             "endlinecolor": "#2a3f5f",
             "gridcolor": "white",
             "linecolor": "white",
             "minorgridcolor": "white",
             "startlinecolor": "#2a3f5f"
            },
            "type": "carpet"
           }
          ],
          "choropleth": [
           {
            "colorbar": {
             "outlinewidth": 0,
             "ticks": ""
            },
            "type": "choropleth"
           }
          ],
          "contour": [
           {
            "colorbar": {
             "outlinewidth": 0,
             "ticks": ""
            },
            "colorscale": [
             [
              0,
              "#0d0887"
             ],
             [
              0.1111111111111111,
              "#46039f"
             ],
             [
              0.2222222222222222,
              "#7201a8"
             ],
             [
              0.3333333333333333,
              "#9c179e"
             ],
             [
              0.4444444444444444,
              "#bd3786"
             ],
             [
              0.5555555555555556,
              "#d8576b"
             ],
             [
              0.6666666666666666,
              "#ed7953"
             ],
             [
              0.7777777777777778,
              "#fb9f3a"
             ],
             [
              0.8888888888888888,
              "#fdca26"
             ],
             [
              1,
              "#f0f921"
             ]
            ],
            "type": "contour"
           }
          ],
          "contourcarpet": [
           {
            "colorbar": {
             "outlinewidth": 0,
             "ticks": ""
            },
            "type": "contourcarpet"
           }
          ],
          "heatmap": [
           {
            "colorbar": {
             "outlinewidth": 0,
             "ticks": ""
            },
            "colorscale": [
             [
              0,
              "#0d0887"
             ],
             [
              0.1111111111111111,
              "#46039f"
             ],
             [
              0.2222222222222222,
              "#7201a8"
             ],
             [
              0.3333333333333333,
              "#9c179e"
             ],
             [
              0.4444444444444444,
              "#bd3786"
             ],
             [
              0.5555555555555556,
              "#d8576b"
             ],
             [
              0.6666666666666666,
              "#ed7953"
             ],
             [
              0.7777777777777778,
              "#fb9f3a"
             ],
             [
              0.8888888888888888,
              "#fdca26"
             ],
             [
              1,
              "#f0f921"
             ]
            ],
            "type": "heatmap"
           }
          ],
          "heatmapgl": [
           {
            "colorbar": {
             "outlinewidth": 0,
             "ticks": ""
            },
            "colorscale": [
             [
              0,
              "#0d0887"
             ],
             [
              0.1111111111111111,
              "#46039f"
             ],
             [
              0.2222222222222222,
              "#7201a8"
             ],
             [
              0.3333333333333333,
              "#9c179e"
             ],
             [
              0.4444444444444444,
              "#bd3786"
             ],
             [
              0.5555555555555556,
              "#d8576b"
             ],
             [
              0.6666666666666666,
              "#ed7953"
             ],
             [
              0.7777777777777778,
              "#fb9f3a"
             ],
             [
              0.8888888888888888,
              "#fdca26"
             ],
             [
              1,
              "#f0f921"
             ]
            ],
            "type": "heatmapgl"
           }
          ],
          "histogram": [
           {
            "marker": {
             "pattern": {
              "fillmode": "overlay",
              "size": 10,
              "solidity": 0.2
             }
            },
            "type": "histogram"
           }
          ],
          "histogram2d": [
           {
            "colorbar": {
             "outlinewidth": 0,
             "ticks": ""
            },
            "colorscale": [
             [
              0,
              "#0d0887"
             ],
             [
              0.1111111111111111,
              "#46039f"
             ],
             [
              0.2222222222222222,
              "#7201a8"
             ],
             [
              0.3333333333333333,
              "#9c179e"
             ],
             [
              0.4444444444444444,
              "#bd3786"
             ],
             [
              0.5555555555555556,
              "#d8576b"
             ],
             [
              0.6666666666666666,
              "#ed7953"
             ],
             [
              0.7777777777777778,
              "#fb9f3a"
             ],
             [
              0.8888888888888888,
              "#fdca26"
             ],
             [
              1,
              "#f0f921"
             ]
            ],
            "type": "histogram2d"
           }
          ],
          "histogram2dcontour": [
           {
            "colorbar": {
             "outlinewidth": 0,
             "ticks": ""
            },
            "colorscale": [
             [
              0,
              "#0d0887"
             ],
             [
              0.1111111111111111,
              "#46039f"
             ],
             [
              0.2222222222222222,
              "#7201a8"
             ],
             [
              0.3333333333333333,
              "#9c179e"
             ],
             [
              0.4444444444444444,
              "#bd3786"
             ],
             [
              0.5555555555555556,
              "#d8576b"
             ],
             [
              0.6666666666666666,
              "#ed7953"
             ],
             [
              0.7777777777777778,
              "#fb9f3a"
             ],
             [
              0.8888888888888888,
              "#fdca26"
             ],
             [
              1,
              "#f0f921"
             ]
            ],
            "type": "histogram2dcontour"
           }
          ],
          "mesh3d": [
           {
            "colorbar": {
             "outlinewidth": 0,
             "ticks": ""
            },
            "type": "mesh3d"
           }
          ],
          "parcoords": [
           {
            "line": {
             "colorbar": {
              "outlinewidth": 0,
              "ticks": ""
             }
            },
            "type": "parcoords"
           }
          ],
          "pie": [
           {
            "automargin": true,
            "type": "pie"
           }
          ],
          "scatter": [
           {
            "fillpattern": {
             "fillmode": "overlay",
             "size": 10,
             "solidity": 0.2
            },
            "type": "scatter"
           }
          ],
          "scatter3d": [
           {
            "line": {
             "colorbar": {
              "outlinewidth": 0,
              "ticks": ""
             }
            },
            "marker": {
             "colorbar": {
              "outlinewidth": 0,
              "ticks": ""
             }
            },
            "type": "scatter3d"
           }
          ],
          "scattercarpet": [
           {
            "marker": {
             "colorbar": {
              "outlinewidth": 0,
              "ticks": ""
             }
            },
            "type": "scattercarpet"
           }
          ],
          "scattergeo": [
           {
            "marker": {
             "colorbar": {
              "outlinewidth": 0,
              "ticks": ""
             }
            },
            "type": "scattergeo"
           }
          ],
          "scattergl": [
           {
            "marker": {
             "colorbar": {
              "outlinewidth": 0,
              "ticks": ""
             }
            },
            "type": "scattergl"
           }
          ],
          "scattermapbox": [
           {
            "marker": {
             "colorbar": {
              "outlinewidth": 0,
              "ticks": ""
             }
            },
            "type": "scattermapbox"
           }
          ],
          "scatterpolar": [
           {
            "marker": {
             "colorbar": {
              "outlinewidth": 0,
              "ticks": ""
             }
            },
            "type": "scatterpolar"
           }
          ],
          "scatterpolargl": [
           {
            "marker": {
             "colorbar": {
              "outlinewidth": 0,
              "ticks": ""
             }
            },
            "type": "scatterpolargl"
           }
          ],
          "scatterternary": [
           {
            "marker": {
             "colorbar": {
              "outlinewidth": 0,
              "ticks": ""
             }
            },
            "type": "scatterternary"
           }
          ],
          "surface": [
           {
            "colorbar": {
             "outlinewidth": 0,
             "ticks": ""
            },
            "colorscale": [
             [
              0,
              "#0d0887"
             ],
             [
              0.1111111111111111,
              "#46039f"
             ],
             [
              0.2222222222222222,
              "#7201a8"
             ],
             [
              0.3333333333333333,
              "#9c179e"
             ],
             [
              0.4444444444444444,
              "#bd3786"
             ],
             [
              0.5555555555555556,
              "#d8576b"
             ],
             [
              0.6666666666666666,
              "#ed7953"
             ],
             [
              0.7777777777777778,
              "#fb9f3a"
             ],
             [
              0.8888888888888888,
              "#fdca26"
             ],
             [
              1,
              "#f0f921"
             ]
            ],
            "type": "surface"
           }
          ],
          "table": [
           {
            "cells": {
             "fill": {
              "color": "#EBF0F8"
             },
             "line": {
              "color": "white"
             }
            },
            "header": {
             "fill": {
              "color": "#C8D4E3"
             },
             "line": {
              "color": "white"
             }
            },
            "type": "table"
           }
          ]
         },
         "layout": {
          "annotationdefaults": {
           "arrowcolor": "#2a3f5f",
           "arrowhead": 0,
           "arrowwidth": 1
          },
          "autotypenumbers": "strict",
          "coloraxis": {
           "colorbar": {
            "outlinewidth": 0,
            "ticks": ""
           }
          },
          "colorscale": {
           "diverging": [
            [
             0,
             "#8e0152"
            ],
            [
             0.1,
             "#c51b7d"
            ],
            [
             0.2,
             "#de77ae"
            ],
            [
             0.3,
             "#f1b6da"
            ],
            [
             0.4,
             "#fde0ef"
            ],
            [
             0.5,
             "#f7f7f7"
            ],
            [
             0.6,
             "#e6f5d0"
            ],
            [
             0.7,
             "#b8e186"
            ],
            [
             0.8,
             "#7fbc41"
            ],
            [
             0.9,
             "#4d9221"
            ],
            [
             1,
             "#276419"
            ]
           ],
           "sequential": [
            [
             0,
             "#0d0887"
            ],
            [
             0.1111111111111111,
             "#46039f"
            ],
            [
             0.2222222222222222,
             "#7201a8"
            ],
            [
             0.3333333333333333,
             "#9c179e"
            ],
            [
             0.4444444444444444,
             "#bd3786"
            ],
            [
             0.5555555555555556,
             "#d8576b"
            ],
            [
             0.6666666666666666,
             "#ed7953"
            ],
            [
             0.7777777777777778,
             "#fb9f3a"
            ],
            [
             0.8888888888888888,
             "#fdca26"
            ],
            [
             1,
             "#f0f921"
            ]
           ],
           "sequentialminus": [
            [
             0,
             "#0d0887"
            ],
            [
             0.1111111111111111,
             "#46039f"
            ],
            [
             0.2222222222222222,
             "#7201a8"
            ],
            [
             0.3333333333333333,
             "#9c179e"
            ],
            [
             0.4444444444444444,
             "#bd3786"
            ],
            [
             0.5555555555555556,
             "#d8576b"
            ],
            [
             0.6666666666666666,
             "#ed7953"
            ],
            [
             0.7777777777777778,
             "#fb9f3a"
            ],
            [
             0.8888888888888888,
             "#fdca26"
            ],
            [
             1,
             "#f0f921"
            ]
           ]
          },
          "colorway": [
           "#636efa",
           "#EF553B",
           "#00cc96",
           "#ab63fa",
           "#FFA15A",
           "#19d3f3",
           "#FF6692",
           "#B6E880",
           "#FF97FF",
           "#FECB52"
          ],
          "font": {
           "color": "#2a3f5f"
          },
          "geo": {
           "bgcolor": "white",
           "lakecolor": "white",
           "landcolor": "#E5ECF6",
           "showlakes": true,
           "showland": true,
           "subunitcolor": "white"
          },
          "hoverlabel": {
           "align": "left"
          },
          "hovermode": "closest",
          "mapbox": {
           "style": "light"
          },
          "paper_bgcolor": "white",
          "plot_bgcolor": "#E5ECF6",
          "polar": {
           "angularaxis": {
            "gridcolor": "white",
            "linecolor": "white",
            "ticks": ""
           },
           "bgcolor": "#E5ECF6",
           "radialaxis": {
            "gridcolor": "white",
            "linecolor": "white",
            "ticks": ""
           }
          },
          "scene": {
           "xaxis": {
            "backgroundcolor": "#E5ECF6",
            "gridcolor": "white",
            "gridwidth": 2,
            "linecolor": "white",
            "showbackground": true,
            "ticks": "",
            "zerolinecolor": "white"
           },
           "yaxis": {
            "backgroundcolor": "#E5ECF6",
            "gridcolor": "white",
            "gridwidth": 2,
            "linecolor": "white",
            "showbackground": true,
            "ticks": "",
            "zerolinecolor": "white"
           },
           "zaxis": {
            "backgroundcolor": "#E5ECF6",
            "gridcolor": "white",
            "gridwidth": 2,
            "linecolor": "white",
            "showbackground": true,
            "ticks": "",
            "zerolinecolor": "white"
           }
          },
          "shapedefaults": {
           "line": {
            "color": "#2a3f5f"
           }
          },
          "ternary": {
           "aaxis": {
            "gridcolor": "white",
            "linecolor": "white",
            "ticks": ""
           },
           "baxis": {
            "gridcolor": "white",
            "linecolor": "white",
            "ticks": ""
           },
           "bgcolor": "#E5ECF6",
           "caxis": {
            "gridcolor": "white",
            "linecolor": "white",
            "ticks": ""
           }
          },
          "title": {
           "x": 0.05
          },
          "xaxis": {
           "automargin": true,
           "gridcolor": "white",
           "linecolor": "white",
           "ticks": "",
           "title": {
            "standoff": 15
           },
           "zerolinecolor": "white",
           "zerolinewidth": 2
          },
          "yaxis": {
           "automargin": true,
           "gridcolor": "white",
           "linecolor": "white",
           "ticks": "",
           "title": {
            "standoff": 15
           },
           "zerolinecolor": "white",
           "zerolinewidth": 2
          }
         }
        },
        "title": {
         "text": "Comparison of Normalized Cross Sections, Mass, and Natural Frequencies"
        },
        "xaxis": {
         "gridcolor": "rgba(211, 211, 211, 0.8)",
         "linecolor": "rgba(150, 150, 150, 0.8)",
         "showgrid": true,
         "title": {
          "text": "Metric"
         },
         "zerolinecolor": "rgba(150, 150, 150, 0.8)"
        },
        "yaxis": {
         "gridcolor": "rgba(211, 211, 211, 0.8)",
         "linecolor": "rgba(150, 150, 150, 0.8)",
         "showgrid": true,
         "title": {
          "text": "Normalized Value"
         },
         "zerolinecolor": "rgba(150, 150, 150, 0.8)"
        }
       }
      }
     },
     "metadata": {},
     "output_type": "display_data"
    }
   ],
   "source": [
    "fig = go.Figure()\n",
    "colors = ['#00B8C8', '#009bc2']  \n",
    "\n",
    "for i, model in enumerate(df.columns[1:]):\n",
    "    fig.add_trace(go.Bar(\n",
    "        x=df['Metric'],\n",
    "        y=df[model],\n",
    "        name=model,\n",
    "        marker=dict(color=colors[i])\n",
    "    ))\n",
    "\n",
    "fig.update_layout(\n",
    "    title=\"Comparison of Normalized Cross Sections, Mass, and Natural Frequencies\",\n",
    "    xaxis=dict(\n",
    "        title=\"Metric\",\n",
    "        showgrid=True,\n",
    "        gridcolor='rgba(211, 211, 211, 0.8)',  \n",
    "        linecolor='rgba(150, 150, 150, 0.8)',  \n",
    "        zerolinecolor='rgba(150, 150, 150, 0.8)',  \n",
    "    ),\n",
    "    yaxis=dict(\n",
    "        title=\"Normalized Value\",\n",
    "        showgrid=True,\n",
    "        gridcolor='rgba(211, 211, 211, 0.8)',  \n",
    "        linecolor='rgba(150, 150, 150, 0.8)',  \n",
    "        zerolinecolor='rgba(150, 150, 150, 0.8)',  \n",
    "    ),\n",
    "    plot_bgcolor='white',\n",
    "    barmode='group',\n",
    "    legend_title_text='Model',\n",
    "    legend_font_size=12,\n",
    "    margin=dict(l=100, r=100, t=100, b=100),  \n",
    ")\n",
    "\n",
    "fig.show()"
   ]
  }
 ],
 "metadata": {
  "kernelspec": {
   "display_name": "dsaie",
   "language": "python",
   "name": "python3"
  },
  "language_info": {
   "codemirror_mode": {
    "name": "ipython",
    "version": 3
   },
   "file_extension": ".py",
   "mimetype": "text/x-python",
   "name": "python",
   "nbconvert_exporter": "python",
   "pygments_lexer": "ipython3",
   "version": "3.12.1"
  }
 },
 "nbformat": 4,
 "nbformat_minor": 2
}

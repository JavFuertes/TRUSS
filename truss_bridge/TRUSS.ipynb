{
 "cells": [
  {
   "cell_type": "markdown",
   "metadata": {},
   "source": [
    "<img \n",
    "    style=\"position: absolute; \n",
    "           left: 60%; \n",
    "           top: 0; /* Added to ensure proper positioning */\n",
    "           height: 900px; \n",
    "           width: 40%; /* Maintain the original width */\n",
    "           object-fit: cover; /* Adjust if necessary */\n",
    "           clip-path: inset(0px 50px 0px 50px round 10px);\" \n",
    "    src=\"https://www.mathworks.com/help/examples/stats/win64/ParellelBayeianOptimizationExample_01.png\" \n",
    "/>\n",
    "\n",
    "</figure>\n",
    "\n",
    "\n",
    "<h1 style=\"width: 60%; color: #EC6842\t\t; font-size: 40pt;\">\n",
    "    <Strong>\n",
    "        CEGM2003 project: Bayesian optimization for truss structures\n",
    "    </Strong>\n",
    "</h1>\n",
    "\n",
    "<h2 id=\"Background\"><B>\n",
    "    Background<a class=\"anchor-link\" href=\"#Background\">&#182;</a>\n",
    "    </B>\n",
    "</h2>\n",
    "<p style=\"text-align: justify; width: 60%; font-weight: normal;\">\n",
    "     Structures that make optimal use of the material they are made of reduces the cost and environmental impact of their construction as the amount of material required. Optimization of structural design is a challenging task because of the high number of design parameters and the relatively expensive evaluation of the suitability of any given design. Standard optimization techniques in high-dimensional design space require a very large number of possible designs that need to be evaluated. In structural analysis, where evaluating the objective function and checking the constraints involves the solution of a structural mechanics problem, e.g. with finite elements, this quickly becomes very expensive, even if the model is relatively simple from structural point of view. Bayesian optimization is a machine-learning-based optimization technique that aims to reduce the number of evaluations of the objective function through data-driven exploration of the design space with a probabilistic surrogate.\n",
    "</p>\n",
    "\n",
    "<h2 id=\"Background\"><B>\n",
    "    Objective & Description<a class=\"anchor-link\" href=\"#Background\">&#182;</a>\n",
    "    </B>\n",
    "</h2>\n",
    "\n",
    "<div style=\"width: 60%; border-top: 4px solid #00B8C8; border-left: 4px solid #00B8C8; background-color: #FFFFFF; padding: 1em 1em 1em 1em; color: #24292E; margin: 10px 0 20px 0; box-sizing: border-box;\">\n",
    "    <div style=\"background-color: #00B8C8; color: white; padding: 0.2em 1em; margin: -1em -1em 0em -1em; font-size: 1.2em;\"><strong>Project Objective</strong></div>\n",
    "    <p><strong>The aim of this project is to find the optimal truss design,</strong><br><br>\n",
    "    we will achieve this through finding the optimal set of nodal coordinates and cross-sectional properties. This project's primary objective is to minimize as much as possible the total weight of the structure, while satisfying some natural constraints of the structure. Moreover, this project will also aim to explore the efficiency of current methods and potentially develop a proprietary solver.</p>\n",
    "</div>"
   ]
  },
  {
   "cell_type": "markdown",
   "metadata": {},
   "source": [
    "## <strong> X | Imports</strong>"
   ]
  },
  {
   "cell_type": "code",
   "execution_count": null,
   "metadata": {},
   "outputs": [],
   "source": [
    "import sys\n",
    "import io\n",
    "import os\n",
    "import pickle\n",
    "import numpy as np\n",
    "import pandas as pd\n",
    "import torch\n",
    "\n",
    "from botorch.utils.transforms import normalize\n",
    "from botorch.utils.transforms import unnormalize\n",
    "from tabulate import tabulate\n",
    "from contextlib import redirect_stdout\n",
    "from sklearn.preprocessing import MinMaxScaler\n",
    "\n",
    "from botorch.models import SingleTaskGP\n",
    "from botorch.models import SaasFullyBayesianSingleTaskGP\n",
    "from botorch.fit import fit_gpytorch_model\n",
    "from botorch.fit import fit_fully_bayesian_model_nuts\n",
    "from gpytorch.mlls import ExactMarginalLogLikelihood\n",
    "from gpytorch.likelihoods import GaussianLikelihood\n",
    "from botorch.acquisition import ExpectedImprovement\n",
    "from botorch.optim import optimize_acqf\n",
    "\n",
    "from dash import Dash\n",
    "from dash import dcc, html\n",
    "from dash.dependencies import Input, Output\n",
    "import matplotlib.pyplot as plt\n",
    "import plotly.express as px\n",
    "import plotly.graph_objs as go\n",
    "import plotly.graph_objects as go\n",
    "\n",
    "sys.path.append('../pyJive/')\n",
    "from utils import proputils as pu\n",
    "from names import GlobNames as gn\n",
    "import main\n",
    "\n",
    "from dash import Dash, dcc, html, Input, Output\n",
    "import plotly.graph_objects as go\n",
    "from TRUSS_convergence import plot_truss_layout, get_truss_data_for_iteration, loss_function_figure\n",
    "from TRUSS_convergence import layout"
   ]
  },
  {
   "cell_type": "code",
   "execution_count": 189,
   "metadata": {},
   "outputs": [
    {
     "name": "stdout",
     "output_type": "stream",
     "text": [
      "Using device: cpu\n"
     ]
    }
   ],
   "source": [
    "# Check if CUDA is available, otherwise use CPU\n",
    "device = torch.device('cuda' if torch.cuda.is_available() else 'cpu')\n",
    "print(f'Using device: {device}')"
   ]
  },
  {
   "cell_type": "markdown",
   "metadata": {},
   "source": [
    "## <strong> 0 | Classes & Dependencies</strong>"
   ]
  },
  {
   "cell_type": "code",
   "execution_count": 19,
   "metadata": {},
   "outputs": [],
   "source": [
    "class TRUSS():\n",
    "    def __init__(self, file_path, file_name, output_path, write_name, violation_penalty, scalers, bounds, lower_area=4e-3, freq_constraints=[20, 40, 60], mass_weight=1, freq_weight=1):\n",
    "        # Configuration Parameters\n",
    "        self.config = {\n",
    "            \"read_file_path\": file_path,\n",
    "            \"read_file_name\": file_name,\n",
    "            \"write_file_path\": output_path,\n",
    "            \"write_file_name\": write_name,\n",
    "            \"violation_penalty\": violation_penalty,\n",
    "            \"scalers\": {\"y\": scalers[0], \"a\": scalers[1]},\n",
    "            \"lower_area\": lower_area,\n",
    "            \"bounds\" : bounds,\n",
    "            \"freq_constraints\": freq_constraints,\n",
    "            \"mass_weight\": mass_weight,\n",
    "            \"freq_weight\": freq_weight,\n",
    "            \"density\": 7850,  # kg/m^3 As per Garnachos\n",
    "        }\n",
    "\n",
    "        self.state = {\n",
    "            \"nodes\": {},\n",
    "            \"connectivity\": None,\n",
    "            \"member_df\": None,\n",
    "            \"y_coordinates\": None,\n",
    "            \"x_coordinates\": None,\n",
    "            \"cross_sections\": None,\n",
    "            \"lengths\": None,\n",
    "            \"mass_norm\": 360,\n",
    "            \"monitor_df\": None\n",
    "        }\n",
    "\n",
    "        self.columns = [\"Metric\", \"Total Loss\", \"Natural Frequencies\", \"Mass of Truss\", \"Normalized Mass Loss\", \"Frequency Penalty\", \"Constraint Violation (Loss No W)\"]\n",
    "        self.state[\"monitor_df\"] = pd.DataFrame(columns=self.columns)\n",
    "    # -------------------------- Import & Writing Files -------------------------- #\n",
    "    def read_geom_file(self):\n",
    "        path = os.path.normpath(os.path.join(self.config[\"read_file_path\"], self.config[\"read_file_name\"]))\n",
    "        with open(path, 'r') as file:\n",
    "            lines = file.readlines()\n",
    "\n",
    "        nodes = {}\n",
    "        members = []\n",
    "        section = None\n",
    "\n",
    "        for line in lines:\n",
    "            line = line.strip()\n",
    "            if line.startswith('node:'):\n",
    "                section = 'node'\n",
    "            elif line.startswith('member:'):\n",
    "                section = 'member'\n",
    "            else:\n",
    "                if section == 'node' and line:\n",
    "                    parts = line.split()\n",
    "                    node_number = int(parts[0])\n",
    "                    node_data = tuple(map(float, parts[1:]))\n",
    "                    nodes[node_number] = node_data\n",
    "                elif section == 'member' and line:\n",
    "                    member_data = tuple(map(int, line.split()))\n",
    "                    members.append(member_data)\n",
    "\n",
    "        self.state[\"nodes\"] = nodes\n",
    "        self.state[\"member_df\"] = pd.DataFrame(members, columns=['Node #1', 'Node #2', 'Number of Elements', 'Cross-section Type'])\n",
    "\n",
    "        connectivity = self.state[\"member_df\"].to_numpy()\n",
    "        self.state[\"connectivity\"] = connectivity[:, :2]\n",
    "        self.state[\"y_coordinates\"] = np.array([value[1] for _, value in nodes.items()])\n",
    "        self.state[\"x_coordinates\"] = np.array([value[0] for _, value in nodes.items()])\n",
    "\n",
    "    def write_geom_file(self,path_,write_file): \n",
    "        path = os.path.normpath(os.path.join(path_,write_file))\n",
    "        file = open(path)\n",
    "\n",
    "        for i, (x, _) in self.state[\"nodes\"].items():\n",
    "            self.state[\"nodes\"][i] = (x, self.state[\"y_coordinates\"][i])\n",
    "\n",
    "        geom = 'node: node #, x-coordinate; y-coordinate\\n'\n",
    "        for node_num, coords in self.state[\"nodes\"].items():\n",
    "            geom += f\"{node_num} {' '.join(map(str, coords))}\\n\"\n",
    "        \n",
    "        connectivity = self.state[\"member_df\"].to_numpy()\n",
    "        geom += '\\nmember: Node #1; Node #2; number of elements; cross-section type\\n'\n",
    "        for row in connectivity:\n",
    "            geom += ' '.join(map(str, row)) + '\\n'\n",
    "\n",
    "        output_file_path = os.path.normpath(os.path.join(path_,'TRUSS.geom'))\n",
    "        with open(output_file_path, 'w') as file:\n",
    "            file.write(geom)\n",
    "            \n",
    "        return file.name\n",
    "    \n",
    "    def fit_scalers(self, initial_data):\n",
    "        y_data = initial_data[:5].reshape(1, -1).T\n",
    "        a_data = initial_data[5:].reshape(1, -1).T\n",
    "        self.config[\"scalers\"][\"y\"].fit(y_data)\n",
    "        self.config[\"scalers\"][\"a\"].fit(a_data)\n",
    "\n",
    "    def scaler(self, mode, x_values, scaler_type):\n",
    "        scaler = self.config[\"scalers\"][scaler_type]\n",
    "        x_values = x_values.reshape(1, -1).T\n",
    "        if mode == 'scale':\n",
    "            scaled_values = scaler.transform(x_values)\n",
    "        elif mode == 'descale':\n",
    "            scaled_values = scaler.inverse_transform(x_values)\n",
    "        return scaled_values.flatten()\n",
    "    \n",
    "    def areas_coordinates_write_split(self, x_list):        \n",
    "        y_coordinates = np.copy(self.state[\"y_coordinates\"])  # Use a copy to avoid modifying the original array directly\n",
    "        areas = x_list[5:]\n",
    "        y_coords = x_list[:5]\n",
    "        for i, y in enumerate(y_coords, start=1):\n",
    "            y_coordinates[2 * i] = y\n",
    "            y_coordinates[20 - 2 * i] = y\n",
    "\n",
    "        self.state[\"y_coordinates\"] = y_coordinates  # Update state\n",
    "\n",
    "        return areas, y_coords\n",
    "    # ---------------------------------------------------------------------------- #\n",
    "    #                                TARGET FUNCTION                               #\n",
    "    # ---------------------------------------------------------------------------- #\n",
    "    def loss_function(self, x_list):\n",
    "        \"\"\"\n",
    "        Calculate the loss for a given set of design parameters.\n",
    "        Parameters:\n",
    "        x_list (list): A list of design parameters.\n",
    "        Returns:\n",
    "        float: The calculated loss based on mass, frequency constraints, and imaginary penalties.\n",
    "        \"\"\"\n",
    "        if isinstance(x_list,torch.Tensor):\n",
    "            x_list = x_list.detach().cpu().numpy().flatten()\n",
    "            self.temporary = x_list\n",
    "        \n",
    "        A_list, y_list = self.areas_coordinates_write_split(x_list)\n",
    "        mass_truss = self.mass_truss(A_list, y_list)\n",
    "        freq1, freq2, freq3 = self.eigenfrequencies(A_list)\n",
    "        frequencies = np.array([freq1, freq2, freq3])\n",
    "\n",
    "        freq_penalty = 0\n",
    "        all_positive = True\n",
    "        for f, t in zip(frequencies, self.config[\"freq_constraints\"]):\n",
    "            diff = f - t\n",
    "            penalty_factor = 1 if diff >= 0 else self.config[\"violation_penalty\"]\n",
    "            freq_penalty += penalty_factor * (np.abs(diff) / t)\n",
    "            if diff < 0:\n",
    "                all_positive = False\n",
    "        \n",
    "        if all_positive:\n",
    "            self.state[\"mass_norm\"] = min(mass_truss, self.state[\"mass_norm\"])\n",
    "\n",
    "        normalized_mass_penalty = (mass_truss - self.state[\"mass_norm\"]) / self.state[\"mass_norm\"]\n",
    "        normalized_freq_penalty = freq_penalty / len(self.config[\"freq_constraints\"])\n",
    "        constraint_violation = normalized_freq_penalty + normalized_mass_penalty\n",
    "\n",
    "        LOSS = (self.config[\"mass_weight\"] * normalized_mass_penalty +\n",
    "                self.config[\"freq_weight\"] * normalized_freq_penalty)\n",
    "        # -------------------------- Optimisation monitoring ------------------------- #\n",
    "        optmonitor_data = [\n",
    "            [\"Metric\",\"Total Loss\", \"Natural Frequencies\", \"Mass of Truss\", \"Normalized Mass Loss\", \"Frequency Penalty\", \"Constraint Violation (Loss No W)\"],\n",
    "            [\"Value\",LOSS, frequencies, mass_truss, normalized_mass_penalty, normalized_freq_penalty, constraint_violation]\n",
    "        ]\n",
    "        print(f'{tabulate(optmonitor_data, headers=\"firstrow\", tablefmt=\"grid\")}\\n')\n",
    "        \n",
    "        row_data = optmonitor_data[1][0:]\n",
    "        new_data = pd.DataFrame([row_data], columns=self.columns)\n",
    "        self.state[\"monitor_df\"] = pd.concat([self.state[\"monitor_df\"], new_data], ignore_index=True)\n",
    "         \n",
    "        return LOSS\n",
    "\n",
    "    # ----------------------------- SUPPORT FUNCTIONS ---------------------------- #\n",
    "    def eigenfrequencies(self,A_list):\n",
    "        path = os.path.normpath(os.path.join(self.config[\"read_file_path\"], 'bridge_frequency.pro'))\n",
    "        \n",
    "        props = pu.parse_file(path)\n",
    "        props['model']['truss']['area'] = A_list\n",
    "        props['init']['mesh']['file'] = self.write_geom_file(self.config[\"write_file_path\"], self.config[\"write_file_name\"])\n",
    "        \n",
    "        trap = io.StringIO()\n",
    "        with redirect_stdout(trap):\n",
    "            globdat = main.jive(props)\n",
    "        \n",
    "        return (globdat[gn.EIGENFREQS][0:3] / 2 / np.pi)\n",
    "\n",
    "    def mass_truss(self,areas, y_list):\n",
    "        x_coordinates = self.state[\"x_coordinates\"]\n",
    "        y_coordinates = self.state[\"y_coordinates\"]\n",
    "        \n",
    "        for i, y in enumerate(y_list, start=1):\n",
    "            y_coordinates[2 * i] = y\n",
    "            y_coordinates[20 - 2 * i] = y\n",
    "\n",
    "        coordinates = list(zip(x_coordinates, y_coordinates))\n",
    "        lengths = np.zeros(len(self.state[\"connectivity\"]))\n",
    "        for i, (node1, node2) in enumerate(self.state[\"connectivity\"]):\n",
    "            x1, y1 = coordinates[node1]  # Adjusting index to start from 0\n",
    "            x2, y2 = coordinates[node2]\n",
    "            lengths[i] = np.sqrt((x2 - x1) ** 2 + (y2 - y1) ** 2)\n",
    "\n",
    "        n_elements = self.state[\"member_df\"].iloc[:,2].sum()\n",
    "        areas_i = np.zeros(n_elements)\n",
    "        cross_section_number = self.state[\"member_df\"].iloc[:,-1] \n",
    "        \n",
    "        for i,item in enumerate(cross_section_number):\n",
    "                areas_i[i] = areas[item]\n",
    "        self.temporary = areas_i\n",
    "        self.state[\"cross_sections\"] = areas[:15]\n",
    "        self.state[\"lengths\"] = lengths\n",
    "\n",
    "        volumes = lengths * areas_i\n",
    "        total_volume = np.sum(volumes)\n",
    "        dens = 7800\n",
    "        mass = total_volume * dens\n",
    "\n",
    "        return mass\n",
    "    # ----------------------------------- OTHER ---------------------------------- #\n",
    "    def Write_call_state(self, x, final= True):\n",
    "        if final:\n",
    "            mask = self.state[\"monitor_df\"][\"Natural Frequencies\"][:].apply(lambda x: (x >= self.config[\"freq_constraints\"]).all())\n",
    "            ind = self.state[\"monitor_df\"][mask][\"Mass of Truss\"].idxmin()\n",
    "            min_mass_iter = self.state[\"monitor_df\"].iloc[ind]\n",
    "            x_update = unnormalize(x[ind], bounds= self.config[\"bounds\"].T)\n",
    "        else:\n",
    "            x_update = unnormalize(x, bounds= self.config[\"bounds\"].T)\n",
    "        # ------------------------------- Update state ------------------------------- #\n",
    "        areas ,y_coords = self.areas_coordinates_write_split(x_update) # Serves to update coordinates\n",
    "        _ = self.mass_truss(areas, y_coords) # Serves to update cross_sections and lengths\n",
    "        path_wr = self.write_geom_file(self.config[\"write_file_path\"], 'TRUSS.geom') # Serves to update GEOM\n",
    "        # --------------------------------- Call geom -------------------------------- #\n",
    "        path = os.path.normpath(os.path.join(self.config[\"write_file_path\"],'bridge_frequency_truss.pro'))\n",
    "        props = pu.parse_file(path)\n",
    "        props['model']['truss']['area'] = self.state[\"cross_sections\"]\n",
    "        props['init']['mesh']['file'] = path_wr\n",
    "        trap = io.StringIO()\n",
    "        with redirect_stdout(trap):\n",
    "            globdat = main.jive(props)\n",
    "        if final:\n",
    "            print(f'TRUSS NFs:{(globdat[gn.EIGENFREQS][0:3] / 2 / np.pi)} and Mass:{min_mass_iter}')\n",
    "\n",
    "    def Initial_guess(self, optim_dims):\n",
    "        sampled_points = np.zeros(len(optim_dims))\n",
    "        for i, dim_index in enumerate(optim_dims):\n",
    "            lower_bound, upper_bound = self.config[\"bounds\"][i]\n",
    "            sampled_points[i] = np.random.uniform(lower_bound, upper_bound)\n",
    "        return sampled_points\n",
    "    \n",
    "    def objective_function(self, x):\n",
    "        \"\"\"\n",
    "        Evaluates the objective function using another object's method.\n",
    "        \"\"\"\n",
    "        return self.loss_function(x)\n",
    "    "
   ]
  },
  {
   "cell_type": "code",
   "execution_count": 193,
   "metadata": {},
   "outputs": [],
   "source": [
    "class BayesianOptimizer(): \n",
    "    def __init__(self, target_func, x_init, y_init, n_iter, batch_size, bounds):\n",
    "        \n",
    "        self.config = {\n",
    "            'x_init': x_init,\n",
    "            'y_init': y_init,\n",
    "            'target_func': target_func,\n",
    "            'n_iter': n_iter,\n",
    "            'batch_size': batch_size,\n",
    "            'bounds': bounds,\n",
    "            'boundsmm': [(0,1), (0,1)], # Bounds consistent with Minmax scaling \n",
    "        }\n",
    "        self.config['x_bounds'] = [self.config['boundsmm'][0]] * 5 + [self.config['boundsmm'][1]] * 15\n",
    "        \n",
    "        self.best_samples_ = pd.DataFrame(columns=['x', 'y', 'ei'])\n",
    "        self.metrics = {\n",
    "            'distances': [],\n",
    "            'uncertainty': [],\n",
    "            'y_loss': [],\n",
    "        }\n",
    "        \n",
    "        gp_config = {\n",
    "            'matern_length_scale_bounds': (1e-3, 1e5),\n",
    "            'initial_length_scale': np.ones(20),\n",
    "            'nu': 0.5,\n",
    "        }\n",
    "        kernel = Matern(length_scale=gp_config['initial_length_scale'], \n",
    "                        length_scale_bounds=gp_config['matern_length_scale_bounds'], \n",
    "                        nu=gp_config['nu'])\n",
    "        self.gauss_pr = GaussianProcessRegressor(kernel=kernel, n_restarts_optimizer=10)\n",
    "\n",
    "    def estimate_uncertainty(self, n=10):\n",
    "        sampled_points = []\n",
    "        uncertainties = []\n",
    "        for _ in range(100):  # Sample 100 times\n",
    "                x_start = self.next_guess()  # Random starting point for exploration \n",
    "                x_start_sc = self.scaler(x_start, 'scale')       \n",
    "\n",
    "                y, cov = self.gauss_pr.predict(np.array(x_start_sc).reshape(1, -1), return_std=True)\n",
    "                sampled_points.append(x_start_sc)\n",
    "                uncertainties.append(cov[0])  # We use the standard deviation (uncertainty)\n",
    "\n",
    "        uncertainties = np.array(uncertainties)\n",
    "        sampled_points = np.array(sampled_points)\n",
    "        sorted_indices = np.argsort(-uncertainties)\n",
    "        top_n_points = sampled_points[sorted_indices[:n]]\n",
    "\n",
    "        return top_n_points\n",
    "        \n",
    "    def _acquisition_function(self, x_new):\n",
    "        '''\n",
    "        Calculates the expected improvement at a given point x_new\n",
    "        '''\n",
    "        mean_y_new, sigma_y_new = self.gauss_pr.predict(np.array(x_new).reshape(1, -1), return_std=True)\n",
    "        if sigma_y_new == 0.0:\n",
    "            return 0.0\n",
    "\n",
    "        min_mean_y = np.min(self.config['y_init'])\n",
    "        z = (min_mean_y - mean_y_new) / sigma_y_new\n",
    "        exp_imp = (min_mean_y - mean_y_new) * norm.cdf(z) + sigma_y_new * norm.pdf(z)\n",
    "        return -exp_imp\n",
    "  \n",
    "    def _get_next_probable_point(self):\n",
    "        '''\n",
    "        We only standardise the data after the minimisation so the LOSS FUNCTION operates with standard scales\n",
    "        ### FIX , Before We were only returning if better this does not allow the gaussian process to understand the data as well\n",
    "        '''\n",
    "        x_optimal = None\n",
    "        x_next_sc = None\n",
    "        max_acq_value = float('inf')\n",
    "\n",
    "        for _ in range(self.config['batch_size']):\n",
    "            x_start_sc = self.estimate_uncertainty(n=10)\n",
    "            res = minimize(fun=self._acquisition_function, x0=x_start_sc, bounds=self.config['x_bounds'], method='L-BFGS-B')\n",
    "            if res.fun < max_acq_value:\n",
    "                max_acq_value = res.fun\n",
    "                x_next_sc = res.x\n",
    "                x_optimal = self.scaler(x_next_sc, 'descale')\n",
    "\n",
    "        return x_optimal, x_next_sc, -max_acq_value\n",
    "    \n",
    "    def _extend_prior_with_posterior_data(self, x, y):\n",
    "        self.config['x_init'] = np.append(self.config['x_init'], np.array([x]), axis=0)\n",
    "        self.config['y_init'] = np.append(self.config['y_init'], np.array([y]), axis=0)\n",
    "\n",
    "  \n",
    "    def optimize(self):\n",
    "        \"\"\"\n",
    "        Performs optimization to minimize the target function using Gaussian Process Regression.\n",
    "\n",
    "        Iteratively selects and evaluates new points based on the Expected Improvement (EI) criterion,\n",
    "        updating the optimal point and minimum value found.\n",
    "\n",
    "        Returns:\n",
    "            optimal_x (np.ndarray): Optimal input values minimizing the target function.\n",
    "            y_min (float): Minimum value of the target function observed.\n",
    "        \"\"\"\n",
    "        y_min_ind = np.argmin(self.config['y_init'])\n",
    "        y_min = self.config['y_init'][y_min_ind]\n",
    "        optimal_x = self.config['x_init'][y_min_ind]\n",
    "        optimal_ei = None\n",
    "\n",
    "        for i in range(self.config['n_iter']):\n",
    "            print(f'Iteration: {i} Best loss = {y_min:.2f}\\n')\n",
    "            self.gauss_pr.fit(self.config['x_init'], self.config['y_init'])\n",
    "            x_next, x_next_sc, ei = self._get_next_probable_point()\n",
    "            y_next = self.config['target_func'](np.array(x_next))  # Call target function\n",
    "            self._extend_prior_with_posterior_data(x_next_sc, y_next)\n",
    "            if y_next < y_min:\n",
    "                y_min = y_next\n",
    "                optimal_x = x_next\n",
    "                optimal_ei = ei\n",
    "\n",
    "            self.metrics['best_samples_'] = pd.concat([self.metrics['best_samples_'], pd.DataFrame({\"x\": [optimal_x], \"y\": [y_min], \"ei\": [optimal_ei]})], ignore_index=True)\n",
    "        return optimal_x, y_min\n",
    "\n",
    "    @staticmethod\n",
    "    def next_guess(bounds):\n",
    "        \"\"\"\n",
    "        Generate a next guess based on the bounds provided.\n",
    "        \n",
    "        Parameters:\n",
    "        - bounds: A tuple containing two elements, each an (min, max) tuple representing bounds.\n",
    "        \n",
    "        Returns:\n",
    "        - A numpy array containing random values within the specified bounds.\n",
    "        \"\"\"\n",
    "        y_bound = bounds[0]\n",
    "        A_bound = bounds[1]\n",
    "        y = np.random.uniform(y_bound[0], y_bound[1], 5)\n",
    "        Areas = np.random.uniform(A_bound[0], A_bound[1], 15)\n",
    "        x_list = np.append(y, Areas)\n",
    "        return x_list\n",
    "\n",
    "    @staticmethod\n",
    "    def scaler(x, mode, OBJECT):\n",
    "        \"\"\"\n",
    "        Scales or descales the provided array x using another object's scaler method.\n",
    "        \n",
    "        Parameters:\n",
    "        - x: The input array to scale or descale.\n",
    "        - mode: A string indicating the scaling mode ('scale' or 'descale').\n",
    "        - OBJECT: An instance of another class with a 'scaler' method to perform the actual scaling.\n",
    "        \n",
    "        Returns:\n",
    "        - A numpy array that has been scaled or descaled by the OBJECT's scaler method.\n",
    "        \"\"\"\n",
    "        y_coords = x[:5]\n",
    "        y_coords_sc = OBJECT.scaler(mode, y_coords, 'y')\n",
    "        areas = x[5:]\n",
    "        areas_sc = OBJECT.scaler(mode, areas, 'a')\n",
    "        x_out = np.concatenate([y_coords_sc, areas_sc])\n",
    "        return x_out \n"
   ]
  },
  {
   "cell_type": "markdown",
   "metadata": {},
   "source": [
    "## <strong> 1 | Initialisation</strong>"
   ]
  },
  {
   "cell_type": "code",
   "execution_count": 20,
   "metadata": {},
   "outputs": [],
   "source": [
    "# -------------------------------- Definitions ------------------------------- #\n",
    "read_file_path = '../truss_bridge/data'\n",
    "read_file = 'bridge.geom'\n",
    "write_file_path =  '../truss_bridge/data/@TRUSS'\n",
    "write_file = 'TRUSS.geom'\n",
    "optim_dims = [i for i in range(20)]  \n",
    "lower_area = 40e-4\n",
    "violation_factor = 6\n",
    "freq_constraints = [20,40,60]\n",
    "mass_weight = 2.5\n",
    "freq_weight = 6.0\n",
    "A_bound = (0.0001, 0.01)\n",
    "y_bound = (0.5, 2)\n",
    "scalers = [MinMaxScaler(),MinMaxScaler()] \n",
    "bounds = np.array([y_bound if index <= 4 else A_bound for index in optim_dims])\n",
    "bounds[5] = (lower_area - A_bound[0], lower_area + A_bound[0])\n",
    "\n",
    "TRUSS1= TRUSS(read_file_path,\n",
    "               read_file,\n",
    "                write_file_path,\n",
    "                write_file,\n",
    "                violation_factor,\n",
    "                scalers,\n",
    "                bounds,\n",
    "                freq_constraints= freq_constraints, \n",
    "                mass_weight= mass_weight, \n",
    "                freq_weight= freq_weight)\n",
    "TRUSS1.read_geom_file()"
   ]
  },
  {
   "cell_type": "code",
   "execution_count": null,
   "metadata": {},
   "outputs": [],
   "source": [
    "# -------------------------------- Initiation -------------------------------- #\n",
    "n_samples =  10\n",
    "x_list = []\n",
    "y_list = []\n",
    "x_list_sc = []\n",
    "x_0 = np.empty(len(optim_dims))\n",
    "\n",
    "for _ in range(n_samples):\n",
    "    x_c = np.copy(x_0) # Reset seed\n",
    "    x_random = TRUSS1.Initial_guess(optim_dims)\n",
    "    x_c[optim_dims] = x_random\n",
    "    x_list.append(x_c)\n",
    "# \n",
    "trap = io.StringIO()\n",
    "with redirect_stdout(trap):\n",
    "    for x in x_list:\n",
    "        LOSS = TRUSS1.loss_function(x)\n",
    "        y_list.append(LOSS)\n",
    "# \n",
    "# ---------------------------- INITIATE OPTIMISER ---------------------------- #\n",
    "bounds = torch.tensor(bounds.T)  \n",
    "y_init_t = torch.tensor(y_list).reshape(-1,1)"
   ]
  },
  {
   "cell_type": "markdown",
   "metadata": {},
   "source": [
    "## <strong> 2 | Optimisation </strong>"
   ]
  },
  {
   "cell_type": "markdown",
   "metadata": {},
   "source": [
    "### <strong> 2.1 | Single task Optimisation </strong>\n",
    "\n",
    "Best performing algorithm although it does not have a as strong probabilistic interpretation as the SAAS model for this dimension space it converges to a solution faster. The algorithm coverges faster to a solution with smaller batch sizes this is potentially since the bounds and constraints introduced are already quite small and the solution spaces in between and in these are relatively proportional."
   ]
  },
  {
   "cell_type": "code",
   "execution_count": 360,
   "metadata": {},
   "outputs": [],
   "source": [
    "def SingleBOPT(Y_init_single, X_init_single, n_iter, batch_size, Nrestats, objective_function):\n",
    "    gp_model = SingleTaskGP(X_init_single, Y_init_single)\n",
    "    mll = ExactMarginalLogLikelihood(gp_model.likelihood, gp_model)\n",
    "    fit_gpytorch_model(mll)\n",
    "    gp_model.set_train_data(inputs=X_init_single, targets=Y_init_single.flatten(), strict=False)\n",
    "    \n",
    "    for iteration in range(n_iter):\n",
    "        print(f'Iteration: {iteration} Best loss = {Y_init_single.min().item():.2f}\\n')\n",
    "        acq_func = ExpectedImprovement(model=gp_model, best_f=Y_init_single.min(), maximize=False)\n",
    "        new_x, _ = optimize_acqf(\n",
    "            acq_function=acq_func,\n",
    "            bounds=bounds,\n",
    "            q=1,\n",
    "            num_restarts= Nrestats,\n",
    "            raw_samples= batch_size,\n",
    "        )\n",
    "        new_x_unnorm = unnormalize(new_x, bounds=bounds)\n",
    "        new_y = objective_function(new_x_unnorm)\n",
    "        new_y = torch.tensor(new_y, dtype=torch.float32).reshape(1,-1)\n",
    "        X_init_single = torch.cat([X_init_single, new_x])\n",
    "        Y_init_single = torch.cat([Y_init_single, new_y])\n",
    "        \n",
    "        gp_model.set_train_data(inputs=X_init_single, targets=Y_init_single.flatten(), strict=False)\n",
    "        fit_gpytorch_model(mll)\n",
    "    return X_init_single, Y_init_single"
   ]
  },
  {
   "cell_type": "code",
   "execution_count": null,
   "metadata": {},
   "outputs": [],
   "source": [
    "Y_init_single , X_init_single = y_init_t, X_init_norm\n",
    "objective_function = TRUSS1.loss_function\n",
    "n_iter = 50\n",
    "batch_size = 15\n",
    "Nrestats = 10\n",
    "\n",
    "X_init_single , Y_init_single = SingleBOPT(Y_init_single, X_init_single, n_iter, batch_size, Nrestats, objective_function)"
   ]
  },
  {
   "cell_type": "markdown",
   "metadata": {},
   "source": [
    "### <strong> 2.2 | Read and Write Data </strong>"
   ]
  },
  {
   "cell_type": "code",
   "execution_count": 392,
   "metadata": {},
   "outputs": [],
   "source": [
    "# -------------------------- SAVE DATA !!DO NOT RUN -------------------------- #\n",
    "# file_name = \"TRUSS1_bopt_data.pkl\"\n",
    "# path_s = os.path.normpath(os.path.join(write_file_path, file_name))\n",
    "\n",
    "# data_single = {\n",
    "#     \"Y_init_single\": Y_init_single,\n",
    "#     \"X_init_single\": X_init_single,\n",
    "#     \"n_iter\": n_iter,\n",
    "#     \"batch_size\": batch_size,\n",
    "#     \"Nrestats\": Nrestats,\n",
    "#     \"X_single\": X_init_single,\n",
    "#     \"Y_single\": Y_init_single,\n",
    "#     \"TRUSS\": TRUSS1\n",
    "# }\n",
    "# data_to_save = [data_single]\n",
    "\n",
    "# with open(path_s, 'wb') as file:\n",
    "#     pickle.dump(data_to_save, file)"
   ]
  },
  {
   "cell_type": "code",
   "execution_count": 4,
   "metadata": {},
   "outputs": [],
   "source": [
    "read_file_path = write_file_path =  '../truss_bridge/data/@TRUSS/visualisation'\n",
    "read_file = write_file = 'TRUSS.geom'\n",
    "\n",
    "TRUSSDummy = TRUSS(read_file_path,\n",
    "               read_file,\n",
    "                write_file_path,\n",
    "                write_file,\n",
    "                violation_factor,\n",
    "                scalers,\n",
    "                bounds,\n",
    "                freq_constraints= freq_constraints, \n",
    "                mass_weight= mass_weight, \n",
    "                freq_weight= freq_weight)\n",
    "TRUSSDummy.read_geom_file()\n",
    "\n",
    "file_name = \"TRUSS1_bopt_data.pkl\"\n",
    "write_file_path =  '../truss_bridge/data/@TRUSS/.pkl'\n",
    "path_s = os.path.normpath(os.path.join(write_file_path, file_name))\n",
    "with open(path_s, 'rb') as file:\n",
    "    loaded_data = pickle.load(file)\n",
    "# --------------------------------- variables -------------------------------- #\n",
    "data_single = loaded_data[0]\n",
    "Y_init_single = data_single[\"Y_init_single\"]\n",
    "X_init_single = data_single[\"X_init_single\"]\n",
    "n_iter = data_single[\"n_iter\"]\n",
    "batch_size = data_single[\"batch_size\"]\n",
    "Nrestats = data_single[\"Nrestats\"]\n",
    "X_init_single = data_single[\"X_single\"]\n",
    "Y_init_single = data_single[\"Y_single\"]\n",
    "TRUSSDummy = data_single[\"TRUSS\"]"
   ]
  },
  {
   "cell_type": "markdown",
   "metadata": {},
   "source": [
    "## <strong> 3 | Results </strong>"
   ]
  },
  {
   "cell_type": "markdown",
   "metadata": {},
   "source": [
    "### <strong> 3.1 | TRUSS Run </strong>\n",
    "\n",
    "The following figure illustrates the explored truss shapes  by the bayesian optimiser in its convergence path. As a note, it can be seen that the lowest mass and the deemed best solution in the following code cells is not neccessarily the solution with the lowest loss function. This illustrates how there can still be improvements made to the loss function. "
   ]
  },
  {
   "cell_type": "code",
   "execution_count": 5,
   "metadata": {},
   "outputs": [],
   "source": [
    "total_loss = TRUSSDummy.state[\"monitor_df\"][\"Total Loss\"]\n",
    "fig = loss_function_figure(total_loss)\n",
    "\n",
    "app = Dash(__name__)\n",
    "\n",
    "app.layout = html.Div([\n",
    "    html.Div([\n",
    "        dcc.Graph(id='truss-layout', figure=go.Figure()),  # Initialize with an empty figure\n",
    "    ], style={'display': 'inline-block', 'width': '60%'}),\n",
    "    \n",
    "    html.Div([\n",
    "        dcc.Graph(id='loss-function', figure=fig),\n",
    "    ], style={'display': 'inline-block', 'width': '40%'}),\n",
    "], style={'width': '1800px'})\n",
    "\n",
    "@app.callback(\n",
    "    Output('truss-layout', 'figure'),\n",
    "    [Input('loss-function', 'hoverData')]\n",
    ")\n",
    "def update_truss_layout(hoverData):\n",
    "    if hoverData is not None:\n",
    "        point_index = hoverData['points'][0]['pointIndex']\n",
    "        nodes, member_df = get_truss_data_for_iteration(TRUSSDummy, X_init_single, point_index)\n",
    "        return plot_truss_layout(nodes, member_df)\n",
    "    return go.Figure(layout= layout)"
   ]
  },
  {
   "cell_type": "code",
   "execution_count": null,
   "metadata": {},
   "outputs": [],
   "source": [
    "app.run_server(debug=True)"
   ]
  },
  {
   "cell_type": "markdown",
   "metadata": {},
   "source": [
    "### <strong> 3.2 | Investigating the variance in solution paths </strong>\n",
    "\n",
    "Investigating the solution path we can observe how there is a very big variance between specific runs although this is moreso uncommon it demonstrates how unlike Kanarachos perhaps our Bopt solver is not as resilient to changing solution spaces. This is particularly an issue in our case since our solution space will change depending on the hyperparameters of our loss function. It is therefore important to account well for such behaviour."
   ]
  },
  {
   "cell_type": "code",
   "execution_count": 8,
   "metadata": {},
   "outputs": [],
   "source": [
    "num_runs = 5\n",
    "n_iter_comparison = 50\n",
    "# ------------------------- IMPORT ENSEMBLE LOOP DATA ------------------------ #\n",
    "file_name = \"TRUSS1_ensemble_data.pkl\"\n",
    "path_s = os.path.normpath(os.path.join(write_file_path, file_name))\n",
    "with open(path_s, 'rb') as file:\n",
    "    loaded_data = pickle.load(file)\n",
    "    data = loaded_data[0]\n",
    "\n",
    "results_single = data[\"results_single\"]\n",
    "mean_single =  data[\"mean_single\"]\n",
    "std_single = data[\"std_single\"]\n",
    "\n",
    "# ----------------------------- RUN ENSEMBLE LOOP ---------------------------- #\n",
    "# results_single = np.zeros((num_runs, n_iter_comparison))\n",
    "# Y_init_bpt , X_init_bpt = y_init_t, X_init_norm\n",
    "\n",
    "# for i in range(num_runs):\n",
    "#     _, Y_init_p = SingleBOPT(Y_init_bpt, X_init_bpt, n_iter_comparison, batch_size, Nrestats)\n",
    "#     results_single[i, :] = Y_init_p[n_samples:].flatten()\n",
    "# mean_single = np.mean(results_single, axis=0)\n",
    "# std_single = np.std(results_single, axis=0)\n",
    "\n",
    "results_single = results_single.T  \n",
    "mean_single = results_single.mean(axis=1)\n",
    "std_single = results_single.std(axis=1)\n",
    "confidence_interval = 1.96 * (std_single / np.sqrt(num_runs))"
   ]
  },
  {
   "cell_type": "code",
   "execution_count": 17,
   "metadata": {},
   "outputs": [
    {
     "data": {
      "application/vnd.plotly.v1+json": {
       "config": {
        "plotlyServerURL": "https://plot.ly"
       },
       "data": [
        {
         "line": {
          "color": "rgba(30, 136, 229, 0.2)"
         },
         "mode": "lines",
         "name": "Run 1",
         "type": "scatter",
         "x": [
          0,
          1,
          2,
          3,
          4,
          5,
          6,
          7,
          8,
          9,
          10,
          11,
          12,
          13,
          14,
          15,
          16,
          17,
          18,
          19,
          20,
          21,
          22,
          23,
          24,
          25,
          26,
          27,
          28,
          29,
          30,
          31,
          32,
          33,
          34,
          35,
          36,
          37,
          38,
          39,
          40,
          41,
          42,
          43,
          44,
          45,
          46,
          47,
          48,
          49
         ],
         "y": [
          23.685209274291992,
          34.29806900024414,
          5.268447399139404,
          5.057435989379883,
          4.9203267097473145,
          5.387904167175293,
          4.259349346160889,
          4.445407867431641,
          9.410887718200684,
          4.7175612449646,
          6.693123817443848,
          3.8237998485565186,
          5.802593231201172,
          5.743268013000488,
          4.139566898345947,
          4.06007194519043,
          3.5563125610351562,
          5.082597732543945,
          17.570411682128906,
          18.123838424682617,
          29.518678665161133,
          3.7523436546325684,
          16.69744110107422,
          19.760557174682617,
          6.025026321411133,
          16.947172164916992,
          37.34002685546875,
          13.716972351074219,
          25.62188148498535,
          3.358133316040039,
          3.762239694595337,
          20.556171417236328,
          25.720664978027344,
          3.0469577312469482,
          3.3809916973114014,
          2.653419256210327,
          2.0288944244384766,
          1.4776674509048462,
          2.0163025856018066,
          3.1090481281280518,
          1.9822956323623657,
          2.1618893146514893,
          2.4579977989196777,
          1.3185253143310547,
          1.3088377714157104,
          0.951837420463562,
          0.3767947256565094,
          0.29851996898651123,
          0.234829381108284,
          0.076338030397892
         ]
        },
        {
         "line": {
          "color": "rgba(30, 136, 229, 0.30000000000000004)"
         },
         "mode": "lines",
         "name": "Run 2",
         "type": "scatter",
         "x": [
          0,
          1,
          2,
          3,
          4,
          5,
          6,
          7,
          8,
          9,
          10,
          11,
          12,
          13,
          14,
          15,
          16,
          17,
          18,
          19,
          20,
          21,
          22,
          23,
          24,
          25,
          26,
          27,
          28,
          29,
          30,
          31,
          32,
          33,
          34,
          35,
          36,
          37,
          38,
          39,
          40,
          41,
          42,
          43,
          44,
          45,
          46,
          47,
          48,
          49
         ],
         "y": [
          10.226249694824219,
          9.545304298400879,
          11.166484832763672,
          7.216701507568359,
          6.610424518585205,
          12.60735034942627,
          6.213037014007568,
          8.993532180786133,
          5.365880966186523,
          8.372407913208008,
          6.165050029754639,
          7.089226245880127,
          6.0837721824646,
          5.782270908355713,
          7.351611614227295,
          6.65125846862793,
          6.114677906036377,
          6.865415096282959,
          5.962043285369873,
          8.834352493286133,
          5.44760274887085,
          6.398922443389893,
          9.689955711364746,
          6.026005268096924,
          5.467111110687256,
          4.843216896057129,
          6.44218635559082,
          3.3710310459136963,
          2.1891963481903076,
          2.6052701473236084,
          2.0218889713287354,
          1.371715784072876,
          1.8504958152770996,
          2.0141608715057373,
          1.4321668148040771,
          1.6850506067276,
          2.058624029159546,
          5.405184745788574,
          1.2423529624938965,
          3.7022879123687744,
          1.2698289155960083,
          1.3696403503417969,
          0.8767893314361572,
          0.8133008480072021,
          0.2802834212779999,
          0.2902548611164093,
          0.32109901309013367,
          1.5156861543655396,
          0.9890535473823547,
          0.7185472846031189
         ]
        },
        {
         "line": {
          "color": "rgba(30, 136, 229, 0.4)"
         },
         "mode": "lines",
         "name": "Run 3",
         "type": "scatter",
         "x": [
          0,
          1,
          2,
          3,
          4,
          5,
          6,
          7,
          8,
          9,
          10,
          11,
          12,
          13,
          14,
          15,
          16,
          17,
          18,
          19,
          20,
          21,
          22,
          23,
          24,
          25,
          26,
          27,
          28,
          29,
          30,
          31,
          32,
          33,
          34,
          35,
          36,
          37,
          38,
          39,
          40,
          41,
          42,
          43,
          44,
          45,
          46,
          47,
          48,
          49
         ],
         "y": [
          11.653827667236328,
          7.83168363571167,
          7.212130069732666,
          8.556949615478516,
          6.018243312835693,
          11.60754680633545,
          6.6522908210754395,
          4.967675685882568,
          4.882394313812256,
          3.8782379627227783,
          3.0979857444763184,
          2.667370319366455,
          6.750258445739746,
          1.6703219413757324,
          3.545609474182129,
          1.1676150560379028,
          7.080971717834473,
          2.373396396636963,
          2.2882630825042725,
          0.7219805121421814,
          0.5686437487602234,
          0.5116370320320129,
          0.17140401899814606,
          0.965623140335083,
          0.5806219577789307,
          8.592291831970215,
          7.509463310241699,
          0.34258580207824707,
          0.48335564136505127,
          0.3022889792919159,
          1.5091150999069214,
          1.1613160371780396,
          0.1759311407804489,
          2.0976686477661133,
          4.474005699157715,
          3.363495111465454,
          4.729283332824707,
          8.379998207092285,
          1.820367455482483,
          0.7648823261260986,
          1.4060577154159546,
          2.2796530723571777,
          1.88253915309906,
          1.8645062446594238,
          1.2660897970199585,
          0.9269704222679138,
          2.2930362224578857,
          0.158521831035614,
          9.205212593078613,
          2.6012017726898193
         ]
        },
        {
         "line": {
          "color": "rgba(30, 136, 229, 0.5)"
         },
         "mode": "lines",
         "name": "Run 4",
         "type": "scatter",
         "x": [
          0,
          1,
          2,
          3,
          4,
          5,
          6,
          7,
          8,
          9,
          10,
          11,
          12,
          13,
          14,
          15,
          16,
          17,
          18,
          19,
          20,
          21,
          22,
          23,
          24,
          25,
          26,
          27,
          28,
          29,
          30,
          31,
          32,
          33,
          34,
          35,
          36,
          37,
          38,
          39,
          40,
          41,
          42,
          43,
          44,
          45,
          46,
          47,
          48,
          49
         ],
         "y": [
          14.236281394958496,
          26.049409866333008,
          7.00412130355835,
          6.132131099700928,
          6.12885856628418,
          6.095153331756592,
          5.734968662261963,
          4.757657527923584,
          5.32692289352417,
          7.795281410217285,
          8.816327095031738,
          5.514400482177734,
          5.044210433959961,
          5.41316032409668,
          4.562282085418701,
          5.106294631958008,
          4.219750881195068,
          5.636407375335693,
          8.472766876220703,
          4.20622444152832,
          4.490803241729736,
          4.520761489868164,
          4.197645664215088,
          4.094345569610596,
          3.5471668243408203,
          2.9104270935058594,
          2.6700055599212646,
          2.552823543548584,
          2.870457887649536,
          2.353170156478882,
          2.147024631500244,
          2.025637626647949,
          1.5953675508499146,
          0.699797511100769,
          0.35648131370544434,
          0.6777638792991638,
          2.338230848312378,
          0.3394142985343933,
          0.38209789991378784,
          1.6248224973678589,
          0.39140772819519043,
          0.31398236751556396,
          0.33117082715034485,
          1.4286463260650635,
          0.39293408393859863,
          0.4098561108112335,
          4.0367631912231445,
          0.4993138015270233,
          1.1688910722732544,
          0.45898643136024475
         ]
        },
        {
         "line": {
          "color": "rgba(30, 136, 229, 0.6000000000000001)"
         },
         "mode": "lines",
         "name": "Run 5",
         "type": "scatter",
         "x": [
          0,
          1,
          2,
          3,
          4,
          5,
          6,
          7,
          8,
          9,
          10,
          11,
          12,
          13,
          14,
          15,
          16,
          17,
          18,
          19,
          20,
          21,
          22,
          23,
          24,
          25,
          26,
          27,
          28,
          29,
          30,
          31,
          32,
          33,
          34,
          35,
          36,
          37,
          38,
          39,
          40,
          41,
          42,
          43,
          44,
          45,
          46,
          47,
          48,
          49
         ],
         "y": [
          8.886783599853516,
          9.343405723571777,
          5.310904026031494,
          6.28819465637207,
          7.857669830322266,
          5.857572555541992,
          3.96999454498291,
          3.627612590789795,
          2.8887484073638916,
          0.7684518098831177,
          2.110610008239746,
          0.4394908845424652,
          3.1697843074798584,
          0.4470314681529999,
          0.256822794675827,
          1.9258856773376465,
          0.9287366271018982,
          0.3499627411365509,
          3.684959650039673,
          4.049886703491211,
          0.527455747127533,
          0.3716374635696411,
          0.455188512802124,
          0.5412635207176208,
          2.3488008975982666,
          0.856740415096283,
          0.8000525832176208,
          0.39418676495552063,
          0.4360828995704651,
          0.4054330587387085,
          0.7353453040122986,
          1.894386649131775,
          2.0691840648651123,
          0.2887560725212097,
          0.44540855288505554,
          1.6620508432388306,
          0.36919742822647095,
          0.38422900438308716,
          0.34939637780189514,
          1.0012388229370117,
          0.3503378629684448,
          0.19758062064647675,
          0.18794824182987213,
          0.2766974866390228,
          0.3807603716850281,
          1.868825912475586,
          0.24953140318393707,
          0.433420330286026,
          0.521261990070343,
          0.25967302918434143
         ]
        },
        {
         "line": {
          "color": "black",
          "dash": "dash"
         },
         "mode": "lines",
         "name": "Mean Loss",
         "type": "scatter",
         "x": [
          0,
          1,
          2,
          3,
          4,
          5,
          6,
          7,
          8,
          9,
          10,
          11,
          12,
          13,
          14,
          15,
          16,
          17,
          18,
          19,
          20,
          21,
          22,
          23,
          24,
          25,
          26,
          27,
          28,
          29,
          30,
          31,
          32,
          33,
          34,
          35,
          36,
          37,
          38,
          39,
          40,
          41,
          42,
          43,
          44,
          45,
          46,
          47,
          48,
          49
         ],
         "y": [
          13.73767032623291,
          17.413574504852296,
          7.1924175262451175,
          6.650282573699951,
          6.307104587554932,
          8.311105442047118,
          5.365928077697754,
          5.358377170562744,
          5.574966859817505,
          5.106388068199157,
          5.376619338989258,
          3.90685755610466,
          5.370123720169067,
          3.8112105309963225,
          3.97117857336998,
          3.782225155830383,
          4.3800899386405945,
          4.061555868387222,
          7.595688915252685,
          7.1872565150260925,
          8.110636830329895,
          3.111060416698456,
          6.242327001690865,
          6.277558934688568,
          3.5937454223632814,
          6.829969680309295,
          10.95234693288803,
          4.0755199015140535,
          6.3201948523521425,
          1.8048591315746307,
          2.035122740268707,
          5.401845502853393,
          6.282328709959984,
          1.6294681668281554,
          2.0178108155727386,
          2.008355939388275,
          2.3048460125923156,
          3.1972987413406373,
          1.1621034562587738,
          2.040455937385559,
          1.0799855709075927,
          1.2645491451025008,
          1.1472890704870224,
          1.1403352439403533,
          0.7257810890674591,
          0.889548945426941,
          1.455444911122322,
          0.5810924172401428,
          2.42384971678257,
          0.8229493096470832
         ]
        },
        {
         "fill": "toself",
         "fillcolor": "rgba(200, 200, 200, 0.3)",
         "line": {
          "color": "rgba(255,255,255,0)"
         },
         "name": "Confidence Interval",
         "showlegend": false,
         "type": "scatter",
         "x": [
          0,
          1,
          2,
          3,
          4,
          5,
          6,
          7,
          8,
          9,
          10,
          11,
          12,
          13,
          14,
          15,
          16,
          17,
          18,
          19,
          20,
          21,
          22,
          23,
          24,
          25,
          26,
          27,
          28,
          29,
          30,
          31,
          32,
          33,
          34,
          35,
          36,
          37,
          38,
          39,
          40,
          41,
          42,
          43,
          44,
          45,
          46,
          47,
          48,
          49,
          49,
          48,
          47,
          46,
          45,
          44,
          43,
          42,
          41,
          40,
          39,
          38,
          37,
          36,
          35,
          34,
          33,
          32,
          31,
          30,
          29,
          28,
          27,
          26,
          25,
          24,
          23,
          22,
          21,
          20,
          19,
          18,
          17,
          16,
          15,
          14,
          13,
          12,
          11,
          10,
          9,
          8,
          7,
          6,
          5,
          4,
          3,
          2,
          1,
          0
         ],
         "y": [
          18.366022165417977,
          26.84208102918548,
          9.075275144624628,
          7.679456791222505,
          7.1418548426043245,
          11.049489027502577,
          6.300308451681959,
          7.000895652845134,
          7.435004086392372,
          7.534709041363614,
          7.525315212315079,
          5.916312552129147,
          6.447147473774491,
          5.813301285160229,
          5.961621384735971,
          5.550309996716452,
          6.2567718846132925,
          6.136199574361582,
          12.338657766101349,
          12.487977635444755,
          17.655538969377545,
          5.16560336075661,
          11.726452591102465,
          12.447577772722298,
          5.3490825222188505,
          11.795435924724387,
          22.713463471953006,
          8.42759430449659,
          14.820472445922306,
          2.88339880629879,
          2.9083009198508645,
          12.049438285198978,
          14.821240007762853,
          2.5093552194570874,
          3.4563279181954094,
          2.8162409921746887,
          3.5296513050361065,
          5.990505213709403,
          1.7742148254409669,
          3.0614173740949937,
          1.6292127139576449,
          2.037564652577079,
          1.9232217540387708,
          1.619172557099718,
          1.1294046635246362,
          1.3781392006924724,
          2.771375394562656,
          1.0033572717026251,
          5.4100586279128065,
          1.6244200467221128,
          0.021478572572053656,
          -0.5623591943476667,
          0.15882756277766047,
          0.13951442768198818,
          0.40095869016140945,
          0.3221575146102821,
          0.6614979307809887,
          0.37135638693527406,
          0.4915336376279227,
          0.5307584278575405,
          1.0194945006761245,
          0.5499920870765806,
          0.4040922689718718,
          1.0800407201485247,
          1.2004708866018612,
          0.5792937129500675,
          0.7495811141992236,
          -2.2565825878428853,
          -1.2457472794921909,
          1.1619445606865495,
          0.7263194568504712,
          -2.1800827412180217,
          -0.2765545014684836,
          -0.8087696061769449,
          1.8645034358942043,
          1.8384083225077128,
          0.10754009665483988,
          0.7582014122792646,
          1.0565174726403015,
          -1.4342653087177535,
          1.8865353946074297,
          2.8527200644040205,
          1.9869121624128616,
          2.5034079926678965,
          2.014140314944315,
          1.9807357620039892,
          1.8091197768324156,
          4.293099966563643,
          1.8974025600801725,
          3.2279234656634364,
          2.678067095034701,
          3.714929633242638,
          3.7158586882803544,
          4.43154770371355,
          5.5727218565916585,
          5.472354332505539,
          5.621108356177397,
          5.309559907865607,
          7.98506798051911,
          9.109318487047844
         ]
        }
       ],
       "layout": {
        "height": 650,
        "legend": {
         "font": {
          "size": 12
         },
         "title": {
          "text": "Runs"
         }
        },
        "margin": {
         "b": 100,
         "l": 100,
         "r": 100,
         "t": 100
        },
        "plot_bgcolor": "white",
        "template": {
         "data": {
          "bar": [
           {
            "error_x": {
             "color": "#2a3f5f"
            },
            "error_y": {
             "color": "#2a3f5f"
            },
            "marker": {
             "line": {
              "color": "#E5ECF6",
              "width": 0.5
             },
             "pattern": {
              "fillmode": "overlay",
              "size": 10,
              "solidity": 0.2
             }
            },
            "type": "bar"
           }
          ],
          "barpolar": [
           {
            "marker": {
             "line": {
              "color": "#E5ECF6",
              "width": 0.5
             },
             "pattern": {
              "fillmode": "overlay",
              "size": 10,
              "solidity": 0.2
             }
            },
            "type": "barpolar"
           }
          ],
          "carpet": [
           {
            "aaxis": {
             "endlinecolor": "#2a3f5f",
             "gridcolor": "white",
             "linecolor": "white",
             "minorgridcolor": "white",
             "startlinecolor": "#2a3f5f"
            },
            "baxis": {
             "endlinecolor": "#2a3f5f",
             "gridcolor": "white",
             "linecolor": "white",
             "minorgridcolor": "white",
             "startlinecolor": "#2a3f5f"
            },
            "type": "carpet"
           }
          ],
          "choropleth": [
           {
            "colorbar": {
             "outlinewidth": 0,
             "ticks": ""
            },
            "type": "choropleth"
           }
          ],
          "contour": [
           {
            "colorbar": {
             "outlinewidth": 0,
             "ticks": ""
            },
            "colorscale": [
             [
              0,
              "#0d0887"
             ],
             [
              0.1111111111111111,
              "#46039f"
             ],
             [
              0.2222222222222222,
              "#7201a8"
             ],
             [
              0.3333333333333333,
              "#9c179e"
             ],
             [
              0.4444444444444444,
              "#bd3786"
             ],
             [
              0.5555555555555556,
              "#d8576b"
             ],
             [
              0.6666666666666666,
              "#ed7953"
             ],
             [
              0.7777777777777778,
              "#fb9f3a"
             ],
             [
              0.8888888888888888,
              "#fdca26"
             ],
             [
              1,
              "#f0f921"
             ]
            ],
            "type": "contour"
           }
          ],
          "contourcarpet": [
           {
            "colorbar": {
             "outlinewidth": 0,
             "ticks": ""
            },
            "type": "contourcarpet"
           }
          ],
          "heatmap": [
           {
            "colorbar": {
             "outlinewidth": 0,
             "ticks": ""
            },
            "colorscale": [
             [
              0,
              "#0d0887"
             ],
             [
              0.1111111111111111,
              "#46039f"
             ],
             [
              0.2222222222222222,
              "#7201a8"
             ],
             [
              0.3333333333333333,
              "#9c179e"
             ],
             [
              0.4444444444444444,
              "#bd3786"
             ],
             [
              0.5555555555555556,
              "#d8576b"
             ],
             [
              0.6666666666666666,
              "#ed7953"
             ],
             [
              0.7777777777777778,
              "#fb9f3a"
             ],
             [
              0.8888888888888888,
              "#fdca26"
             ],
             [
              1,
              "#f0f921"
             ]
            ],
            "type": "heatmap"
           }
          ],
          "heatmapgl": [
           {
            "colorbar": {
             "outlinewidth": 0,
             "ticks": ""
            },
            "colorscale": [
             [
              0,
              "#0d0887"
             ],
             [
              0.1111111111111111,
              "#46039f"
             ],
             [
              0.2222222222222222,
              "#7201a8"
             ],
             [
              0.3333333333333333,
              "#9c179e"
             ],
             [
              0.4444444444444444,
              "#bd3786"
             ],
             [
              0.5555555555555556,
              "#d8576b"
             ],
             [
              0.6666666666666666,
              "#ed7953"
             ],
             [
              0.7777777777777778,
              "#fb9f3a"
             ],
             [
              0.8888888888888888,
              "#fdca26"
             ],
             [
              1,
              "#f0f921"
             ]
            ],
            "type": "heatmapgl"
           }
          ],
          "histogram": [
           {
            "marker": {
             "pattern": {
              "fillmode": "overlay",
              "size": 10,
              "solidity": 0.2
             }
            },
            "type": "histogram"
           }
          ],
          "histogram2d": [
           {
            "colorbar": {
             "outlinewidth": 0,
             "ticks": ""
            },
            "colorscale": [
             [
              0,
              "#0d0887"
             ],
             [
              0.1111111111111111,
              "#46039f"
             ],
             [
              0.2222222222222222,
              "#7201a8"
             ],
             [
              0.3333333333333333,
              "#9c179e"
             ],
             [
              0.4444444444444444,
              "#bd3786"
             ],
             [
              0.5555555555555556,
              "#d8576b"
             ],
             [
              0.6666666666666666,
              "#ed7953"
             ],
             [
              0.7777777777777778,
              "#fb9f3a"
             ],
             [
              0.8888888888888888,
              "#fdca26"
             ],
             [
              1,
              "#f0f921"
             ]
            ],
            "type": "histogram2d"
           }
          ],
          "histogram2dcontour": [
           {
            "colorbar": {
             "outlinewidth": 0,
             "ticks": ""
            },
            "colorscale": [
             [
              0,
              "#0d0887"
             ],
             [
              0.1111111111111111,
              "#46039f"
             ],
             [
              0.2222222222222222,
              "#7201a8"
             ],
             [
              0.3333333333333333,
              "#9c179e"
             ],
             [
              0.4444444444444444,
              "#bd3786"
             ],
             [
              0.5555555555555556,
              "#d8576b"
             ],
             [
              0.6666666666666666,
              "#ed7953"
             ],
             [
              0.7777777777777778,
              "#fb9f3a"
             ],
             [
              0.8888888888888888,
              "#fdca26"
             ],
             [
              1,
              "#f0f921"
             ]
            ],
            "type": "histogram2dcontour"
           }
          ],
          "mesh3d": [
           {
            "colorbar": {
             "outlinewidth": 0,
             "ticks": ""
            },
            "type": "mesh3d"
           }
          ],
          "parcoords": [
           {
            "line": {
             "colorbar": {
              "outlinewidth": 0,
              "ticks": ""
             }
            },
            "type": "parcoords"
           }
          ],
          "pie": [
           {
            "automargin": true,
            "type": "pie"
           }
          ],
          "scatter": [
           {
            "fillpattern": {
             "fillmode": "overlay",
             "size": 10,
             "solidity": 0.2
            },
            "type": "scatter"
           }
          ],
          "scatter3d": [
           {
            "line": {
             "colorbar": {
              "outlinewidth": 0,
              "ticks": ""
             }
            },
            "marker": {
             "colorbar": {
              "outlinewidth": 0,
              "ticks": ""
             }
            },
            "type": "scatter3d"
           }
          ],
          "scattercarpet": [
           {
            "marker": {
             "colorbar": {
              "outlinewidth": 0,
              "ticks": ""
             }
            },
            "type": "scattercarpet"
           }
          ],
          "scattergeo": [
           {
            "marker": {
             "colorbar": {
              "outlinewidth": 0,
              "ticks": ""
             }
            },
            "type": "scattergeo"
           }
          ],
          "scattergl": [
           {
            "marker": {
             "colorbar": {
              "outlinewidth": 0,
              "ticks": ""
             }
            },
            "type": "scattergl"
           }
          ],
          "scattermapbox": [
           {
            "marker": {
             "colorbar": {
              "outlinewidth": 0,
              "ticks": ""
             }
            },
            "type": "scattermapbox"
           }
          ],
          "scatterpolar": [
           {
            "marker": {
             "colorbar": {
              "outlinewidth": 0,
              "ticks": ""
             }
            },
            "type": "scatterpolar"
           }
          ],
          "scatterpolargl": [
           {
            "marker": {
             "colorbar": {
              "outlinewidth": 0,
              "ticks": ""
             }
            },
            "type": "scatterpolargl"
           }
          ],
          "scatterternary": [
           {
            "marker": {
             "colorbar": {
              "outlinewidth": 0,
              "ticks": ""
             }
            },
            "type": "scatterternary"
           }
          ],
          "surface": [
           {
            "colorbar": {
             "outlinewidth": 0,
             "ticks": ""
            },
            "colorscale": [
             [
              0,
              "#0d0887"
             ],
             [
              0.1111111111111111,
              "#46039f"
             ],
             [
              0.2222222222222222,
              "#7201a8"
             ],
             [
              0.3333333333333333,
              "#9c179e"
             ],
             [
              0.4444444444444444,
              "#bd3786"
             ],
             [
              0.5555555555555556,
              "#d8576b"
             ],
             [
              0.6666666666666666,
              "#ed7953"
             ],
             [
              0.7777777777777778,
              "#fb9f3a"
             ],
             [
              0.8888888888888888,
              "#fdca26"
             ],
             [
              1,
              "#f0f921"
             ]
            ],
            "type": "surface"
           }
          ],
          "table": [
           {
            "cells": {
             "fill": {
              "color": "#EBF0F8"
             },
             "line": {
              "color": "white"
             }
            },
            "header": {
             "fill": {
              "color": "#C8D4E3"
             },
             "line": {
              "color": "white"
             }
            },
            "type": "table"
           }
          ]
         },
         "layout": {
          "annotationdefaults": {
           "arrowcolor": "#2a3f5f",
           "arrowhead": 0,
           "arrowwidth": 1
          },
          "autotypenumbers": "strict",
          "coloraxis": {
           "colorbar": {
            "outlinewidth": 0,
            "ticks": ""
           }
          },
          "colorscale": {
           "diverging": [
            [
             0,
             "#8e0152"
            ],
            [
             0.1,
             "#c51b7d"
            ],
            [
             0.2,
             "#de77ae"
            ],
            [
             0.3,
             "#f1b6da"
            ],
            [
             0.4,
             "#fde0ef"
            ],
            [
             0.5,
             "#f7f7f7"
            ],
            [
             0.6,
             "#e6f5d0"
            ],
            [
             0.7,
             "#b8e186"
            ],
            [
             0.8,
             "#7fbc41"
            ],
            [
             0.9,
             "#4d9221"
            ],
            [
             1,
             "#276419"
            ]
           ],
           "sequential": [
            [
             0,
             "#0d0887"
            ],
            [
             0.1111111111111111,
             "#46039f"
            ],
            [
             0.2222222222222222,
             "#7201a8"
            ],
            [
             0.3333333333333333,
             "#9c179e"
            ],
            [
             0.4444444444444444,
             "#bd3786"
            ],
            [
             0.5555555555555556,
             "#d8576b"
            ],
            [
             0.6666666666666666,
             "#ed7953"
            ],
            [
             0.7777777777777778,
             "#fb9f3a"
            ],
            [
             0.8888888888888888,
             "#fdca26"
            ],
            [
             1,
             "#f0f921"
            ]
           ],
           "sequentialminus": [
            [
             0,
             "#0d0887"
            ],
            [
             0.1111111111111111,
             "#46039f"
            ],
            [
             0.2222222222222222,
             "#7201a8"
            ],
            [
             0.3333333333333333,
             "#9c179e"
            ],
            [
             0.4444444444444444,
             "#bd3786"
            ],
            [
             0.5555555555555556,
             "#d8576b"
            ],
            [
             0.6666666666666666,
             "#ed7953"
            ],
            [
             0.7777777777777778,
             "#fb9f3a"
            ],
            [
             0.8888888888888888,
             "#fdca26"
            ],
            [
             1,
             "#f0f921"
            ]
           ]
          },
          "colorway": [
           "#636efa",
           "#EF553B",
           "#00cc96",
           "#ab63fa",
           "#FFA15A",
           "#19d3f3",
           "#FF6692",
           "#B6E880",
           "#FF97FF",
           "#FECB52"
          ],
          "font": {
           "color": "#2a3f5f"
          },
          "geo": {
           "bgcolor": "white",
           "lakecolor": "white",
           "landcolor": "#E5ECF6",
           "showlakes": true,
           "showland": true,
           "subunitcolor": "white"
          },
          "hoverlabel": {
           "align": "left"
          },
          "hovermode": "closest",
          "mapbox": {
           "style": "light"
          },
          "paper_bgcolor": "white",
          "plot_bgcolor": "#E5ECF6",
          "polar": {
           "angularaxis": {
            "gridcolor": "white",
            "linecolor": "white",
            "ticks": ""
           },
           "bgcolor": "#E5ECF6",
           "radialaxis": {
            "gridcolor": "white",
            "linecolor": "white",
            "ticks": ""
           }
          },
          "scene": {
           "xaxis": {
            "backgroundcolor": "#E5ECF6",
            "gridcolor": "white",
            "gridwidth": 2,
            "linecolor": "white",
            "showbackground": true,
            "ticks": "",
            "zerolinecolor": "white"
           },
           "yaxis": {
            "backgroundcolor": "#E5ECF6",
            "gridcolor": "white",
            "gridwidth": 2,
            "linecolor": "white",
            "showbackground": true,
            "ticks": "",
            "zerolinecolor": "white"
           },
           "zaxis": {
            "backgroundcolor": "#E5ECF6",
            "gridcolor": "white",
            "gridwidth": 2,
            "linecolor": "white",
            "showbackground": true,
            "ticks": "",
            "zerolinecolor": "white"
           }
          },
          "shapedefaults": {
           "line": {
            "color": "#2a3f5f"
           }
          },
          "ternary": {
           "aaxis": {
            "gridcolor": "white",
            "linecolor": "white",
            "ticks": ""
           },
           "baxis": {
            "gridcolor": "white",
            "linecolor": "white",
            "ticks": ""
           },
           "bgcolor": "#E5ECF6",
           "caxis": {
            "gridcolor": "white",
            "linecolor": "white",
            "ticks": ""
           }
          },
          "title": {
           "x": 0.05
          },
          "xaxis": {
           "automargin": true,
           "gridcolor": "white",
           "linecolor": "white",
           "ticks": "",
           "title": {
            "standoff": 15
           },
           "zerolinecolor": "white",
           "zerolinewidth": 2
          },
          "yaxis": {
           "automargin": true,
           "gridcolor": "white",
           "linecolor": "white",
           "ticks": "",
           "title": {
            "standoff": 15
           },
           "zerolinecolor": "white",
           "zerolinewidth": 2
          }
         }
        },
        "title": {
         "text": "Optimization Runs with Mean and Confidence Intervals"
        },
        "width": 1500,
        "xaxis": {
         "gridcolor": "rgba(211, 211, 211, 0.8)",
         "gridwidth": 1,
         "linecolor": "rgba(150, 150, 150, 0.8)",
         "linewidth": 1,
         "showgrid": true,
         "showline": true,
         "tickfont": {
          "color": "black",
          "size": 12
         },
         "ticks": "outside",
         "title": {
          "text": "Iteration"
         }
        },
        "yaxis": {
         "gridcolor": "rgba(211, 211, 211, 0.8)",
         "gridwidth": 1,
         "linecolor": "rgba(150, 150, 150, 0.8)",
         "linewidth": 1,
         "showgrid": true,
         "showline": true,
         "tickfont": {
          "color": "black",
          "size": 12
         },
         "ticks": "outside",
         "title": {
          "text": "Loss"
         }
        }
       }
      }
     },
     "metadata": {},
     "output_type": "display_data"
    }
   ],
   "source": [
    "base_color = 'rgba(30, 136, 229,'  # RGB for blue, with variable opacity\n",
    "\n",
    "fig = go.Figure()\n",
    "for i in range(num_runs):\n",
    "    fig.add_trace(go.Scatter(\n",
    "        x=np.arange(n_iter_comparison),\n",
    "        y=results_single[:, i],\n",
    "        mode='lines',\n",
    "        name=f'Run {i+1}',\n",
    "        line=dict(color=f'{base_color} {0.2 + (i / num_runs) * 0.5})')  # varying opacity\n",
    "    ))\n",
    "\n",
    "fig.add_trace(go.Scatter(\n",
    "    x=np.arange(n_iter_comparison),\n",
    "    y=mean_single,\n",
    "    mode='lines',\n",
    "    name='Mean Loss',\n",
    "    line=dict(color='black', dash='dash')\n",
    "))\n",
    "\n",
    "fig.add_trace(go.Scatter(\n",
    "    x=np.concatenate((np.arange(n_iter_comparison), np.arange(n_iter_comparison)[::-1])),\n",
    "    y=np.concatenate((mean_single + confidence_interval, (mean_single - confidence_interval)[::-1])),\n",
    "    fill='toself',\n",
    "    fillcolor='rgba(200, 200, 200, 0.3)',\n",
    "    line=dict(color='rgba(255,255,255,0)'),\n",
    "    showlegend=False,\n",
    "    name='Confidence Interval'\n",
    "))\n",
    "\n",
    "fig.update_layout(\n",
    "    title=\"Optimization Runs with Mean and Confidence Intervals\",\n",
    "    xaxis=dict(\n",
    "        title=\"Iteration\",\n",
    "        showline=True,\n",
    "        showgrid=True,\n",
    "        gridcolor='rgba(211, 211, 211, 0.8)',  \n",
    "        linecolor='rgba(150, 150, 150, 0.8)',  \n",
    "        linewidth=1,\n",
    "        ticks='outside',\n",
    "        tickfont=dict(\n",
    "            size=12,\n",
    "            color='black'\n",
    "        ),\n",
    "        gridwidth=1,\n",
    "    ),\n",
    "    yaxis=dict(\n",
    "        title=\"Loss\",\n",
    "        showline=True,\n",
    "        showgrid=True,\n",
    "        gridcolor='rgba(211, 211, 211, 0.8)',  \n",
    "        linecolor='rgba(150, 150, 150, 0.8)',  \n",
    "        linewidth=1,\n",
    "        ticks='outside',\n",
    "        tickfont=dict(\n",
    "            size=12,\n",
    "            color='black'\n",
    "        ),\n",
    "        gridwidth=1,\n",
    "    ),\n",
    "    plot_bgcolor='white',\n",
    "    width=1500,\n",
    "    height=650,\n",
    "    legend_title_text='Runs',\n",
    "    legend_font_size=12,\n",
    "    margin=dict(l=100, r=100, t=100, b=100),  \n",
    ")\n",
    "fig.show()"
   ]
  },
  {
   "cell_type": "markdown",
   "metadata": {},
   "source": [
    "\n",
    "\n",
    "\n",
    "\n",
    "\n",
    "\n",
    "\n",
    "\n",
    "\n",
    "\n",
    "\n",
    "\n",
    "\n",
    "\n",
    "\n",
    "\n",
    "\n",
    "\n",
    "\n",
    "\n",
    "\n",
    "\n",
    "\n",
    "\n",
    "\n",
    "\n",
    "\n",
    "\n",
    "\n",
    "\n",
    "\n",
    "\n",
    "\n",
    "\n",
    "\n",
    "\n",
    "\n",
    "\n",
    "\n",
    "\n",
    "\n",
    "\n",
    "\n",
    "\n",
    "\n",
    "\n",
    "\n",
    "\n",
    "\n",
    "\n",
    "\n",
    "\n",
    "\n",
    "\n",
    "\n",
    "\n",
    "\n",
    "\n",
    "\n",
    "\n",
    "\n",
    "\n",
    "\n",
    "\n",
    "\n",
    "\n",
    "\n",
    "\n",
    "\n",
    "\n",
    "\n",
    "\n",
    "\n",
    "\n",
    "\n",
    "\n",
    "\n",
    "\n",
    "\n",
    "\n",
    "\n",
    "\n",
    "\n",
    "\n",
    "\n",
    "\n",
    "\n",
    "\n",
    "\n",
    "\n",
    "\n",
    "\n",
    "\n",
    "\n",
    "\n",
    "\n",
    "\n",
    "\n",
    "\n",
    "\n",
    "\n",
    "\n",
    "\n",
    "\n",
    "\n",
    "\n",
    "\n",
    "\n",
    "\n",
    "\n",
    "## <strong> 4 | Benchmarking against Karnachos </strong>"
   ]
  },
  {
   "cell_type": "markdown",
   "metadata": {},
   "source": [
    "### <strong> 4.1 | Final Trusses & Basic statistics </strong>"
   ]
  },
  {
   "cell_type": "code",
   "execution_count": 81,
   "metadata": {},
   "outputs": [
    {
     "data": {
      "application/vnd.jupyter.widget-view+json": {
       "model_id": "5fc51f8ec45346a393b958afba31a560",
       "version_major": 2,
       "version_minor": 0
      },
      "image/png": "[encoded data removed]",
      "text/html": [
       "\n",
       "            <div style=\"display: inline-block;\">\n",
       "                <div class=\"jupyter-widgets widget-label\" style=\"text-align: center;\">\n",
       "                    Figure\n",
       "                </div>\n",
       "                <img src='data:image/png;base64,iVBORw0KGgoAAAANSUhEUgAAAoAAAAHgCAYAAAA10dzkAAAAOXRFWHRTb2Z0d2FyZQBNYXRwbG90bGliIHZlcnNpb24zLjguMiwgaHR0cHM6Ly9tYXRwbG90bGliLm9yZy8g+/7EAAAACXBIWXMAAA9hAAAPYQGoP6dpAABeBklEQVR4nO3dd3RUZeLG8WdSCQmd0Lt0g2sDdPlhAVnr0hUFAQEBpYlI6CCgdBSliChNUVlFBRF1XYXFdV0RsLAEEJAqxRAChIT0ZH5/cO7sJJmZTJJp4X4/5+QQ7p25804yufe5b7VYrVarAAAAYBpB/i4AAAAAfIsACAAAYDIEQAAAAJMhAAIAAJgMARAAAMBkCIAAAAAmQwAEAAAwGQIgAACAyRAAAQAATIYACAAAYDIEQAAAAJMhAAIAAJgMARAAAMBkCIAAAAAmQwAEAAAwGQIgAACAyRAAAQAATIYACAAAYDIEQAAAAJMhAAIAAJgMARAAAMBkCIAAAAAmQwAEAAAwGQIgAACAyRAAAQAATIYACAAAYDIEQAAAAJMhAAIAAJgMARAAAMBkCIAAAAAmQwAEAAAwGQIgAACAyRAAAQAATIYACAAAYDIEQAAAAJMhAAIAAJgMARAAAMBkCIAAAAAmQwAEAAAwGQIgAACAyRAAAQAATIYACAAAYDIEQAAAAJMhAAIAAJgMARAAAMBkCIAAAAAmQwAEAAAwGQIgAACAyRAAAQAATIYACAAAYDIEQAAAAJMhAAIAAJgMARAAAMBkCIAAAAAmQwAEAAAwGQIgAACAyRAAAQAATIYACAAAYDIEQAAAAJMhAAIAAJgMARAAAMBkCIAAAAAmQwAEAAAwGQIgAACAyRAAAQAATIYACAAAYDIEQAAAAJMhAAIAAJgMARAAAMBkCIAAAAAmQwAEAAAwGQIgAACAyRAAAQAATIYACAAAYDIEQAAAAJMhAAIAAJgMARAAAMBkCIAAAAAmQwAEAAAwGQIgAACAyRAAAQAATIYACAAAYDIEQAAAAJMhAAIAAJgMARAAAMBkCIAAAAAmQwAEAAAwGQIgAACAyRAAAQAATIYACAAAYDIEQAAAAJMhAAIAAJgMARAAAMBkCIAAAAAmQwAEAAAwGQIgAACAyRAAAQAATIYACAAAYDIEQAAAAJMhAAIAAJgMARAAAMBkCIAAAAAmQwAEAAAwGQIgAACAyRAAAQAATIYACAAAYDIEQAAAAJMhAAIAAJgMARAAAMBkCIAAAAAmQwAEAAAwGQIgAACAyRAAAQAATIYACAAAYDIEQAAAAJMhAAIAAJgMARAAAMBkCIAAAAAmQwAEAAAwGQIgAACAyRAAAQAATIYACAAAYDIEQAAAAJMhAAIAAJgMARAAAMBkCIAAAAAmQwAEAAAwGQIgAACAyRAAAQAATIYACAAAYDIEQAAAAJMhAAIAAJgMARAAAMBkCIAAAAAmQwAEAAAwGQIgAACAyRAAAQAATIYACAAAYDIEQAAAAJMhAAIAAJgMARAAAMBkCIAAAAAmQwAEAAAwGQIgAACAyRAAAQAATIYACAAAYDIEQAAAAJMhAAIAAJgMARAAAMBkCIAAAAAmQwAEAAAwGQIgAACAyRAAAQAATIYACAAAYDIEQAAAAJMhAAIAAJgMARAAAMBkCIAAAAAmQwAEAAAwGQIgAACAyRAAAQAATIYACAAAYDIEQAAAAJMhAAIAAJgMARAAAMBkCIAAAAAmQwAEAAAwGQIgAACAyRAAAQAATIYACAAAYDIEQAAAAJMhAAIAAJgMARAAAMBkCIAAAAAmQwAEAAAwGQIgAACAyRAAAQAATIYACAAAYDIEQAAAAJMhAAIAAJgMARAAAMBkCIAAAAAmQwAEAAAwGQIgAACAyRAAAQAATIYACAAAYDIEQAAAAJMhAAIAAJgMARCA6XTt2lVBQUGyWCwKCgpS165d/V0kAPApi9Vqtfq7EADgK127dtUnn3xSYHuXLl20adMm3xcIAPyAAAjgmpeVlaXExEQlJiYqJibG4WMsFosuX76syMhIWSwWH5cQAHwrxN8FAICiyMzMtIW58+fP6/z587bvjX8vXbokSTLub0NDQ1WlShVVrVrV6XGtVquGDBmilJSUPNvLlClje27VqlUdfh8VFUVoBFCqUAMIoMjatGmjXbt22f7funVr7dy5s8jHycjIKDTMJSUlSfpfmAsLC3MYwuy3lS9fXkFBjrs4BwUFydFpz2KxKDc3t8D2tLQ0p2U0vr98+bLtGJIUHh7uNCwa/5YrV67YodFTP38A5kUABFAk+cOH4ZZbbtEnn3ziMswZQck47YSHh7sV5jxZu+asD2DXrl21ceNGj7xGenp6gfee//vk5OQ8zwkLC3P5c6hSpYrKly+vtm3bOvz5EwIBFAUBEIBbkpOT9euvv6pNmzZOHzN06FCnNV8lrfXyJPsQaLFY1KVLF4+Fv+IyakOd1TIaAfrTTz91eozc3NyA+PkCCHwEQAB5nD9/XgcOHNCBAwe0f/9+HTt2TLm5uYqMjFTz5s01Y8YMp88tTaeT/v3769VXX1XFihX9XZQicRXwHnzwQUlS1apV1aJFC7Vo0UItW7ZUw4YNFRwc7KsiAigFCICACVmtVp0+fdoW8g4cOKDTp0/LarWqSpUqatmypS1ANGzYUCEh/xsv5iqAlKbTybUYAI2fvxHijd/tsWPHlJOTo6ioKNvvtUWLFmratKnCw8N9VXQAAYRRwMA1LCcnR8eOHbMFgQMHDuj8+fOyWCyqXbu2LQj06NFDtWvXdqv5sHXr1g77oLlqGoZnWK1WVaxY0TbK2Z79z79q1apq37692rdvn+cxRjP+/v379e677+rw4cPKyMhQWFiYmjZtagv+zZs3V7ly5bz9dgD4ETWAwDUgIyNDhw4dsoW8AwcOKCUlRcHBwWrYsKGtKbBFixYup0JxV/6BIBUqVNDFixdLVf+z0lgDuGnTJv3888/64osv8vz827Rpox9++KHYx01PT9fhw4dttYa//vqrUlJSFBQUpEaNGnn88wPA/wiAgB8UdxoPowbHuFAfPnxYmZmZCgsLU5MmTXxag/P+++8rOztbffr00YIFC1SzZk09/vjjXn1NTyptATAlJUWdO3fW559/rjJlyqhz587avHmzV18zOztbx44dy9MnNDExUZJUp06dPP0M3a1BZgobIDDQBAz4mKNpVHbt2qU2bdrYLoTO+nCVK1dOzZs3V4sWLdSnTx81adJEZcqU8cfbUEhIiNLS0iRJo0eP1v33368HH3xQlSpV8kt5rnXTp0/XhAkTfPr7DgkJUZMmTdSkSRN17tzZtt1qterUqVO2YPjxxx/r1KlTklSgD2mjRo1sA1Dc+ewD8A0CIOBjjvrPGdsfeughSXlHcXbs2DEgR3GGhoYqOzvb9v2MGTM0adIkLV++3M8lu/bs2bNH8fHx+stf/uLvoki6OhClbt26qlu3boEyJSQk2ILhtm3bdPToUdvNi6vPPgDfIgACPnT69GmX+z/99NNS048uJCTEFgAlqV27dnrrrbf0/fff6/bbb/djyQoXFxenS5cuaf/+/SpfvrwkOV0j2N9yc3M1YcIErV692t9FcUt0dLSio6N1xx135NmenJys999/3+nzcnJyAu4mB7iWEQABL0pMTNT27du1bds2HTlyRLVq1XL5+NIS/qSrATArKyvPtjlz5ujRRx/VF198kWfqmEASFxfndHsghsCVK1fqoYceUs2aNW3bSmPX7cL6pHbu3FkRERG644471LFjR7Vs2bJU/T0ApU1gnqGBUio5OVnffvuttm3bpn379qly5cq6++679dxzz6lhw4ayWCyKi4u7JqZRsW8CNlSpUkV9+/bV4sWLNWbMGD+V7Npx7tw5ffTRR/r888/zbM/NzS2VtWW33nqrdu/eXWB7mzZt9Nlnn9n+ftasWZPn76dDhw62vx8AnkEABEogPT1d33//vbZt26affvrJVoMxYMAApzUYO3fuLNAZvly5cgUu8oEufxOwoW/fvurcubMefvhh1a1b1+vliI+P16VLlwrURhaHs9pBe+Hh4apYsaKio6NL/HqFGT9+vGbPnl0g7GVnZwdsDasrHTt21MWLF3XkyBHbNvspbMqVK6cHHnhADzzwgKSrg6G++eYbLVy4UEePHlXt2rXVoUMH3X333YXWpgNwrfSdQQA/ys7O1u7du7Vt2zbt2LFDFotFf/7zn9WlSxdNnz7d7VoZY8SjMZXHrl27NGrUKL3zzjulppbjxIkTOnXqVJ7QFBMTI4vFovnz5ys2NlZ/+9vfinTM+Ph4paSk2EYXe0p0dLSqV68uyXXIi4mJUUJCguLj450+JiMjQ/Hx8S4fk19kZKSioqKKFBr/+c9/qnz58rrlllvybI+Li1NqaqquXLliey+B2HSd37fffquEhAT99ttvWrduncLDw/XII4+4fE7VqlXVo0cP9ejRQ9LVPrTbtm3T5MmTdfbsWTVu3FgdOnTQXXfdpcqVK/vibQDXDAIg4EJubq727t2rbdu26d///rcyMjJ06623qmPHjnruuec8toxW69at1axZM7333nvq06ePR47pTXFxcQ6bgI1+dC1atFDjxo21atUqtW3b1qOvXalSJdWuXdujx7RnDGIoirNnz9rmx3PkypUrunLlituhMTMzU1OmTNEXX3yRZ7sR+LKzs/PcbARq/0XD5cuX9fzzz2vTpk2SpLS0tGLNv1i7dm317dtXffv2ldVq1dGjR7V161aNGDFCFy9eVExMjDp06KD27dsrKirKs28CuMYQAAE7VqtVhw8f1rZt27R9+3ZdvnxZrVq1UocOHTRkyBBFRkZ67bUnTZqkhx56SHfccYdPmk6L68SJE5Kk4OBg5eTkFNhvhJSuXbtqxIgRatWqlcqWLevwWJGRkWrYsKH3CutATEyMw1rAkgSomjVr5hmk4Y4TJ04oOTnZ4b41a9aoe/fuOnnypMP9OTk5paoJeMyYMZo+fbptxHVaWpoiIiJKdEyLxaLrrrtO1113nYYMGSKr1aq4uDht27ZNq1atUlpamm655RZ16NBBt99+O2seA/mUnjMI4CW///67tm3bpm3btuncuXNq0qSJOnTooOXLl/t0UuOQkBAtXrxYw4cP16ZNmxQUFOSz1zacPn1aFy9edOuxwcHBDvsA2gep6dOn6+OPP9bcuXM9VkZPsC+jv2rO6tev73D7b7/9ptOnT2vx4sV5ugPYN007mjLFVdN2mTJlVKlSJVWpUsUDJS+aTZs2qUqVKnmmhUlPT/f4hNYWi0WtWrVSq1at9Mwzzyg7O1s//fSTtm3bpkWLFkmSbrvtNnXs2FE333xzqQrQgDfwFwDTSUhI0D//+U9t27ZNJ06cUJ06ddShQwfNmzdPNWrU8GvZmjZtqgceeECLFy/W6NGjPX78ogQ8e2FhYWratKnt/3FxcQoJCXFYA2jvvvvu07p16wK+iTJQWK1WxcbGauHChQX6gkZHR9sCoKNBIMbP9+TJk7p8+XKefenp6Tp79qzOnj3r8HUtFotq1Kjh8YAYHx+vpUuX6rPPPsuz3RM1gIUJCQlRmzZtbKPrMzIytGPHDn322WeaMWOGypQpo/bt26tjx466/vrr/XLDBfgTARCllrtril6+fFnffPONtm3bpgMHDig6Olp33323JkyYoAYNGviwxI7lr7lp166dpk+frk6dOun6668v0rEOHz6sjIyMIpehOP3qnI0Czm/+/PkaMmSIPv30Uy6yhdiwYYNuvfVWXXfddS4f52oUcL169Vw+NzExsUAQtFqtLgOiJFWoUKFIXROsVquGDx+ul19+WeHh4Xk+57///rtOnTpVYICLN4WHh+vOO+/UnXfeKenq2sr//ve/9fbbbysuLk4VK1a0TTlz3XXXORyMxTrGuJYQAFEquVpT9JtvvtF3332nbdu26ZdfflG5cuV0xx13aMiQIWrevHlAjbJNTk6W1WrNUyaLxaIRI0bo2Wef1ZYtWxQWFiap+LV3kucHTsTExOjMmTNuBcDatWvr3nvv1dq1azVw4ECPleFak5SUpBUrVjidDsg+QOVvAi5K7WqVKlVc1vQlJibqwoULBW4kkpKSlJSU5PR5oaGhqlq1qu3YK1eu1G233aYbbrihwE1ORkaGwsLC/FozHBUVpfvuu0/33XefJOnChQv65ptv9Morr+i3335TzZo11aFDB3Xo0EG1a9dmHWNccwiAKJVcrSnau3dvtWvXTj179tQLL7wQ0BPmhoaGKjMzs0AH9ejoaN1///0aPny4nnnmGZfHKFu2rBo1auTNYjoUExOjChUq2L531Qdt2LBheuCBB/TXv/7VJ/PnlUZTp07V1KlTCx2sEBMToyNHjqhGjRpeCU+FBURJOnPmjC5cuJBnW1ZWlq0W8eTJk3rnnXe0ePFih58Lb/QBLKnKlSurW7du6tatm6SrI7u3bdumadOm6fTp06xjjGsOARDXnI0bN/q7CC7Z99EqU6aM0tPTHV70O3XqpH/96186fPiw7aIUSPI3ARsh0FGtTkhIiGbNmqUJEyZo1apVvi5qwNu9e7dSUlJ01113Odyff76/7OxshYaG+qp4BdSqVcvpRMzZ2dkaPXq0pkyZ4vTmy/6mJy4uTnXq1CnWtDDeVLNmTfXp08c2LVMgtRwAnkAARKlz9OhRfxfBLY464+cXHh6uzMxMh/tiYmK0du1adevWTffcc0+ha6n6mqO1gA1nz54tMC1K69at9fbbb+ubb76x9cPC1ebcyZMna926dQ73//HHH5LyBpBAngZm3rx56tevnzp16mTblr8WMP9Nz6lTp3Tq1Kk8jwkODlbNmjUDLhg6kpubS/9WlDqBeQYBHNi3b5/mz5+vnJwcXX/99dq3b1+Bx/hrPV13lhCTCvbVCg8PV3p6utPHV6hQQc8//7yee+45vfHGGyUqo6c5mgjaqAVMTEx0OC/eiy++qO7du+uLL76w9W00u+XLl+vhhx9WtWrVHO4/f/68JOUZEBSoS8H99NNPiouL06RJk1w+Lisry/b7t/+bOHr0qFJTUyVdDbmOgqG/ujy0atVKe/fuLbC9bt26+stf/qIBAwaoV69eAfl7ARzhk4qAt2vXLi1YsEDly5fX5MmTbdOR5O+UXa1aNY0fP96rZTl06JDTGjt75cuXL3Q0piTVqVPH4ahd+4vinXfeqS1btmjz5s3q3Llz0QrsRc5GAVepUkWJiYkOm4IrVKigwYMH66WXXtLEiRN9VdSAdebMGX3++efasmWLw/3GTU7VqlXzbM/JyfFrE7AjaWlpio2N1fvvv19oc6kx8Cn/58NRsLt06ZLOnj1rm3IoNTXV4Q1X1apVvTaNU3JysqKjo/WnP/1Je/bssW031jFOS0vTmjVrdO+996pXr17q378/E08j4BEAEZCsVqttRF79+vW1cOHCAoEq/3q6WVlZ6tatm5o0aaJWrVqV6PXdab6V3A96zkREROSZWsPoE7hv3748NT4vvviiHnzwQd12221Oa4p8zVkTcM2aNV0ui9arVy9169ZNR48e9UtNTiAZN26c5s2b57T50Gq1SlKBYBOINYATJ07Uc889VyCsHjt2TNLVQRbGwJHy5cu7PYClYsWKDpuBL126lKd28Pz587baUnsl7V+Ym5urQYMGaebMmWrXrp3mzp2rO++8U7fffrvtMRERERo2bJgGDx6s9957Tw888IAefPBBDRkyhCXpELAC6wwC07Narfrss8+0bNky3XzzzXrjjTfcDjyhoaFas2aNevXqpQ0bNrg1qa27QS8oKEgtW7Z0qxxFUaZMGaWlpdlqCxo3bqy4uDjbhd8QHh6ul19+WSNGjHCrhsUXXM0D6GpAiMVi0YIFCxQbG6sPP/wwIN6LP/z9739XrVq1nN6s5B/4YS/QAuDXX3+tzMxMPfDAAwX2XblyRdLVgSNGAMz/+S4OZ8Hw1KlTunTpUp7/529GDg0NVfXq1d0KhjNmzFCnTp3Url07SVfnD3S2JGRoaKj69++vxx9/XJs2bVL37t31f//3fxo5cqRPVxUC3BE4ZxCYWk5OjjZs2KCVK1eqQ4cOWr9+fZHu2vfu3WsLEk8//bR69uypr776Ks9Fsrj99LwpIiKiQB9AZ+HphhtuUOvWrbV69WoNGjTIZ2V0xt3g5mhASJMmTfSnP/1JH3/8sXr06OGN4gW0tLQ0zZ8/X59++qnD/cbAD2cCqQn44sWLmj17tsP34irEekudOnVUp06dAtvtJ0nPyspyGAzz1+h//PHHSkxM1MMPP2x7LydOnNDp06d1ww03OC1DcHCwevTooe7du+sf//iH+vbtq+uvv17PPvus31cbAgwEQPhVZmam1q1bp/fee09dunTR5s2bVbZs2SIfIyMjwzavWIsWLfTggw9qwIABLvsElrT51hMiIiKUlpbmdP/x48fzrFYyZswYde7cWXfddVehq0X4W2EDQsaPH68HHnhAf/nLXwJuhLO3zZ49W6NHj3Zak2Q0ZToLToEUAJ955hnNmTOnwHs5d+6cJDlc8s0ftb5NmjQpsC1/M/Lly5dtQe/QoUN69dVX9corr+R5jrGMnTuTWFssFt17772699579e2332rYsGGqVauWYmNjna4FDfgKARB+kZqaqpUrV+qTTz5R7969SzQqNCIiQqmpqXkmlr3vvvt08OBBbdq0Sb179w7YvmZGE3B+RnhKSUnJsz04OFjLli3T008/rS1btgT0JNfS/waE7N+/v0ATenh4uCZPnqxp06Zp0aJFfiqh7/366686ePCgXnjhBYf7Dxw4IKngwA972dnZXl9L1x1/+9vf1LBhQ7Vt27bAPiMABvKNirNm5EOHDmnevHlasGBBgaCdmppa5JtUSWrfvr3at2+vn3/+WRMnTlSZMmUUGxurFi1aFLf4QIkwcRF86tKlS5o9e7a6dOmi6tWr6x//+IcGDRpUrPBnNJOWLVvWYYgaMWKEfvnlFyUkJHii6F7hqAnYYFyY8jddN2jQQL169dL8+fO9XbwSM2r+cnNzHe7v0KGDLl68qJ9//tmXxfIbq9Wq2NhYLVy40OljjNGurpoKA6EP4OnTp7VmzRpNmTKlwD7jM+tssuhAlp2drbFjx2rFihW64447Cuy3X8WksKZ6R2666Sa99957GjdunBYuXKjHHntMP/74Y4nLDRQVARA+ce7cOU2ePFmPPfaYbrjhBv3jH/9Qr169ilyDdezYMVvwMzhrRg0ODtaqVas0adIknTlzpsTvwRuc1QBKytOPKX9fpf79+2vPnj2lIjgZzWTO+mDOmzdPEydOtAWfa9k777yjO++802nXA3f7zPm7CTg3N1fDhg3Tq6++WqAcxkCPoKAgVa5c2eHzPTEIxFtiY2PVp08f3XjjjQ73W61W26jt8+fP285HycnJRXqd5s2ba9WqVZo7d65twvdvv/22pMUH3EYAhFf9/vvveuaZZzRkyBB16tRJn3/+uR566KEi9wEyTrLGiELp6kUyJiZGZcuWtU0em1+FChX02muvaeDAgS4nXPaXwvoAGkHAflSjdLVv0ZIlSxQbGxuQ78uZs2fPFthWvXp1devWLeAmuva0Cxcu6K233nK6tnNRapP8vRLIsmXL1KlTJzVv3rzAPuNmy9mo+UBeNWPt2rWKiIhQr169JF2dJcCVmJgY2+/hxIkTiouL08GDB4v0mvXr19eSJUv0+uuv67PPPtODDz6oL774IqBDMq4NgflXiFLv0KFDevLJJxUbG2ubEuGuu+4qUvAzQp99zVFkZKQt+BkaNWrkMkQ1a9ZMo0aN0ogRIwLupOqqCdjgrCk4Ojpazz77bKGrLgQC4/flbH7AwYMHa/PmzcVqUistJk2apJkzZzqtuSts4Ic9fzYBHzhwQFu3btWwYcMK7DMmrnbV9Gs/YCuQ/PDDD9qyZUuevpmupogyfk/NmzdXTEyMbVBHVlaW7bxVlM9z9erVNXfuXL3zzjv68ccfdd999+nDDz80Rc04/IMACI/as2ePHn/8cc2ePVvPPvus/va3v6l169ZuP99RE6/0v9q+hg0bFnhOVFSUoqOjbSdk+4BoHOeBBx5QkyZNtGTJkuK+Na9w1QRscNUU/OCDDyotLU1bt271Svk8yZiX8ddffy2wLygoSHPnzvX6Si7+8p///EdWq1V//vOfHe43ao1cDfywl52d7Zcm4MzMTD3zzDNatmxZgVq8Cxcu2G6wnDX9SlcDYCAMYLF35swZTZo0SatWrbJ1S7Fvjrc/t5QrV85hSDe2x8TE2Ob8K04TcaVKlTRlyhR9/PHHOnXqlO69916tXbvW6brbQHERAOER33//vXr27KnXX39dM2fO1Nq1a/OsZFEYV028hdWIREZG5nmewZhaxDiRjxs3Trt27QqosFRYE7DBWVOwJC1YsECzZs1yuC+QGANCnE0e/ac//UlVq1bV119/7ctieV1WVpamTZumOXPmuHyM5Hrghz1/NQG/8MILevLJJ1W7du0C+4ym38L+XgOtBjA9PV0DBw7Ua6+9pgoVKkj6X02m/So9RVG7dm3buau4TcSRkZEaPXq0PvvsM2VlZem+++7T0qVL3TpfAO4gAKLYrFarvvrqK/31r3/VRx99pMWLF2v58uVuT7nibhNvYaKiogpMlyIpzzxbJ06ckMVi0YoVKzRv3jwdPXrU7eN7kztNwAbj4pS/djQqKkqzZs1y2rcskBQ2IGT69OmaM2dOqerXWJjFixerX79+TmvFijNZsj+agL///nudPHlSjzzySIF9hw4dkiSH8z3mF0g1gFarVSNGjNCoUaPUrFkzSVJSUpKsVquCg4Ntf3MlUdIm4vDwcA0ePFhffvmlqlSpos6dO2vevHlurWAEuEIARJHl5uZq06ZNuv/++/Xdd99p7dq1WrhwoVtTPhSnibcwzmoAjeNKsjW/lC1bVitXrtSQIUMchkZfc6cJ2OCqNuL2229XvXr19P7773uqaG4pSZ9KRwNCypUrpxEjRmju3LklKVbAOHnypP75z3+qb9++DvcXt8+jr0cBp6SkaMqUKXr11Vcd7s/MzJQkt5ZfDKQAuGTJEjVp0iTPEna///67JDmcny8nJ6fYA1hK2kQcEhKixx57TF9++aVatGihRx55RFOnTnW4/jHgDgIg3Jadna133nlHf/nLX3T48GFt2LBB06dPd+ukX5Im3sI4qwG0fx2jDJJUr149TZs2TYMHD3Y6P52vuNsEbHBVgzZt2jStWrVKp0+f9lj5vKGwASFdu3ZVXFycrVapNIuNjdWCBQucDn4qysAPe76uAYyNjdXkyZMdTppc1BrMQGkC3rp1q3bt2qVx48bZthX2XlJTU52u3lIU9k3ERp9Dd5uIg4KC1LlzZ33xxRe6++67NWjQII0ZMybg/+4ReAiAKFR6erpef/11/eUvf1FycrK2bNmi2NjYQpfv8lQTb2Fc1QAajAuwUZY77rhDd955p2bNmuWxchRHUZqADcaFP/+FIjQ0VK+++qpPRzsXd0kvo2ntt99+c3jMhQsXauzYsQE3arsoNm/erCZNmjhd6cF470VZ89rgywD42WefKSIiQh06dCiwz6gtK1++vNvHS09P93sN4NGjRzVv3jytWLHC9hk+cuSIJNcDWK5cuaKoqCiPlqVFixbFaiK2WCzq0KGDPvnkEz3yyCMaPXq0hg4d6vBvCnCEAAi1adNGFovF9tWmTRtJV5t9XnrpJT300EOKjIzUl19+qaefftrl3bs3mngLExkZWWhzrv2AlBMnTkiSnnrqKZ05c0affPKJx8vkrtDQUFvzmbuMudccjQps0aKFOnTooNdee80j5StMcQOa0ZztLPw2aNBA7dq10/r164tdNn+6cuWKXnnlFU2ePNnpY4z3bj/K212+agJOSEjQyy+/7PRGKSkpSZKKtKZ2ZmamX2sAU1JSNGTIEK1cudK2pFtSUpKtJt5VV5aUlBSP1AA6UpIm4ttuu00bNmzQiBEjNHPmTPXr10979+617Xd2joe5sRawybVp00a7du3Ks23Xrl22JoqhQ4fqH//4R6H9Xhw1SXqyls+VqKioQmsApf+tr2t/In311VfVrVs3NW7cuEijlj2luDVoxntxtCD98OHD1b17d3Xs2NHhRL2BwtV7kKQxY8bo/vvv1/3332+7IJYWM2fO1Lhx45zWdBVn4Ic9X9QAGgMkFi5c6PB9FPc9pKenF2stXU/Izc3V4MGDNW3atDyh1ajJLOy9XLlyxWsB0F7t2rVtI60PHDignJwc241rWFiYmjZt6vB5rVq10ttvv63ffvtNCxYs0IULF7Rv3z7b+tKGXbt2qU2bNtq5c6d33wgCGgHQ5PKHP8OZM2d06tQplwHFUeiLjIz0Si2fK+7UABrKlSun5ORkW+gICwvT6tWr9dhjj+nDDz902fwTqE6dOpWnFikoKEjLli3TwIEDtWXLFq/WFBU3wOZ39uzZAiNIQ0ND9fzzz2vKlClatmyZR17HF/bu3avTp0/rvvvuc7jfE5Nd+yIAvvXWW7rxxht10003FdhnLPdWnDW8MzIy3Oo37A2zZs3SnXfemWeNX+M85s6ULykpKR5vAi6M0YUgOTlZJ06cUGZmpq3M0dHRql69eoHnNG7cWCtWrNDp06ed1jA7O/fDPGgChlOOLu7+aOItTJkyZdzuR2c/NYwxyKB69epasGCBBg4c6HSOukDkam7A2rVra8CAAXrxxRd9XKqiKWxASPv27ZWZmakffvjBl8UqttzcXI0fP17z5893+pjiDvyw5+0m4OPHj+uDDz7IM0DCnjHnn7OaKFf8NQjkk08+0ZkzZ/TUU0/ZtsXHx0u6GmTdmfLFVzWAjjhqIk5ISHDZROxovkbAQACEU/ZBz5ujeEuqqLVQRnnt+97dcssteuSRRzRhwgSPls3bnC0TJ0mPPvqojh07ph07dni1DCUdqGFcUI8dO+Zw/5w5czR16tRSEc7XrFmj+++/32k/suPHj0tSiWuRvDkRdE5OjkaMGKGlS5faRqjaMz5r7kz75Ig/poHZt2+fVqxYUWAam4SEBEnuB1l/1AA64moUsf3oeWfzbQISAdD0HDXvSFdrxYwLu7dH8fqDo+lUevfureDgYK1bt85fxSoyV8vESVf7OE6aNMmtPpLFERISUuK1So1aY2dlrFq1qnr37q2lS5eW6HW8LSEhQR988IHDNXINRleFBg0alOi1vNkE/PLLL6tbt24OJ3Q3mn4l16NlXfF1ALxw4YJGjhypNWvW5GmyLk4fRn/WADqTfxSx0UQcFxenY8eOOe1vyUAQEABNLCsrS3Xr1i0wTUWrVq302GOPafbs2baLuz+beL3FuAjZh8DZs2dr48aNpap/jKum4EqVKmnSpElOm/JKyhMBUPrfBMLOaiz69++vr7/+2mHIDRQTJkzQrFmzHNaaSf97b+6u9+uKt9YC3rNnj3bu3KmBAwc63O/ucm+u+LIJODs7WwMHDtSCBQvy9JUzplByZ+USe4FSA+hI/ibiX375RbNnz9aWLVsK/L4qVKgQcOuiw/cIgCZltVo1bNgwPfHEE9q/f7+sVqs6deqk3bt367333tOgQYP0pz/9SePGjbtm15687rrrbN8bI+yCg4O1evVqjR8/3uFKFYHKVVPwPffco9DQUH3xxRcef92QkBCPNM0WdiG2WCyaP3++YmNjS/xa3vDNN9+obNmyuvXWWwt9rLvr/brijSbg9PR0Pffcc1q6dKnDbhX79++XVPymX/vX8VUN4IQJE/TII4/olltusW1LSkqyTaFU1MEogVgD6MgPP/ygNWvW6JVXXlF0dLTWr1+vnj17auvWrdq7d6+OHz+uiRMnOu12AXMgAJrUiy++qOuvv17dunWzbStbtqxSU1Nt/3/ooYf0yCOP6Nlnn7X1lbnW5F8qTroapoxRtBkZGf4qWpEUNpfcnDlztHDhQo8vGxUaGuqxvnmFrRPcsmVLNWzYUJ999plHXs9TMjMzNXPmTJcDbko67Ut+3giAU6dO1ciRIx2OKpVkWzWnpCPlMzMzfRIA161bp+DgYPXu3TvPdnenfHGkNATAJUuW6PPPP9fChQvzlNW+7BUrVtSaNWv05JNP5mnWh7kQAE1o3bp1SkxM1OjRo23b4uLiHK6o0bZtW40ZM0a9evWyzZR/rTFWNLEPHi1atNCwYcM0atQor69GERQU5JFmVFcBKiIiQgsWLNDIkSM9+n481QRsMJoGjYt0flOmTNFLL72U50bF3xYuXKghQ4Y4HUVqNFt7MvR4ug/gN998o6SkJHXp0sXhfk8G2PT0dK83Ae/evVsbN27U7Nmz82wvypQvjgRyE3Bubq5iY2OVmJioOXPmFOgikJaWluczWK9ePS1cuFD9+vUrNTe68CwCoMls27ZNW7Zs0UsvvWTbZpwU89cAGpo2baqpU6dq6NChATtxaHFW1DDYTw1jH57++te/qn79+l5fVSMiIsJjJ2BH/RoNN998s2JiYjw6yMVTTcCGxo0bS/rfChP5lS1bVmPHjg2Y6W2OHj2qXbt26ZFHHnH6GKNvpn2Xg5LyZB/ApKQkzZgxI885wZ5x4+epufu8PQjkjz/+0Lhx47Rq1ao8/TGNm4rIyEi3pnxxJFBrADMyMtS/f381b95cI0eOtE1vY89qtdom9Dcmhr7ppps0fPhwPfnkk35fFx2+RwA0kX379mnevHlas2aN7cRoHxQaNWqUp3+S/Wjf6OhozZ49Wy+++KI+/fRT3xbcDe6sB+yKs5qNiRMn6j//+Y+2b99e7GMXxpMBsLCQMX78eK1fv942HUlJhYaGerQGUCp8QMgDDzygY8eOad++fR593aKyWq0aO3asFixY4HQqIk8O/LDnySbgMWPG6IUXXnC6trfRB7ioAyac8eYgkIyMDA0YMEDLli0rsHqMcVNRkoFsgVgDePHiRfXo0UO9e/dW165dbX2XjfO38TkxBolUrlxZOTk5thB4//33q3379i6XLcS1iQBoEmfPntXIkSO1bt0627QA9hfYmJgYRUVFOVxRwwhHZcuW1ezZs/XRRx9pxYoVvim4m9xdDs4VR02oFotFb7zxhmbNmuWx0JRfmTJlPNoE46opOCQkREuWLNGIESM8Etw8XQMouRc0FixYoPHjx3u9ed6Vjz76SDfddJOt1tIVTwz8sJebm1vo8ozu+Oijj1S9enW1a9fO4X5P912UvFcDaLVaNWrUKA0bNqzAzAaeeh+BVgN48uRJ9ezZUzNmzNDtt9+eJ/w5U6tWLVWqVEk5OTn69ddfJUlDhgyRJL3xxhveLzQCBgHQBFJSUtS/f38tX75c1apVk1Qw/En/WybNEfsTypQpU3TixAlNnjzZrxdge0VZDs4VR/0BIyMj9eabb2rw4MFemU/PkzWA+Tnqt9m4cWN16dJFixYtKvHxvREApcIHhNSpU0f33HOP3nrrLY+/tjsuX76s5cuXu5xexxvhyV5Jl+E7e/asXn/9dU2fPt3pfkkeX7fXW1PYvPbaa6pXr57++te/5tlujF4ubr8/e1lZWV5dgaUofvnlFz3xxBNauXKlrrvuOltfU3c+b7Vr11bFihWVnZ1tC4GzZs3St99+65XZAhCYCIDXuOzsbD3xxBOaOnWqmjVrJslx+JOuhh9XIcp4bHp6ugYNGqQ6depo4MCBxe5750meqAGU8vYHNKaGka5O3Dt58mQNGTLE46E3IiLC7aXs3GX8rpxN4fPkk09qx44d+u9//1ui1/FGE7DBaLpyNh3PiBEj9N5773l8ZLM7pk2bpsmTJys8PNzhfqPMgRIW8rNarRo+fLgWLVrkdD1fY3k+RxNCB5rt27frP//5jyZNmpRne1JSkq22tLj9/ux5au3rkvrqq680adIkbdiwQVWrVi1S+DPUqVPHFgIPHjyooKAgrVy5UkuXLtXPP//sraIjgBAAr2FWq1XPPPOMevbsqfbt20tyHv6kqyHKWQ1g/uekpaXp3nvvVbdu3fTwww877bTvK56qAZQcTw0jSXfddZf+/Oc/a86cOR55HUOZMmW8EqJd1aJZLBYtW7ZMzz33XIlqHz09Cthe8+bNJTlfJzgkJEQvvPCCJk6c6JXXd+ann37SpUuX1KFDB6ePMcps3HQFmhUrVqh9+/ZOA4M3ay89HaKOHz+uWbNm6Y033ihwbGPgR8uWLT36mv709ttva/Xq1froo48UHh5uu1F19btydtNap04dVahQQVlZWTp48KDCw8O1bt06jR07VidPnvRK+RE4CIDXsIULF6pevXp69NFHJbkOf1LhNYD5n5uamqqYmBhNmjRJPXr00OnTpz1U8qLzVA2gwVl4GjZsmE6cOOHRgTDeqAHMz9EKGtWrV9fw4cM1bdq0Yh/XW03AhsIGhLRt21ZhYWH69ttvvVYGezk5OZo4caLmzZvn9DHeGvjhKYcPH9bnn3+uZ555xuF+Y144ZyuaBJIrV65o8ODBevPNNwv0zfN2E7yvWa1WzZo1Sz/99JPeeecd5eTk2PolF/Ye09PTnTbl161bV+XLl1dWVpYOHTqkypUra+XKlRo4cKDD1YVw7SAAXqM++OADHTt2zNZHqbDwJ7lXA5j/GKmpqYqOjtbrr7+uvn37+m3xcU/WAOaXf1DI4sWLtXz5ctsoupLyZh9AV8vESVLXrl114cIF/etf/yrW8T05EbQj7gwImTVrlqZPn+6TrggrVqxQ9+7dnU6WbM/TAz88ITs7WyNHjtTSpUudDiIxlnvLP5Ai0FitVg0ZMkSTJ08usLayscKFJ5p987+mP2RnZ2vYsGGKiIjQokWLlJaW5nb4k66ep12NXq5Xr56ioqKUmZmpQ4cOqWHDhpozZ4769esXEF184B0EwGvQd999p/fff1+LFy+WxWJxK/xJ7tcA5j9WamqqgoKC9P7772vs2LFenTLFGU/XAEp5f1b2/QHDw8O1evVqDR8+XBcvXizx63h6FHB+rpaJk6SXXnpJ06dP1+XLl4t8bG82ARsKGxBSsWJFDRo0yCODWlz5448/9Omnn2rw4MFOHxPotU5z5sxR3759Va9ePYf7jfKXdLk3VzwVoubOnavbb79dd911V57tSUlJtnOBJwZ++NuVK1f06KOP6q677tKYMWN05cqVIoU/6eo52tk0P4YGDRrkCYGtW7fWoEGD9NRTTwXMYD94FgHwGnPo0CHNmDFDb731lkJCQtwOf1LRagDzHzM1NVXJycn6+OOPtWzZMq1fv77ohS+Bks4D6Iyz/oA1atTQ/PnzNXDgwBIHIG/WAEp5l4lz1BRcvnx5zZgxQ88++2yRj+3tJmCDUVvlbEDIY489pv/85z9em6pHksaNG6e5c+c6rTn7448/JAVu0+muXbt08ODBAkujGeyXBCvpcm/etmXLFh07dkzDhw8vsK8kS7254o8QFB8fr+7du2vUqFHq1auXUlJSihz+pMJrAA0NGjRQZGSkLQR26dJFN910k2bMmFHct4AARgC8hpw7d05PPfWU1q5dq6ioqCKFP8n1NDCu2IfAP/74Q+vXr9e///1vzZ8/32cnTW82ATuaGkaSbr31VnXv3r3AyMOi8nYAlApvCm7fvr2io6P18ccfF+m43m4CNhid+J0NCLFYLFqwYIHGjh3rlc/cV199pWrVqulPf/qT08cYo5EDsek0NTVVEyZMsLUKOGI0/Xq79rKkg0AOHDigZcuWacmSJQWOVdKl3lzx9gom+R06dEiPPfaYFi1apDvuuKPY4U+6WotYWA2goWHDhrYQ+Ntvv2nkyJFKTk7W2rVri/gOEOgIgNeI1NRU9evXT4sXL1atWrWKHP6kq02bxR2MYB8CT548qaVLlyo3N1ejRo3yehOh5J0mYIP91DCHDh3Ks69v377KycnRe++9V+zje7sJ2FBYU/CMGTO0fPlyW02WO3zRBGwobEBI06ZNFRMTo02bNnn0ddPT0zV37lyn8+XZlylQB35MmDBB48aNc1qzd/DgQUnebfo1lCSgX7p0ScOHD9fq1asLTMFz7tw5SVJYWJjH+/5JV2c+8NUk0N9//72GDx+ud955Ry1btixR+JPcrwE0NGzYUGXLllV6erp+++03LViwQF9++aW+/vrrIr82AhcB8BqQk5OjgQMHKjY2VjExMcUKf9LVO/OS3J3bh8Bjx45pwoQJatu2rXr37u1wjWFP8mYNoPS/9+aoQ/TcuXP1wQcf6McffyzWsX1RAyjlbQp2JDw8XIsWLdLw4cPdvkj7qglYcm9AyIQJE7R06dJi1WQ7M3fuXI0cOdKtC2ggDvz4xz/+IavVqnvvvdfpY7KysiR5v+k3Ozu72E3kxnlu3rx5Dj8LRgBs2rRpicroTFpamk+Wgdu0aZPmzZunjz76SLVq1Spx+JOKVgNoaNSokW2GguPHj2v16tV66aWXtHfv3mKVAYGHAHgNiI2N1f3336+OHTsWO/x5in0IPHr0qB5//HENGTJE3bt39+qEvd6sATQ4G4wQEhKiNWvWKDY21uEi7IXxxTQwhsIGVMTExKhdu3Z688033TqeNyeCdqSw8pcpU0YTJ050WVtXFIcOHdK+ffvUpUsXp48J5IEfFy5c0Lx589yatsYX5c/IyHA6eXZhJk+erK5du6p169YF9vniPaSmpnq9BnDZsmX69NNPtWHDBpUvX94j4U8qeg2g4brrrlOZMmWUmpqqs2fP6u2339Yzzzzj1ym/4DkEwFJu8eLFqlChgvr37+/38Jf/tY0Q2LFjR82fP1+PPPKIw6XJPMHbNYAGY2WH/AGkUqVKWrp0qQYMGFDkaRN81QRsMFZ+MJaAym/06NH69NNP9dtvvxV6LF/WAObnbEDIPffco/Pnz+uXX34p0fGtVqtiY2O1cOFCpzXjRnO5r1eIcKeG1lgbd+7cuU7ngDPChdE9wNsyMjJUpkyZIj9v/fr1ysrKUr9+/QrsM7plGMtceos3m4Bzc3M1fvx4xcfHa+XKlQoNDfVY+JPcGwXsTOPGjRUeHq7U1FSlpKRoxYoVeuKJJzxayw7/IACWYps2bdKePXs0bdq0gAl/+ctghMAbbrhBb7/9toYOHapdu3Z5/PXKli3r9WZmKe/KDvZTw0hXByoMHTrU6QS7zviqCdhgNJE5C25BQUFaunSpRowYUWi480cAND5bzgaESNK8efM0ceJE5ebmFvt11q9fr3bt2uXpA5qfUat9/fXXF/t1vGX9+vVq2rSpwxozg3HTVFj3AE/JyMhwuvScMz/++KPef/99h7WYSUlJthsubwfA4taiFSYjI0NPPPGEGjdurJkzZ8pisXg0/EklL3uTJk0UFhamK1euKDQ0VDNmzFC/fv1sXQdQOhEAS6mdO3dqzZo1Wr58ufbt22fbHgjhz5A/BNapU0cffvihZs6cqS1btnj0tYKDg0t0sS8KZ1PDSFKXLl1Uq1Ytvf76624fz9c1gFLhTan169dXnz59NHfuXJfH8XUTsKGwASE1atRQ586d3W7Kzu/ixYtavXq1y6lxjL87fwz8KKzG8ffff9fbb7/tcoS6P5qu09PTi1QDeO7cOcXGxmr16tW2taHteWvKF0e8UQN46dIl9ezZU7169bLNL+np8CcVrw9gfk2bNlVYWJhSUlJUq1Yt9e7dWyNHjmSOwFKMAFgKHT16VJMmTdLbb7+dZ1SqJ04WQUFBHr2g5w+BFStW1IcffqgNGzZoxYoVHnsdX3M2NYx0ta/SN9984/bqGr6uAczPuIjm9/jjj2v//v3avXu30+f6chSwPXcGhAwZMkQbN24sVr/MKVOmaPr06bYmf0eMC1+gDfzIzc3V8OHDtXjxYoehSfpf7WlxmmNLIjMz0+0awMzMTA0YMEBLlixxODjFm1O+OOLpGsDff/9dPXr00PPPP68HH3xQknfCn+S5stuHwDZt2qhJkyaF3iQicBEAS5kLFy5o8ODBWrNmTZ4Lt6dOFlFRUR5vSs0fAsPDw7VmzRodP35cU6ZMKZV3kPbNgvY1sNLVEP3mm29q5syZBZqJHfFXADR+L0lJSQ73WywWLVmyROPHj3f6mfBnH8DCajGDg4M1Z84cjR8/vkjH/eGHH5SVlaX/+7//c/qYQB74sXjxYt1///0uR8Ma/ScbN27sq2JJKloN4OjRozV48GCHzevGIISyZct6ZcoXRzxZA/jf//5X/fv315tvvqlbb71VkvfCn+SZGkBD06ZNFRoaquTkZPXs2VNnzpwp0TRY8B8CYCmSnp6uvn376qWXXspz0fbkyaJcuXJe6UuXPwQGBQVpzpw5qlWrlgYNGuSR9SZ9HSSN9+TodaOiovTmm2/qySefLPTn6Y8mYENhcwNWqVJFsbGxmjBhgsP9vpoIujDOBoTcdNNNqlSpkrZt2+bWcbKzszVlyhTNmTPH6WOKMk+ir+3bt0//+te/9NRTTzl9jC+We3PG3VHAr7/+umrUqKGuXbs63G8swdioUSNPFs8lT00Ds3XrVo0fP14ffPCBrfzeDH+S56ewadasmS0EPvfcc9q4cWOx1xOH/xAAS4nc3FwNHjxYI0eOzNOs4+mTRbly5bw2nUr+EChJw4YNU5cuXfTwww8Xay1af3NVC9WwYUNNnDhRQ4cOdRlOfdl/Mb/ClomTpPvuu0+5ubn66quvCuzzVxOwwZ0BITNnztSsWbPcCtlLlixRnz59bH0MHTEGfvir9s/ZZyUzM1PPPvusli1b5rSPoLHcW1BQkF+We3MnAH777bfavn27pkyZ4nC/v2pfPTENzLp16/Tmm2/q448/tvUd9Xb4k65+Noo7/Y4zRghMSUnRrFmzNGvWLB04cMCjrwHvIgCWEpMnT9Ydd9yR54LtjZNFVFSU0tLSPH5cg6MQ2KVLF02cOFE9evQo0fxSvp6Kw+CqP2CHDh3UunVrzZ8/39fFclthy8RJV0fVzpkzJ896sZJ/m4ANRljbv3+/w/3lypXTsGHDXM6FJ13tk/X111+rf//+Th9jXOD8ueJHdna2w759M2bM0NChQ132jzSWezOW1vO1wgLgyZMnNWPGDK1cudLhmsvG79hX/f7slaQJ2Gq1as6cOdq1a5feffdd25Jyvgh/3tSsWTOFhIQoMzNTc+bM0fDhw4vV5xb+QQAsBd544w1ZLBbdfvvttm3eOll4swbQ4CgE3nbbbXrttdfUt2/fAn3q3OXpASzusu8P6KjP38iRI3X48GF9/vnnvixWkRTWFBwZGak5c+YUmOLGX6OA7RmBx1Utavfu3bVnzx4dPnzY6WNiY2O1YMEClzcSxnv158APRwHwu+++09mzZ9WjRw+nzzPCkz+afg2u5gFMTU3Vk08+qTfeeMNhc2VSUpJyc3MVFBTks35/+ctXnGbU7OxsDR8+XKGhoXr11VdtK6GU9vBnaN68uUJCQhQWFqbnn39e/fr18/o1BJ5BAAxwX3zxhf7973/r0UcftW3z5snCFytqSHlDoKFJkyb629/+pjFjxmj79u1FPqaxdqU/uJoaxmKxaNmyZVq8eLFtzdVA405TcNu2bXXddddp/fr1tm2BUAMoFT4gxGKxaOHChYqNjXXYHL9lyxY1atTIZc1YoAz8yL+cWnJysqZOnapFixY5fc6FCxdsAdkfTb8GZ/MAWq1WPfXUUxo/frzTfn3GoDd/1V4WpwbwypUreuyxx3THHXdo7NixeW4uroXwZ2jevLmCg4NVpUoVDR06VE888YTfbwxROAJgAPvpp5+0bNkyjR492tYc4u2ThbcGgTji6KJdrVo1ffzxx1q2bJn+9re/Fel43m6+LoyrEGKMfH766addNrX6kztNwZMnT9batWttF+NACYD2nA0Iadiwodq2bav3338/z/bU1FS9/PLLTvucSYE18CMrKytPABw7dqymTZvmslbMaPr1d9hwNgp4wYIFuuWWW9SxY0eHzwuE8F3UGsBz586pe/fuGj58eJ4beCkw3o+ntWjRQsHBwWratKnuuusuPfvss6VyhgczIQAGqJMnT2rs2LGaOHGi7Y7ZFycLX9UAGhyFpsjISK1fv17/+te/tHDhQrdPIpGRkT4Lr4VxFAJr1qypOXPmaNCgQQF7d2xc4JzVpIWGhmrx4sUaPny4cnNzA6IJ2ODOgJDnnntOb775Zp6Q+8ILL2js2LFOl0uT/D/ww152drZtfsLNmzerXLlyuuuuu5w+3ljSz525E73N0WCEv//97zp48KBGjRrl8DlGTVn58uW9XTyXirKM3eHDh/Xoo4/q5ZdfLvC7uRbDn8EIgXfeeaciIyNd1krD/wiAAejSpUsaMGCAxo0bZ7ur99XJoly5cj6vRXMUAkNCQrRs2TJlZ2dr9OjRboUMf9cASnl/T476A7Zt21adO3fW1KlTfVkstzVo0KDQxzRr1kz33XeflixZ4vdRwPkZzZvO1jk2+inVr19fmzdvVrt27TR37lyn4UOSrdne1chgXzKagM+dO6fFixfrxRdfdPl4o1tEIJQ/PT09TwA8dOiQXnnlFacjl5OSkmzL1dWrV89n5XTGnYFmO3bs0NNPP61169YVmMPQH+Evf5cBb2vRooWCgoLUu3dv7dmzRx999JHPXhtFQwAMMJmZmerXr58GDx5s65fly5OFr2sADUbti30ItFgsmjBhglq3bq0+ffoUGu4CpQbQVX9ASerfv7/S0tIKNEUGisL600nS008/renTp6tFixZas2aNLBaL2rRp46siOmUMcHDVLD1w4MACUw4dOXLE6aTIxnqngVCD1qZNG9WpU0cffPCBqlevrj/++MNlrVSg1TbZjwJOSkrS008/rdWrVzt9D75c6s0TNm/erDlz5ujjjz9W7dq18+wzfhfu3GR5UmpqqsvabW9o2bKlgoODNXr0aK1atUr/+c9/fPr6cI/jdYLgF0ZH6Hvuucd2wvP1ic+XfQDtNWrUSEePHlVqaqri4uLyvO/HH39cNWvWVPfu3bVu3TqnU3BERkb6vQbQUK5cOSUnJxd4L4YFCxaoR48eatq0qW666SZJvp/I2pWgoCDl5ubqt99+cxiM2rZtW6Cv4K5du9SmTRvt3LnTo2WxWq3Kzs52+pWTk1Ng28GDB7Vnzx7Vr1+/wL4jR444fJ0jR47oq6++UkhIiO3rxIkTCg4OVvPmzXXgwAGFhIQoODg4z2McfTmawqSk2rRpo127duXZtm/fPqc/c2MwjycnAC4pIwDm5ORo0KBBmjVrltNRyb5e6q2kli9frp07d2rDhg0FBrrYhz9f/z6uXLni8TWM3dGyZUvt379fzz//vMaNG6eVK1eqSZMmPi8HnCMABpAZM2aoRo0a6tChgyT/3PX6YhoYZ1yFwI4dOyo6Olq9evXSm2++6XCkYFRUlNNlzXytfv36tpP+kSNHdN111+XZHxISotWrV+vhhx/WxYsX9csvv+iGG26QJLVu3drjIaoorFarGjRooB9++EEpKSm6ePGiLl++nOcrfxAx7Nq1S3/961+LPSejs+cVFrjyfyUmJiokJES//vqrKleunCe4uXLw4EFbUDTed05Ojvbs2eMyhOb/8sTE3sbPwmq1Kjg42OXPfNWqVSpfvnyer7NnzyoqKspvo2bzMwLsunXrJF0NQ7fddpvDxxr9OENDQ/0y5UtR5ObmavLkyQoODtbq1asLfIb9Gf4k/9QAGowQOG3aNA0cOFAbN2706xyayIsAGCDWrl2r48ePa+zYsZL81+ThjbWAi8JVCLzhhhu0du1aDRgwQHPnzrWtoWmIjIwMqNGaMTExiouLc1orWaVKFSUkJBRoai1uTVpubq6uXLlSIKzl/0pKSrJ9nz/sGxevsmXLqnz58srMzFRkZKSaNGliCxaFNYVu3rzZb5Ny23PW/Dl06FCnzxkxYkShz/c1q9Wq3Nxcl+G1atWqunz5ss6dO6fLly/ryJEjSklJUWhoqObOneswkIaFhalChQoFgqP9l/3+cuXKFbsvmaPay+PHjzv9nBsjuZs1a1as1/OVzMxMDRkyRLfffrvDz5W/w590tQbQXwFQuhoCrVarnn32WfXq1UtbtmyxTYQN/yIABoCvv/5aH3zwgebOnSvJvxecQGhGdRUC69atqw8//FB9+/bV008/rQceeMC2z9/h1REjBDprCnbWz27Xrl3asGFDgcBmfKWlpTkMWVFRUQ4v4hUrVlS9evUK7CtbtqzLsGaUr2LFinnmCnQlEMKfdPVnkZKSUqAZ+7rrrnPYDGz/GGO/MUG2P1kslkKDV5cuXWzfX7hwQWfOnFFoaKjLAJWRkaHk5GSHNwbHjx93ePPgaMBPaGhooSHSVe1lfoESvAuTlJSkvn37asiQIXrooYcK7A+E8Cf5twbQYAyGefTRR/X4449rw4YNXukmgaIhAPrZ3r17NX36dL3yyisKCgry+0kvKCgoIPqiuQqBFStW1IcffqjBgwfr9OnTGjx4sKTACK8Gq9WqixcvKj4+Xj/++KMSEhL07rvvKjg4WPHx8UpISCh09Gx6erqqVq2qRo0aFbiolilTxidBywiwly5dyhMAW7du7fDiHQgDQQwNGjRQXFxcgcnBjUBoHwIbN26cZ5UQ43Pkbuj1BXd/5sacf4XVnoWHhys8PLzETXJZWVlKTk52eKNy6tQpp0v0Gfr27avq1aurevXqslqtKl++vBo3bqzKlSsrOjraNuWNP+Wfe/HUqVN64oknNHv2bIef+UAJf5L/+gDmd/3118tqtSo+Pl6jRo3S0qVL/V0k07NYA+Fqb1JnzpxRt27dtGDBAlWuXNnv4c9w9913a8mSJQFRHiMESgVrBHJzczVp0iSFhobq73//u3bv3m3b541+dNnZ2Tp//rzi4+MVHx+vc+fO2b6Pj4/XxYsX8zy+UqVKtgtbZmamqlSporp16+qmm25S1apVFRIS4jLEBcqf5qlTp2wDPux/B/mb9dq0aaMffvjB18UrlLMapaJuDwSF/cyNsteqVcuvK37k5+pzfuHCBZ07d05HjhzRgQMHbP03jRslYxS2xWJR2bJlVb16dVWrVs32t2X/f280Leb/mcfExCg6Olpvvvlmgb69UmCFP+nqgDPp6lKHgSAuLk7Lli1Tw4YNNW7cOH8Xx9SoAfST5ORk9ezZU9OmTQuo8BdoXNUEBgUFae7cuapfv75OnjyZ53nu9qNLT0/PE+Tyh7qUlBRZLBZbR/zo6Og8F51bbrnF9v+KFSu6bNYwLgz268iWhpq0OnXq2ALgqVOnbLVixs/WWfN2oDl79myh/RcDqQ+pI65+5hcuXLB9H0jhT3L9Oa9UqZIqVaqkrKws1atXz+Vn6cqVK3n+Ts+ePatffvnF9v/09HTbjVNYWJgtGDoKjOXLly+0Ft1R38W4uDjdeOONpSL8SVd/ZtWqVfN3MWxiYmI0bNgwTZs2Te+995569+7t7yKZFgGwCHKtVllU8j5O2dnZ6tatm4YNG6b69euXiounP7kKgZIKhD/Drl27tHHjxjyB7ty5c8rMzJR0tYYtPDy8QC1C8+bNbf+PioryWFOro6lhdu7cWSpq0pw1BZcGRtkTExMLDYCBtOJHUQXKcm+OFPY5d3fKl8jISDVq1MjpesH2MjMzC9zc/fbbb7b/X7582XZzFxQUpKpVqxYIic76Lv7yyy8FtgVi+JOu9gEMtEEXrVq10rRp0zRmzBhVr17d6RKA8C4CYBG8euG0LuZk69kqtVUpuHj9UqxWqx5//HHdf//9uvHGGwPyZB1IrFarbSWAQ4cO6ezZs9q4caPCwsKUkJCghIQEl8+/ePGi6tatq1tvvVXVq1dXdHS028s5eZr91DD79++3Tc+xc+fOgG52NFSsWFGXLl0qNTV+9iIiIpSWlqZjx46pYcOGDh9jLDkWSBdvdx04cECSnM6pFwicfc6N4BoREeHRKV/CwsJUp04dt25YcnJylJiYmOdmcc+ePS6fM2rUKEVHRys6OlppaWm2lpyMjAyVLVs2YAY5BEofwPxuuukmzZo1S2PGjFF0dLRtGiz4Dn0Ai2B6wnF9m5qkspYgPVulju4uW7HItUPPPfecLBaLnnjiiYC8iHbt2lWffPKJpKs1nZ07d9amTZs8dnyr1ark5GRbeDt37pzte+P/9nP5Wa1WRUVFqVq1aoqOjpZ09QJduXJltW3bVtHR0S6XuArEj7eji2BpCICS87IHermlgmUv7P+BLP/PvLSUvbR99l2d348ePaqEhATt3r1bFy5ckNVq1eXLl5WQkKCLFy/apt6xWCyKiIiwhcXo6Gjb+cz4qly5sleWa/P2+dwTvvrqK02dOlUffvhhqWtdKO2oASyCBqFl9I2SdMWaqxfOn9T2iKQi1QYuWrRIZ8+e1cSJEwPyZGd/spCuhqdPPvlEXbt2dXrSsFqtSkpKyhPi8ge7y5cv24KYxWJRuXLlCpwImzdvbttWsaLrYG00B2dlZaly5cqloh+dvcKmhglkpbnsVapUUWJiosOyGyGkNE5SG8gBqjCBXnZX55aGDRvqypUruuOOOwpt9k1NTS1wfjx+/Ljt/xcuXFBOTo7tvBceHu4wKBpfVapUKXRS8+Kcz/2hU6dOunTpkvr06aONGzcGXP/VaxkBsBiMOqXv0pL08+lkt2oD33vvPX3xxReaP3++WrVq5ZuCFtHmzZsdbv/kk080a9asPIHO/r2WL1++wInq+uuvt33vTmfrosjfJ7C09KOzZ8xRVxqDVJkyZZSenq59+/YVWOw+kNWsWdO2woQz9gN0SoNjx45JCrxBH+749ddfJQXWVDv5uTq3FKXPX9myZVW/fn3Vr1/frddNS0vT+fPn89xI//zzz7bwmJiYmGdy79DQ0ALnYPvwZ8/Zed6fHn74YSUkJGjAgAF69913S2U3jNKIAFgCuZJbtYFffvmlli1bpkWLFunGG2/0aRmNvi35a+jsv9LS0mS1Wl02lxpLsUVHR6tcuXJ+n+zXUQiUSk9zpDFHnSSdOHHCz6UpmsaNGysuLi4gm9cLY1+DaQj0WihXjJVcArnvnyNJSUnKzs6WxWIJiMm2XXF0bvH2gI+IiAjVrVvX7XWQMzIyCpzXnbFarerWrZuqVq1qO6fbf298+XrgyLBhw/THH39ozJgxeuWVV/w+ebUZ0AewCNZe+kNvJcU73Bck2foGrhs5Ru+9+54yMzMVFhamypUra/369brrrrtKXIbMzMwCf+jnz5/P870xylW6OlVKlSpVHDYjGF/GH5qzSaAtFotH1jb1Bvt5AvMrDRd0ZyuBlNayl4ZyHz58WBkZGQW2l4ayS6X3515ayy05LnugjfbNz9X5PCMjw2HFgP21xH4CdYvFokqVKrkMjJ6qGBg0aJB+/fVX7d6923YN7dOnj8aMGVNqPi+lBQGwCFwFQEmySPptziL9vuKtAvsGDBig1atXF9iev29I/q/8Vf1hYWGqWrWqwz9A4w8zPDy8WO+vQ4cO+uc//+lw+9atW4t1TF9wFqKkwL/AlNayl9ZyS5TdH0pruaXSW3ZPns9zc3N18eJFp2ExISFBycnJeZ5j9PV2dq2qVKmSw5HSsbGxWrhwYYHtAwYMIAR6GAGwCAoLgJL0TbM2smZkFtgeHBysBx98UJcvX86zPTw8XJUqVVLlypVtE6Laf1+hQoVCO/t60qhRo7R9+3ZZrVZZLBbdfffdevXVV/3e5OuKq49woEzF4IyrmlVvjAr0FFfL2AXC0l2uGCtLOFLcmydfcVRzaQjkJjNXa3R7cuoXb7CflSC/QJpgOb9z5845PZ+72xexuIzZHs6fP6/z588rMTFRiYmJtv+fP39ely5dynPuLlOmjCpXrqy1a9c6PL+Eh4dr9+7dBEAPIgAWgTsBcHuDG53u+/e//61y5coFfCgBSiKQbxaka/eGwZc3ikWVnZ3tdJ+/5uV0V/61pO2VL1/ehyUpmvyVDfYKmxDdH9LS0pSYmOiyn/zevXsJgB4UuGeMUsoSHuawBjA8PFzt2rXzQ4ncV1qbOkpruaXSW3ZX5Q70kcGuym5Mzh2oXJW9efPmPixJ0bgqd+PGjX1YkqJzVfZ69er5sCRF46rcruZO9ac6derYZhnIL9Br50ujwL7dLWUskuo88ZjDfX369PFtYQAAKGVGjBjhcDvXUM8jAHpIkKTIoGCNmz1LdYf2V1B42NXt4WGqN/QJTVq+1L8FdIOzGqdAromSSm+5pdJb9tJabomy+0NpLbdUesteWst9//RJDq+hjzw3OuDLXtrQB7AIHPUBtOjqxNDtIypoQMXqGvXHb7pizZX9DzVYUtOwslpao7GCArx/FAAA/nAxJ0v9Tv/KNdRHqAEsAaPWb1rV+poRXV9rLsUrNd8HV5JyJB3ITNUXKRf8UEoAAAKb1WrVosTTXEN9iABYDMb9R7uICnq7VjPdHVlR/0y9pG/TkuRquuTlF8/oUo7z0XAAAJgR11DfIwAWwfGs9Dy1fjOrNVCl4FBdzMnSosRTKqxiOs2aq9cvnvFFUQEAKBW4hvoHAbAIKgSF5Kn1k1xXW+eXK+nLKxe1Jz3F20UFACDgcQ31HwaBFEGu1VqgA+q2Kxf1wvmTbh8jSFKtkHCtrtVUoRbyNwDAvLiG+g8/vSLIH/7crba2lyvpdHaGPrx83qNlAwCgNOEa6l8EwGIqSrV1gedKWnPpD/2RXXDFEAAArnVcQ/2PpeCKySqpUnCwWpcpp4rBIUrJzSnw5eqDnSurXkk8pTnVGgb82qkAAHgS11D/ow+gF+VarUq15jr8YP83PUVhliCNrFxbwXx4AQDIg2uodxEAAQAATIY+gAAAACZDAAQAADAZAiAAAIDJEAABAABMhgAIAABgMgRAAAAAkyEAAgAAmAwBEAAAwGQIgAAAACZDAAQAADAZAiAAAIDJEAABAABMhgAIAABgMgRAAAAAkyEAAgAAmAwBEAAAwGQIgAAAACZDAAQAADAZAiAAAIDJEAABAABMhgAIAABgMgRAAAAAkyEAAgAAmAwBEAAAwGQIgAAAACZDAAQAADAZAiAAAIDJEAABAABMhgAIAABgMgRAAAAAkyEAAgAAmAwBEAAAwGQIgAAAACZDAAQAADAZAiAAAIDJEAABAABMhgAIAABgMgRAAAAAkyEAAgAAmAwBEAAAwGQIgAAAACZDAAQAADAZAiAAAIDJEAABAABMhgAIAABgMgRAAAAAkyEAAgAAmAwBEAAAwGQIgAAAACZDAAQAADAZAiAAAIDJEAABAABMhgAIAABgMgRAAAAAkyEAAgAAmAwBEAAAwGQIgAAAACZDAAQAADAZAiAAAIDJEAABAABMhgAIAABgMgRAAAAAkyEAAgAAmAwBEAAAwGQIgAAAACZDAAQAADAZAiAAAIDJEAABAABMhgAIAABgMgRAAAAAkyEAAgAAmAwBEAAAwGQIgAAAACZDAAQAADAZAiAAAIDJEAABAABMhgAIAABgMgRAAAAAkyEAAgAAmAwBEAAAwGQIgAAAACZDAAQAADAZAiAAAIDJEAABAABMhgAIAABgMgRAAAAAkyEAAgAAmAwBEAAAwGQIgAAAACZDAAQAADAZAiAAAIDJEAABAABMhgAIAABgMgRAAAAAkyEAAgAAmAwBEAAAwGQIgAAAACZDAAQAADAZAiAAAIDJEAABAABMhgAIAABgMgRAAAAAkyEAAgAAmAwBEAAAwGQIgAAAACZDAAQAADAZAiAAAIDJEAABAABMhgAIAABgMgRAAAAAkyEAAgAAmAwBEAAAwGQIgAAAACZDAAQAADCZEH8XwF+sVquysrKUk5Oj4OBghYaGymKx+LtYAAAAXme6AJiVlaX4+HidPn1aaWlptu0RERGqXbu2qlevrtDQUD+WEAAAwLu83gSckJCgp59+WvXq1VN4eLhq1Kihe++9V999950kyWKxaNOmTd4uhiTpwoUL2rFjh44cOaKoqCi1bNlSN9xwg1q2bKmoqCgdOXJEO3bs0IULF3xSHgAAUHosW7ZMDRo0UJkyZdS2bVvt3LnT30UqNq/XAPbo0UOZmZl666231KhRI8XHx2vr1q1KTEz09kvnceHCBe3du1eVKlVSs2bNFB4enmd/tWrVlJGRoYMHD2rv3r1q1aqVKleu7NMyAgCAwPT+++9rzJgxev3119W2bVu98soruvfee3Xw4EFVq1bN38UrMovVarV66+CXLl1SpUqVtH37dt15550F9jdo0EAnTpyw/b9+/fo6fvy4JOmTTz7RjBkztH//ftWqVUv9+/fX5MmTFRJyNbNaLBa99tpr2rx5s7Zv366aNWtq/vz56tmzZ4HXycrK0o4dO1ShQgXFxMQoKMh5xWdubq7i4uJ08eJFVapUyeVjAQBA6RQTE1Okx7dt21atW7fW0qVLJV3NC3Xr1tXIkSM1YcIEbxTRq7yabqKiohQVFaVNmzYpIyOjwP5du3ZJktasWaOzZ8/a/v/tt9+qX79+euaZZ7R//36tWLFCa9eu1axZs/I8f+rUqerRo4f27NmjPn366NFHH9WBAwcKvE58fLxyc3PVrFmzQgNdUFCQmjVrJqvV6rDMAADAXDIzM/Xjjz/qnnvusW0LCgrSPffco++//96PJSs+rwbAkJAQrV27Vm+99ZYqVqyodu3aadKkSfrvf/8rSYqOjpYkVaxYUTVq1LD9f8aMGZowYYL69++vRo0aqVOnTnrhhRe0YsWKPMd/+OGH9eSTT6pp06Z64YUXdOutt2rJkiV5HmO1WnX69GlVrVq1QLOvM+Hh4YqOjlZ6erq8WEEKAABKgfPnzysnJ0fVq1fPs7169er6448//FSqkvF6+2aPHj105swZbd68Wffdd5+2b9+um2++WWvXrnX6nD179mjmzJm2GsSoqCgNHjxYZ8+eVWpqqu1xt99+e57n3X777QVqALOyspSWlmYLl+6Kjo5WTk4OARAAAFxzfDINTJkyZdSpUyd16tRJU6dO1ZNPPqnnn39eTzzxhMPHp6SkaMaMGerevbvDYxVFTk6OJNn6DrrLeDwBEAAAc6tataqCg4MVHx+fZ3t8fLxq1Kjhp1KVjF9GOLRs2VJXrlyRJIWGhtpCmuHmm2/WwYMH1bhx4wJf9n34duzYked5O3bsUIsWLfJsCw4OliRlZ2cXqYzG45kcGgAAcwsLC9Mtt9yirVu32rbl5uZq69atBVojSwuv1gAmJibq4Ycf1sCBA3XDDTeoXLly2r17t+bPn68uXbpIujoSeOvWrWrXrp3Cw8NVqVIlTZs2TQ899JDq1aunnj17KigoSHv27FFcXJxefPFF2/E3bNigW2+9Vf/3f/+nd999Vzt37tSqVavylCE0NFQRERFKSEgo0jDthIQEBQcHEwABAIDGjBmj/v3769Zbb1WbNm30yiuv6MqVKxowYIC/i1Y8Vi9KT0+3TpgwwXrzzTdbK1SoYC1btqy1WbNm1ilTplhTU1OtVqvVunnzZmvjxo2tISEh1vr169ue+/e//9365z//2RoREWEtX768tU2bNtY33njDtl+SddmyZdZOnTpZw8PDrQ0aNLC+//77Dsvx+++/W7dv325NT093u9zbt2+3/v7778V/8wAA4JqyZMkSa7169axhYWHWNm3aWHfs2OHvIhWbV+cB9CaLxaKNGzeqa9euhT62OPMAJiUl6bbbbmNZOAAAcM0xxSzHoaGhuv7663Xx4kXFxcU5nd8vIyPDNgn09ddfT/gDAADXJJ+MAg4ElStXVqtWrbRv3z7t2LFDVatWVXR0tEJCQpSdna2EhASdP39eQUFBLAMHAACuaaW2Cbi4srKyFB8fr9OnTystLc22PSIiQrVr11aNGjWKPGUMAABAaWK6AGiwWq3Kzs5Wdna2QkJCFBISwohfAABgCqYNgAAAAGZlikEgAAAA+B8CIAAAgMkQAAEAAEyGAAgAAGAyBEAAAACTIQACAACYDAEQAADAZAiAAAAAJkMABAAAMBkCIAAAgMkQAAEAAEyGAAgAAGAyBEAAAACTIQACAACYDAEQAADAZAiAAAAAJkMABAAAMBkCIAAAgMkQAAEAAEyGAAgAAGAyBEAAAACTIQACAACYDAEQAADAZAiAAAAAJkMABAAAMBkCIAAAgMkQAAEAAEyGAAgAAGAyBEAAAACTIQACAACYDAEQAADAZAiAAAAAJkMABAAAMBkCIAAAgMkQAAEAAEyGAAgAAGAyBEAAAACTIQACAACYDAEQAADAZAiAAAAAJkMABAAAMBkCIAAAgMkQAAEAAEyGAAgAAGAyBEAAAACT+X8lHW8dhB93AwAAAABJRU5ErkJggg==' width=640.0/>\n",
       "            </div>\n",
       "        "
      ],
      "text/plain": [
       "Canvas(toolbar=Toolbar(toolitems=[('Home', 'Reset original view', 'home', 'home'), ('Back', 'Back to previous …"
      ]
     },
     "metadata": {},
     "output_type": "display_data"
    },
    {
     "name": "stdout",
     "output_type": "stream",
     "text": [
      "MASS: 360.07710670521664 kg  Natural Frequencies:[20.06682059 40.53905183 61.8225322 ] Hz\n"
     ]
    }
   ],
   "source": [
    "# ----------------------------- KANARACHOS TRUSS ---------------------------- #\n",
    "%matplotlib widget\n",
    "\n",
    "path_pro = os.path.normpath(os.path.join(read_file_path, 'bridge_frequency_kr.pro'))\n",
    "props = pu.parse_file(path_pro)\n",
    "\n",
    "path_geom = os.path.normpath(os.path.join(read_file_path, 'bridge_kanarachos.geom'))\n",
    "props['model']['truss']['area'] = [ 40e-4, 3.1997e-4, 1.0025e-4, 1.0000e-4, 2.5875e-4, 1.0895e-4, 1.1261e-4, 2.5624e-4, 1.4121e-4, 1.5758e-4, 2.2461e-4, 1.0694e-4, 1.3193e-4, 2.3846e-4, 1.0001e-4 ]\n",
    "props['init']['mesh']['file'] = path_geom\n",
    "\n",
    "trap = io.StringIO()\n",
    "with redirect_stdout(trap):\n",
    "    globdat = main.jive(props)\n",
    "# ------------------------ Initiate a Karnachos obect ------------------------ #\n",
    "read_file_path = '../truss_bridge/data'\n",
    "read_file = 'bridge_kanarachos.geom'\n",
    "write_file_path =  None\n",
    "write_file = None\n",
    "violation_factor = None\n",
    "freq_constraints = None\n",
    "mass_weight = None\n",
    "freq_weight = None\n",
    "scalers = [None,None]\n",
    "bounds = None\n",
    "\n",
    "TRUSSKN= TRUSS(read_file_path,\n",
    "               read_file,\n",
    "                write_file_path,\n",
    "                write_file,\n",
    "                violation_factor,\n",
    "                scalers,\n",
    "                bounds,\n",
    "                freq_constraints= freq_constraints, \n",
    "                mass_weight= mass_weight, \n",
    "                freq_weight= freq_weight)\n",
    "TRUSSKN.read_geom_file()\n",
    "\n",
    "y_coord = TRUSSKN.state[\"y_coordinates\"][::2][1:6]\n",
    "areas_kn = np.array(props['model']['truss']['area'])\n",
    "print(f'MASS: {TRUSSKN.mass_truss(areas_kn, y_coord)} kg  Natural Frequencies:{(globdat[gn.EIGENFREQS][0:3] / 2 / np.pi)} Hz')"
   ]
  },
  {
   "cell_type": "code",
   "execution_count": 21,
   "metadata": {},
   "outputs": [
    {
     "data": {
      "image/png": "[encoded data removed]",
      "text/plain": [
       "<Figure size 640x480 with 2 Axes>"
      ]
     },
     "metadata": {},
     "output_type": "display_data"
    }
   ],
   "source": [
    "# ---------------------------------- TRUSS1 ---------------------------------- #\n",
    "TRUSSDummy.Write_call_state(X_init_single)"
   ]
  },
  {
   "cell_type": "markdown",
   "metadata": {},
   "source": [
    "### <strong> 4.2 | Comparing benchmarks </strong>"
   ]
  },
  {
   "cell_type": "code",
   "execution_count": 69,
   "metadata": {},
   "outputs": [
    {
     "data": {
      "text/html": [
       "<div>\n",
       "<style scoped>\n",
       "    .dataframe tbody tr th:only-of-type {\n",
       "        vertical-align: middle;\n",
       "    }\n",
       "\n",
       "    .dataframe tbody tr th {\n",
       "        vertical-align: top;\n",
       "    }\n",
       "\n",
       "    .dataframe thead th {\n",
       "        text-align: right;\n",
       "    }\n",
       "</style>\n",
       "<table border=\"1\" class=\"dataframe\">\n",
       "  <thead>\n",
       "    <tr style=\"text-align: right;\">\n",
       "      <th></th>\n",
       "      <th>Cross Section Average</th>\n",
       "      <th>Natural Frequency Average</th>\n",
       "      <th>Mass</th>\n",
       "    </tr>\n",
       "  </thead>\n",
       "  <tbody>\n",
       "    <tr>\n",
       "      <th>Kanarachos model</th>\n",
       "      <td>0.000424</td>\n",
       "      <td>41.572427</td>\n",
       "      <td>360.077107</td>\n",
       "    </tr>\n",
       "    <tr>\n",
       "      <th>TRUSS model</th>\n",
       "      <td>0.000433</td>\n",
       "      <td>40.809468</td>\n",
       "      <td>364.825316</td>\n",
       "    </tr>\n",
       "  </tbody>\n",
       "</table>\n",
       "</div>"
      ],
      "text/plain": [
       "                  Cross Section Average  Natural Frequency Average        Mass\n",
       "Kanarachos model               0.000424                  41.572427  360.077107\n",
       "TRUSS model                    0.000433                  40.809468  364.825316"
      ]
     },
     "execution_count": 69,
     "metadata": {},
     "output_type": "execute_result"
    }
   ],
   "source": [
    "mask = TRUSS1.state[\"monitor_df\"][\"Natural Frequencies\"][:].apply(lambda x: (x >= TRUSS1.config[\"freq_constraints\"]).all())\n",
    "ind = TRUSS1.state[\"monitor_df\"][mask][\"Mass of Truss\"].idxmin()\n",
    "# ----------------------------------- Data ----------------------------------- #\n",
    "TR_cs = TRUSS1.state[\"cross_sections\"].numpy()\n",
    "KN_cs = TRUSSKN.state[\"cross_sections\"]\n",
    "\n",
    "TR_m = TRUSS1.mass_truss(TR_cs, TRUSS1.state[\"y_coordinates\"][::2][1:6])\n",
    "KN_m = TRUSSKN.mass_truss(KN_cs, TRUSSKN.state[\"y_coordinates\"][::2][1:6])\n",
    "\n",
    "NFK = globdat[gn.EIGENFREQS][0:3]/2/np.pi\n",
    "NFTR = TRUSS1.state[\"monitor_df\"][\"Natural Frequencies\"][ind]\n",
    "\n",
    "data = {\n",
    "    'Model': ['Kanarachos model', 'TRUSS model'],\n",
    "    'Cross Section Average': [KN_cs.mean(), TR_cs.mean()],\n",
    "    'Natural Frequency Average': [np.mean(NFTR), np.mean(NFK)],\n",
    "    'Mass': [KN_m, TR_m]\n",
    "}\n",
    "basic_comp = pd.DataFrame(data)\n",
    "basic_comp.set_index('Model', inplace=True)\n",
    "basic_comp.index.name = None\n",
    "basic_comp"
   ]
  },
  {
   "cell_type": "code",
   "execution_count": 75,
   "metadata": {},
   "outputs": [],
   "source": [
    "max_cross_sections = max(np.max(TR_cs), np.max(KN_cs))\n",
    "normalized_cross_sections_model1 = TR_cs / max_cross_sections\n",
    "normalized_cross_sections_model2 = KN_cs / max_cross_sections\n",
    "\n",
    "max_mass = max(TR_m, KN_m)\n",
    "normalized_mass_model1 = TR_m / max_mass\n",
    "normalized_mass_model2 = KN_m / max_mass\n",
    "\n",
    "max_nat_freq = max(np.max(NFTR), np.max(NFK))\n",
    "normalized_nat_freq_model1 = np.array(NFTR) / max_nat_freq\n",
    "normalized_nat_freq_model2 = np.array(NFK) / max_nat_freq\n",
    "# ------------------------------------ VIS ----------------------------------- #\n",
    "# Data for plotting\n",
    "data = {\n",
    "    \"Metric\": [\"Cross Sections (Mean)\", \"Mass\", \"Nat. Freq. 1\", \"Nat. Freq. 2\", \"Nat. Freq. 3\"],\n",
    "    \"Model 1 (TRUSS1)\": [np.mean(normalized_cross_sections_model1), normalized_mass_model1] + normalized_nat_freq_model1.tolist(),\n",
    "    \"Model 2 (KANARACHOS)\": [np.mean(normalized_cross_sections_model2), normalized_mass_model2] + normalized_nat_freq_model2.tolist()\n",
    "}\n",
    "df = pd.DataFrame(data)"
   ]
  },
  {
   "cell_type": "code",
   "execution_count": 76,
   "metadata": {},
   "outputs": [
    {
     "data": {
      "application/vnd.plotly.v1+json": {
       "config": {
        "plotlyServerURL": "https://plot.ly"
       },
       "data": [
        {
         "marker": {
          "color": "#00B8C8"
         },
         "name": "Model 1 (TRUSS1)",
         "type": "bar",
         "x": [
          "Cross Sections (Mean)",
          "Mass",
          "Nat. Freq. 1",
          "Nat. Freq. 2",
          "Nat. Freq. 3"
         ],
         "y": [
          0.10817933333333334,
          1,
          0.32704951190387554,
          0.6901925149809449,
          1
         ]
        },
        {
         "marker": {
          "color": "#009bc2"
         },
         "name": "Model 2 (KANARACHOS)",
         "type": "bar",
         "x": [
          "Cross Sections (Mean)",
          "Mass",
          "Nat. Freq. 1",
          "Nat. Freq. 2",
          "Nat. Freq. 3"
         ],
         "y": [
          0.1059585,
          0.9869849779149856,
          0.32457116661034857,
          0.6556996554008481,
          0.9999497084989477
         ]
        }
       ],
       "layout": {
        "barmode": "group",
        "legend": {
         "font": {
          "size": 12
         },
         "title": {
          "text": "Model"
         }
        },
        "margin": {
         "b": 100,
         "l": 100,
         "r": 100,
         "t": 100
        },
        "plot_bgcolor": "white",
        "template": {
         "data": {
          "bar": [
           {
            "error_x": {
             "color": "#2a3f5f"
            },
            "error_y": {
             "color": "#2a3f5f"
            },
            "marker": {
             "line": {
              "color": "#E5ECF6",
              "width": 0.5
             },
             "pattern": {
              "fillmode": "overlay",
              "size": 10,
              "solidity": 0.2
             }
            },
            "type": "bar"
           }
          ],
          "barpolar": [
           {
            "marker": {
             "line": {
              "color": "#E5ECF6",
              "width": 0.5
             },
             "pattern": {
              "fillmode": "overlay",
              "size": 10,
              "solidity": 0.2
             }
            },
            "type": "barpolar"
           }
          ],
          "carpet": [
           {
            "aaxis": {
             "endlinecolor": "#2a3f5f",
             "gridcolor": "white",
             "linecolor": "white",
             "minorgridcolor": "white",
             "startlinecolor": "#2a3f5f"
            },
            "baxis": {
             "endlinecolor": "#2a3f5f",
             "gridcolor": "white",
             "linecolor": "white",
             "minorgridcolor": "white",
             "startlinecolor": "#2a3f5f"
            },
            "type": "carpet"
           }
          ],
          "choropleth": [
           {
            "colorbar": {
             "outlinewidth": 0,
             "ticks": ""
            },
            "type": "choropleth"
           }
          ],
          "contour": [
           {
            "colorbar": {
             "outlinewidth": 0,
             "ticks": ""
            },
            "colorscale": [
             [
              0,
              "#0d0887"
             ],
             [
              0.1111111111111111,
              "#46039f"
             ],
             [
              0.2222222222222222,
              "#7201a8"
             ],
             [
              0.3333333333333333,
              "#9c179e"
             ],
             [
              0.4444444444444444,
              "#bd3786"
             ],
             [
              0.5555555555555556,
              "#d8576b"
             ],
             [
              0.6666666666666666,
              "#ed7953"
             ],
             [
              0.7777777777777778,
              "#fb9f3a"
             ],
             [
              0.8888888888888888,
              "#fdca26"
             ],
             [
              1,
              "#f0f921"
             ]
            ],
            "type": "contour"
           }
          ],
          "contourcarpet": [
           {
            "colorbar": {
             "outlinewidth": 0,
             "ticks": ""
            },
            "type": "contourcarpet"
           }
          ],
          "heatmap": [
           {
            "colorbar": {
             "outlinewidth": 0,
             "ticks": ""
            },
            "colorscale": [
             [
              0,
              "#0d0887"
             ],
             [
              0.1111111111111111,
              "#46039f"
             ],
             [
              0.2222222222222222,
              "#7201a8"
             ],
             [
              0.3333333333333333,
              "#9c179e"
             ],
             [
              0.4444444444444444,
              "#bd3786"
             ],
             [
              0.5555555555555556,
              "#d8576b"
             ],
             [
              0.6666666666666666,
              "#ed7953"
             ],
             [
              0.7777777777777778,
              "#fb9f3a"
             ],
             [
              0.8888888888888888,
              "#fdca26"
             ],
             [
              1,
              "#f0f921"
             ]
            ],
            "type": "heatmap"
           }
          ],
          "heatmapgl": [
           {
            "colorbar": {
             "outlinewidth": 0,
             "ticks": ""
            },
            "colorscale": [
             [
              0,
              "#0d0887"
             ],
             [
              0.1111111111111111,
              "#46039f"
             ],
             [
              0.2222222222222222,
              "#7201a8"
             ],
             [
              0.3333333333333333,
              "#9c179e"
             ],
             [
              0.4444444444444444,
              "#bd3786"
             ],
             [
              0.5555555555555556,
              "#d8576b"
             ],
             [
              0.6666666666666666,
              "#ed7953"
             ],
             [
              0.7777777777777778,
              "#fb9f3a"
             ],
             [
              0.8888888888888888,
              "#fdca26"
             ],
             [
              1,
              "#f0f921"
             ]
            ],
            "type": "heatmapgl"
           }
          ],
          "histogram": [
           {
            "marker": {
             "pattern": {
              "fillmode": "overlay",
              "size": 10,
              "solidity": 0.2
             }
            },
            "type": "histogram"
           }
          ],
          "histogram2d": [
           {
            "colorbar": {
             "outlinewidth": 0,
             "ticks": ""
            },
            "colorscale": [
             [
              0,
              "#0d0887"
             ],
             [
              0.1111111111111111,
              "#46039f"
             ],
             [
              0.2222222222222222,
              "#7201a8"
             ],
             [
              0.3333333333333333,
              "#9c179e"
             ],
             [
              0.4444444444444444,
              "#bd3786"
             ],
             [
              0.5555555555555556,
              "#d8576b"
             ],
             [
              0.6666666666666666,
              "#ed7953"
             ],
             [
              0.7777777777777778,
              "#fb9f3a"
             ],
             [
              0.8888888888888888,
              "#fdca26"
             ],
             [
              1,
              "#f0f921"
             ]
            ],
            "type": "histogram2d"
           }
          ],
          "histogram2dcontour": [
           {
            "colorbar": {
             "outlinewidth": 0,
             "ticks": ""
            },
            "colorscale": [
             [
              0,
              "#0d0887"
             ],
             [
              0.1111111111111111,
              "#46039f"
             ],
             [
              0.2222222222222222,
              "#7201a8"
             ],
             [
              0.3333333333333333,
              "#9c179e"
             ],
             [
              0.4444444444444444,
              "#bd3786"
             ],
             [
              0.5555555555555556,
              "#d8576b"
             ],
             [
              0.6666666666666666,
              "#ed7953"
             ],
             [
              0.7777777777777778,
              "#fb9f3a"
             ],
             [
              0.8888888888888888,
              "#fdca26"
             ],
             [
              1,
              "#f0f921"
             ]
            ],
            "type": "histogram2dcontour"
           }
          ],
          "mesh3d": [
           {
            "colorbar": {
             "outlinewidth": 0,
             "ticks": ""
            },
            "type": "mesh3d"
           }
          ],
          "parcoords": [
           {
            "line": {
             "colorbar": {
              "outlinewidth": 0,
              "ticks": ""
             }
            },
            "type": "parcoords"
           }
          ],
          "pie": [
           {
            "automargin": true,
            "type": "pie"
           }
          ],
          "scatter": [
           {
            "fillpattern": {
             "fillmode": "overlay",
             "size": 10,
             "solidity": 0.2
            },
            "type": "scatter"
           }
          ],
          "scatter3d": [
           {
            "line": {
             "colorbar": {
              "outlinewidth": 0,
              "ticks": ""
             }
            },
            "marker": {
             "colorbar": {
              "outlinewidth": 0,
              "ticks": ""
             }
            },
            "type": "scatter3d"
           }
          ],
          "scattercarpet": [
           {
            "marker": {
             "colorbar": {
              "outlinewidth": 0,
              "ticks": ""
             }
            },
            "type": "scattercarpet"
           }
          ],
          "scattergeo": [
           {
            "marker": {
             "colorbar": {
              "outlinewidth": 0,
              "ticks": ""
             }
            },
            "type": "scattergeo"
           }
          ],
          "scattergl": [
           {
            "marker": {
             "colorbar": {
              "outlinewidth": 0,
              "ticks": ""
             }
            },
            "type": "scattergl"
           }
          ],
          "scattermapbox": [
           {
            "marker": {
             "colorbar": {
              "outlinewidth": 0,
              "ticks": ""
             }
            },
            "type": "scattermapbox"
           }
          ],
          "scatterpolar": [
           {
            "marker": {
             "colorbar": {
              "outlinewidth": 0,
              "ticks": ""
             }
            },
            "type": "scatterpolar"
           }
          ],
          "scatterpolargl": [
           {
            "marker": {
             "colorbar": {
              "outlinewidth": 0,
              "ticks": ""
             }
            },
            "type": "scatterpolargl"
           }
          ],
          "scatterternary": [
           {
            "marker": {
             "colorbar": {
              "outlinewidth": 0,
              "ticks": ""
             }
            },
            "type": "scatterternary"
           }
          ],
          "surface": [
           {
            "colorbar": {
             "outlinewidth": 0,
             "ticks": ""
            },
            "colorscale": [
             [
              0,
              "#0d0887"
             ],
             [
              0.1111111111111111,
              "#46039f"
             ],
             [
              0.2222222222222222,
              "#7201a8"
             ],
             [
              0.3333333333333333,
              "#9c179e"
             ],
             [
              0.4444444444444444,
              "#bd3786"
             ],
             [
              0.5555555555555556,
              "#d8576b"
             ],
             [
              0.6666666666666666,
              "#ed7953"
             ],
             [
              0.7777777777777778,
              "#fb9f3a"
             ],
             [
              0.8888888888888888,
              "#fdca26"
             ],
             [
              1,
              "#f0f921"
             ]
            ],
            "type": "surface"
           }
          ],
          "table": [
           {
            "cells": {
             "fill": {
              "color": "#EBF0F8"
             },
             "line": {
              "color": "white"
             }
            },
            "header": {
             "fill": {
              "color": "#C8D4E3"
             },
             "line": {
              "color": "white"
             }
            },
            "type": "table"
           }
          ]
         },
         "layout": {
          "annotationdefaults": {
           "arrowcolor": "#2a3f5f",
           "arrowhead": 0,
           "arrowwidth": 1
          },
          "autotypenumbers": "strict",
          "coloraxis": {
           "colorbar": {
            "outlinewidth": 0,
            "ticks": ""
           }
          },
          "colorscale": {
           "diverging": [
            [
             0,
             "#8e0152"
            ],
            [
             0.1,
             "#c51b7d"
            ],
            [
             0.2,
             "#de77ae"
            ],
            [
             0.3,
             "#f1b6da"
            ],
            [
             0.4,
             "#fde0ef"
            ],
            [
             0.5,
             "#f7f7f7"
            ],
            [
             0.6,
             "#e6f5d0"
            ],
            [
             0.7,
             "#b8e186"
            ],
            [
             0.8,
             "#7fbc41"
            ],
            [
             0.9,
             "#4d9221"
            ],
            [
             1,
             "#276419"
            ]
           ],
           "sequential": [
            [
             0,
             "#0d0887"
            ],
            [
             0.1111111111111111,
             "#46039f"
            ],
            [
             0.2222222222222222,
             "#7201a8"
            ],
            [
             0.3333333333333333,
             "#9c179e"
            ],
            [
             0.4444444444444444,
             "#bd3786"
            ],
            [
             0.5555555555555556,
             "#d8576b"
            ],
            [
             0.6666666666666666,
             "#ed7953"
            ],
            [
             0.7777777777777778,
             "#fb9f3a"
            ],
            [
             0.8888888888888888,
             "#fdca26"
            ],
            [
             1,
             "#f0f921"
            ]
           ],
           "sequentialminus": [
            [
             0,
             "#0d0887"
            ],
            [
             0.1111111111111111,
             "#46039f"
            ],
            [
             0.2222222222222222,
             "#7201a8"
            ],
            [
             0.3333333333333333,
             "#9c179e"
            ],
            [
             0.4444444444444444,
             "#bd3786"
            ],
            [
             0.5555555555555556,
             "#d8576b"
            ],
            [
             0.6666666666666666,
             "#ed7953"
            ],
            [
             0.7777777777777778,
             "#fb9f3a"
            ],
            [
             0.8888888888888888,
             "#fdca26"
            ],
            [
             1,
             "#f0f921"
            ]
           ]
          },
          "colorway": [
           "#636efa",
           "#EF553B",
           "#00cc96",
           "#ab63fa",
           "#FFA15A",
           "#19d3f3",
           "#FF6692",
           "#B6E880",
           "#FF97FF",
           "#FECB52"
          ],
          "font": {
           "color": "#2a3f5f"
          },
          "geo": {
           "bgcolor": "white",
           "lakecolor": "white",
           "landcolor": "#E5ECF6",
           "showlakes": true,
           "showland": true,
           "subunitcolor": "white"
          },
          "hoverlabel": {
           "align": "left"
          },
          "hovermode": "closest",
          "mapbox": {
           "style": "light"
          },
          "paper_bgcolor": "white",
          "plot_bgcolor": "#E5ECF6",
          "polar": {
           "angularaxis": {
            "gridcolor": "white",
            "linecolor": "white",
            "ticks": ""
           },
           "bgcolor": "#E5ECF6",
           "radialaxis": {
            "gridcolor": "white",
            "linecolor": "white",
            "ticks": ""
           }
          },
          "scene": {
           "xaxis": {
            "backgroundcolor": "#E5ECF6",
            "gridcolor": "white",
            "gridwidth": 2,
            "linecolor": "white",
            "showbackground": true,
            "ticks": "",
            "zerolinecolor": "white"
           },
           "yaxis": {
            "backgroundcolor": "#E5ECF6",
            "gridcolor": "white",
            "gridwidth": 2,
            "linecolor": "white",
            "showbackground": true,
            "ticks": "",
            "zerolinecolor": "white"
           },
           "zaxis": {
            "backgroundcolor": "#E5ECF6",
            "gridcolor": "white",
            "gridwidth": 2,
            "linecolor": "white",
            "showbackground": true,
            "ticks": "",
            "zerolinecolor": "white"
           }
          },
          "shapedefaults": {
           "line": {
            "color": "#2a3f5f"
           }
          },
          "ternary": {
           "aaxis": {
            "gridcolor": "white",
            "linecolor": "white",
            "ticks": ""
           },
           "baxis": {
            "gridcolor": "white",
            "linecolor": "white",
            "ticks": ""
           },
           "bgcolor": "#E5ECF6",
           "caxis": {
            "gridcolor": "white",
            "linecolor": "white",
            "ticks": ""
           }
          },
          "title": {
           "x": 0.05
          },
          "xaxis": {
           "automargin": true,
           "gridcolor": "white",
           "linecolor": "white",
           "ticks": "",
           "title": {
            "standoff": 15
           },
           "zerolinecolor": "white",
           "zerolinewidth": 2
          },
          "yaxis": {
           "automargin": true,
           "gridcolor": "white",
           "linecolor": "white",
           "ticks": "",
           "title": {
            "standoff": 15
           },
           "zerolinecolor": "white",
           "zerolinewidth": 2
          }
         }
        },
        "title": {
         "text": "Comparison of Normalized Cross Sections, Mass, and Natural Frequencies"
        },
        "xaxis": {
         "gridcolor": "rgba(211, 211, 211, 0.8)",
         "linecolor": "rgba(150, 150, 150, 0.8)",
         "showgrid": true,
         "title": {
          "text": "Metric"
         },
         "zerolinecolor": "rgba(150, 150, 150, 0.8)"
        },
        "yaxis": {
         "gridcolor": "rgba(211, 211, 211, 0.8)",
         "linecolor": "rgba(150, 150, 150, 0.8)",
         "showgrid": true,
         "title": {
          "text": "Normalized Value"
         },
         "zerolinecolor": "rgba(150, 150, 150, 0.8)"
        }
       }
      }
     },
     "metadata": {},
     "output_type": "display_data"
    }
   ],
   "source": [
    "fig = go.Figure()\n",
    "colors = ['#00B8C8', '#009bc2']  \n",
    "\n",
    "for i, model in enumerate(df.columns[1:]):\n",
    "    fig.add_trace(go.Bar(\n",
    "        x=df['Metric'],\n",
    "        y=df[model],\n",
    "        name=model,\n",
    "        marker=dict(color=colors[i])\n",
    "    ))\n",
    "\n",
    "fig.update_layout(\n",
    "    title=\"Comparison of Normalized Cross Sections, Mass, and Natural Frequencies\",\n",
    "    xaxis=dict(\n",
    "        title=\"Metric\",\n",
    "        showgrid=True,\n",
    "        gridcolor='rgba(211, 211, 211, 0.8)',  \n",
    "        linecolor='rgba(150, 150, 150, 0.8)',  \n",
    "        zerolinecolor='rgba(150, 150, 150, 0.8)',  \n",
    "    ),\n",
    "    yaxis=dict(\n",
    "        title=\"Normalized Value\",\n",
    "        showgrid=True,\n",
    "        gridcolor='rgba(211, 211, 211, 0.8)',  \n",
    "        linecolor='rgba(150, 150, 150, 0.8)',  \n",
    "        zerolinecolor='rgba(150, 150, 150, 0.8)',  \n",
    "    ),\n",
    "    plot_bgcolor='white',\n",
    "    barmode='group',\n",
    "    legend_title_text='Model',\n",
    "    legend_font_size=12,\n",
    "    margin=dict(l=100, r=100, t=100, b=100),  \n",
    ")\n",
    "\n",
    "fig.show()"
   ]
  }
 ],
 "metadata": {
  "kernelspec": {
   "display_name": "dsaie",
   "language": "python",
   "name": "python3"
  },
  "language_info": {
   "codemirror_mode": {
    "name": "ipython",
    "version": 3
   },
   "file_extension": ".py",
   "mimetype": "text/x-python",
   "name": "python",
   "nbconvert_exporter": "python",
   "pygments_lexer": "ipython3",
   "version": "3.12.1"
  }
 },
 "nbformat": 4,
 "nbformat_minor": 2
}

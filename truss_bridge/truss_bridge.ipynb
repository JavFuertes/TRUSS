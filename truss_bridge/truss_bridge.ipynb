{
 "cells": [
  {
   "cell_type": "markdown",
   "id": "0a32ce6d-0db8-44c9-9b0b-09879b22ad4c",
   "metadata": {},
   "source": [
    "<figure>\n",
    "  <IMG SRC=\"https://raw.githubusercontent.com/fmeer/public-files/main/TUlogo.png\" WIDTH=150 ALIGN=\"right\">\n",
    "</figure>\n",
    "\n",
    "# CEGM2003 project: Bayesian optimization for truss structures\n",
    "    \n",
    "In this notebook, the finite element code `pyJive` is applied to frequency analysis of a truss structure. Specifically, the `ModeShapeModule` is used to compute the natural frequencies of a 37-bar truss bridge structure. The case has been investigated in literature with multiple optimization algorithms, see [Kanarachos et al., 2017](https://dx.doi.org/10.1016/j.compstruc.2016.11.005) for a description of the case and a comparison of the performance of diffferent optimization methods. \n",
    "    \n",
    "Below, the truss is first analyzed with the default settings and then with the optimal parameters from Kanarachos. The notebook demonstrates how to run the finite element program and how to change those inputs that define the design space for the optimization problem. "
   ]
  },
  {
   "cell_type": "code",
   "execution_count": null,
   "id": "1c1c982a-3f5a-4f01-9d2a-f3e7a4a0530e",
   "metadata": {},
   "outputs": [],
   "source": [
    "import numpy as np\n",
    "import sys\n",
    "sys.path.append('../pyJive/')\n",
    "\n",
    "from utils import proputils as pu\n",
    "import main\n",
    "from names import GlobNames as gn\n",
    "\n",
    "%matplotlib widget"
   ]
  },
  {
   "cell_type": "markdown",
   "id": "73503ab5-1d4b-41f4-af25-b52c892fada4",
   "metadata": {},
   "source": [
    "### Starting design"
   ]
  },
  {
   "cell_type": "markdown",
   "id": "29451533-e7f8-42b3-a0f2-5f06974a5507",
   "metadata": {},
   "source": [
    "The analysis is based on two input files. The main input file, `bridge_frequency.pro` contains all input parameters and other settings of the analysis. It also refers to a second file `bridge.geom`, which defines the geometry and mesh. The initial input matches the starting point of the optimization procedure following Kanarachos. "
   ]
  },
  {
   "cell_type": "code",
   "execution_count": null,
   "id": "09aecd49-1dc7-4865-8cee-cef47a343630",
   "metadata": {},
   "outputs": [],
   "source": [
    "# Read the input file and store in props object\n",
    "props = pu.parse_file('bridge_frequency.pro')\n",
    "\n",
    "# Call the program and store output in globdat\n",
    "globdat = main.jive(props)\n",
    "\n",
    "# Write additional output\n",
    "print('Smallest three natural frequencies: ', globdat[gn.EIGENFREQS][0:3]/2/np.pi, ' Hz')"
   ]
  },
  {
   "cell_type": "markdown",
   "id": "2b9f9cac-ac73-4151-be39-201d0ac2e87c",
   "metadata": {},
   "source": [
    "### Optimal design from Kanarachos"
   ]
  },
  {
   "cell_type": "markdown",
   "id": "47f9b413-bf24-4077-a374-b84a2ccf199a",
   "metadata": {},
   "source": [
    "Now, two changes are made to the problem settings to make the analysis match the optimum solution of Kanarachos. The `props` object, which contains the information from `bridge.pro` in the form of a nested `dict` is overwritten at two of its entries.\n",
    "- **Cross sectional areas:** these are defined in `props['model']['truss']['area']`\n",
    "- **Truss geometry:** for this a separate `.geom` file has already been prepared and the program is told to use this one by overwriting the entry `props['init']['mesh']['file']`. Check the differences between the two `.geom`-files in this folder to see how the geometry is updated."
   ]
  },
  {
   "cell_type": "code",
   "execution_count": null,
   "id": "280127a8-a235-4385-894a-dca92a0aaf2e",
   "metadata": {},
   "outputs": [],
   "source": [
    "# Overwrite relevant inputs\n",
    "props['model']['truss']['area'] = [ 40e-4, 3.1997e-4, 1.0025e-4, 1.0000e-4, 2.5875e-4, 1.0895e-4, 1.1261e-4, 2.5624e-4, 1.4121e-4, 1.5758e-4, 2.2461e-4, 1.0694e-4, 1.3193e-4, 2.3846e-4, 1.0001e-4 ]\n",
    "props['init']['mesh']['file'] = 'bridge_kanarachos.geom'\n",
    "\n",
    "# Call program with updated inputs\n",
    "globdat = main.jive(props)\n",
    "print('Smallest three natural frequencies: ', globdat[gn.EIGENFREQS][0:3]/2/np.pi, ' Hz')"
   ]
  }
 ],
 "metadata": {
  "kernelspec": {
   "display_name": "Python 3 (ipykernel)",
   "language": "python",
   "name": "python3"
  },
  "language_info": {
   "codemirror_mode": {
    "name": "ipython",
    "version": 3
   },
   "file_extension": ".py",
   "mimetype": "text/x-python",
   "name": "python",
   "nbconvert_exporter": "python",
   "pygments_lexer": "ipython3",
   "version": "3.10.12"
  }
 },
 "nbformat": 4,
 "nbformat_minor": 5
}
